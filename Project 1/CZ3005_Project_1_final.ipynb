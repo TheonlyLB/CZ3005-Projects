{
  "cells": [
    {
      "cell_type": "markdown",
      "id": "cbf929e8",
      "metadata": {
        "id": "cbf929e8"
      },
      "source": [
        "# CZ3005 Project 1 - Balancing a Pole on a Cart"
      ]
    },
    {
      "cell_type": "markdown",
      "id": "34e6fb8e",
      "metadata": {
        "id": "34e6fb8e"
      },
      "source": [
        "### Done by: Zon Liew (U1921098F), Charlotte Teo (U2022021G), Paul Low (U2022421F)"
      ]
    },
    {
      "cell_type": "markdown",
      "id": "0fa7c32e",
      "metadata": {
        "id": "0fa7c32e"
      },
      "source": [
        "Objectives:\n",
        "Apply Linear annealed policy with the EpsGreedyQPolicy as the inner policy:\n",
        "Achieve a DQN model that trains in the least possible number of episodes.\n",
        "Balance pole on the cart for 500 steps for 100 consecutive episodes while testing.\n",
        "\n",
        "Epsilon-Greedy chooses the optimal action at each step, but sometimes randomly chooses an unlikely option.\n",
        "We specify an initially high exploration rate (epsilon) of 1 at the beginning of Q function training because we know nothing about the importance of the Q table. Epsilon value is decreased as the agent has more confidence in the Q values.\n",
        "\n",
        "A DQN agent can be used in any environment which has a discrete action space.\n",
        "It is based on the Q - Network, a neural network model that can learn to predict Q-Values (expected returns) for all actions, given an observation from the environment.\n",
        "\n",
        "The hyperparameters are:\n",
        "\n",
        "Size of 1st fully connected layer: 256\n",
        "Size of 2nd fully connected layer: 512\n",
        "Period of the update of the target network parameters: 1000 steps\n",
        "Discount factor: 0.99\n",
        "Decay factor for epsilon in epsilon-greedy policy: 0.99\n",
        "Minimum epsilon in epsilon-greeddy policy: 1E-4\n",
        "Learning rate: 3E-4\n",
        "Size of replay memory: 1000000\n",
        "Period of experience replay: 4 steps\n",
        "PER alpha: 0.2\n",
        "PER beta0: 0.4\n"
      ]
    },
    {
      "cell_type": "markdown",
      "id": "ee149986",
      "metadata": {
        "id": "ee149986"
      },
      "source": [
        "\n",
        "## Task 1\n"
      ]
    },
    {
      "cell_type": "code",
      "execution_count": 1,
      "id": "a4af0a72",
      "metadata": {
        "colab": {
          "base_uri": "https://localhost:8080/"
        },
        "id": "a4af0a72",
        "outputId": "61de628b-c8c5-4ffd-a08e-87796bc2c1c7"
      },
      "outputs": [
        {
          "output_type": "stream",
          "name": "stdout",
          "text": [
            "Looking in indexes: https://pypi.org/simple, https://us-python.pkg.dev/colab-wheels/public/simple/\n",
            "Requirement already satisfied: gym[classic_control] in /usr/local/lib/python3.9/dist-packages (0.25.2)\n",
            "Requirement already satisfied: importlib-metadata>=4.8.0 in /usr/local/lib/python3.9/dist-packages (from gym[classic_control]) (6.1.0)\n",
            "Requirement already satisfied: gym-notices>=0.0.4 in /usr/local/lib/python3.9/dist-packages (from gym[classic_control]) (0.0.8)\n",
            "Requirement already satisfied: numpy>=1.18.0 in /usr/local/lib/python3.9/dist-packages (from gym[classic_control]) (1.22.4)\n",
            "Requirement already satisfied: cloudpickle>=1.2.0 in /usr/local/lib/python3.9/dist-packages (from gym[classic_control]) (2.2.1)\n",
            "Collecting pygame==2.1.0\n",
            "  Downloading pygame-2.1.0-cp39-cp39-manylinux_2_17_x86_64.manylinux2014_x86_64.whl (18.3 MB)\n",
            "\u001b[2K     \u001b[90m━━━━━━━━━━━━━━━━━━━━━━━━━━━━━━━━━━━━━━━━\u001b[0m \u001b[32m18.3/18.3 MB\u001b[0m \u001b[31m59.5 MB/s\u001b[0m eta \u001b[36m0:00:00\u001b[0m\n",
            "\u001b[?25hRequirement already satisfied: zipp>=0.5 in /usr/local/lib/python3.9/dist-packages (from importlib-metadata>=4.8.0->gym[classic_control]) (3.15.0)\n",
            "Installing collected packages: pygame\n",
            "  Attempting uninstall: pygame\n",
            "    Found existing installation: pygame 2.3.0\n",
            "    Uninstalling pygame-2.3.0:\n",
            "      Successfully uninstalled pygame-2.3.0\n",
            "Successfully installed pygame-2.1.0\n",
            "Looking in indexes: https://pypi.org/simple, https://us-python.pkg.dev/colab-wheels/public/simple/\n",
            "Requirement already satisfied: setuptools in /usr/local/lib/python3.9/dist-packages (67.6.0)\n",
            "/bin/bash: z: ambiguous redirect\n"
          ]
        }
      ],
      "source": [
        "!apt-get install -y xvfb python-opengl > /dev/null 2>&1\n",
        "!pip install gym pyvirtualdisplay > /dev/null 2>&1\n",
        "!pip install gym pyvirtualdisplay > /dev/null 2>&1\n",
        "!apt-get install -y xvfb python-opengl ffmpeg > /dev/null 2>&1\n",
        "!pip install gym[classic_control]\n",
        "!apt-get update > /dev/null 2>&1\n",
        "!apt-get install cmake > /dev/null 2>&1\n",
        "!pip install --upgrade setuptools 2>&1\n",
        "!pip install ez_setup > /dev/null 2>&z"
      ]
    },
    {
      "cell_type": "markdown",
      "id": "VGCywaOX6Dv9",
      "metadata": {
        "id": "VGCywaOX6Dv9"
      },
      "source": [
        "# Import Dependencies"
      ]
    },
    {
      "cell_type": "code",
      "execution_count": 2,
      "id": "ab9d7358",
      "metadata": {
        "id": "ab9d7358"
      },
      "outputs": [],
      "source": [
        "import gym\n",
        "from gym import logger as gymlogger\n",
        "gymlogger.set_level(40) #error only\n",
        "import tensorflow as tf\n",
        "import numpy as np\n",
        "import random\n",
        "import matplotlib\n",
        "import matplotlib.pyplot as plt\n",
        "%matplotlib inline\n",
        "import math\n",
        "import glob\n",
        "import io\n",
        "import base64\n",
        "from IPython.display import HTML\n",
        "from IPython import display as ipythondisplay\n",
        "\n",
        "def show_video():\n",
        "  mp4list = glob.glob('video/*.mp4')\n",
        "  if len(mp4list) > 0:\n",
        "    mp4 = mp4list[0]\n",
        "    video = io.open(mp4, 'r+b').read()\n",
        "    encoded = base64.b64encode(video)\n",
        "    ipythondisplay.display(HTML(data='''<video alt=\"test\" autoplay \n",
        "                loop controls style=\"height: 400px;\">\n",
        "                <source src=\"data:video/mp4;base64,{0}\" type=\"video/mp4\" />\n",
        "             </video>'''.format(encoded.decode('ascii'))))\n",
        "  else: \n",
        "    print(\"Could not find video\")"
      ]
    },
    {
      "cell_type": "code",
      "source": [
        "#Install keras rl2 which seamlessly integrates with the  OpenAI Gym  to evaluate and play around with DQN Algorithm\n",
        "\n",
        "!pip install rl-agents==0.1.1\n",
        "!pip install keras-rl2\n",
        "!pip install dopamine-rl\n",
        "\n"
      ],
      "metadata": {
        "id": "NVkY5wKJENam",
        "outputId": "94d6daeb-c182-4a55-c5b1-34dfd2747969",
        "colab": {
          "base_uri": "https://localhost:8080/",
          "height": 1000
        }
      },
      "id": "NVkY5wKJENam",
      "execution_count": 3,
      "outputs": [
        {
          "output_type": "stream",
          "name": "stdout",
          "text": [
            "Looking in indexes: https://pypi.org/simple, https://us-python.pkg.dev/colab-wheels/public/simple/\n",
            "Collecting rl-agents==0.1.1\n",
            "  Downloading rl_agents-0.1.1-py3-none-any.whl (17 kB)\n",
            "Collecting gym<0.18.0,>=0.17.2\n",
            "  Downloading gym-0.17.3.tar.gz (1.6 MB)\n",
            "\u001b[2K     \u001b[90m━━━━━━━━━━━━━━━━━━━━━━━━━━━━━━━━━━━━━━━━\u001b[0m \u001b[32m1.6/1.6 MB\u001b[0m \u001b[31m21.2 MB/s\u001b[0m eta \u001b[36m0:00:00\u001b[0m\n",
            "\u001b[?25h  Preparing metadata (setup.py) ... \u001b[?25l\u001b[?25hdone\n",
            "Requirement already satisfied: tqdm<5.0.0,>=4.46.0 in /usr/local/lib/python3.9/dist-packages (from rl-agents==0.1.1) (4.65.0)\n",
            "Requirement already satisfied: numpy<2.0.0,>=1.18.4 in /usr/local/lib/python3.9/dist-packages (from rl-agents==0.1.1) (1.22.4)\n",
            "Requirement already satisfied: scipy in /usr/local/lib/python3.9/dist-packages (from gym<0.18.0,>=0.17.2->rl-agents==0.1.1) (1.10.1)\n",
            "Collecting pyglet<=1.5.0,>=1.4.0\n",
            "  Downloading pyglet-1.5.0-py2.py3-none-any.whl (1.0 MB)\n",
            "\u001b[2K     \u001b[90m━━━━━━━━━━━━━━━━━━━━━━━━━━━━━━━━━━━━━━━━\u001b[0m \u001b[32m1.0/1.0 MB\u001b[0m \u001b[31m43.2 MB/s\u001b[0m eta \u001b[36m0:00:00\u001b[0m\n",
            "\u001b[?25hCollecting cloudpickle<1.7.0,>=1.2.0\n",
            "  Downloading cloudpickle-1.6.0-py3-none-any.whl (23 kB)\n",
            "Requirement already satisfied: future in /usr/local/lib/python3.9/dist-packages (from pyglet<=1.5.0,>=1.4.0->gym<0.18.0,>=0.17.2->rl-agents==0.1.1) (0.18.3)\n",
            "Building wheels for collected packages: gym\n",
            "  Building wheel for gym (setup.py) ... \u001b[?25l\u001b[?25hdone\n",
            "  Created wheel for gym: filename=gym-0.17.3-py3-none-any.whl size=1654650 sha256=1d89be094caaeeab8b254fb93b21ebfeca04800b5e31d27ef9c5ce4432e2e2fa\n",
            "  Stored in directory: /root/.cache/pip/wheels/5d/06/a4/57a926b2e87a5e1f21551577750549206dde639e19a5ac72d5\n",
            "Successfully built gym\n",
            "Installing collected packages: pyglet, cloudpickle, gym, rl-agents\n",
            "  Attempting uninstall: cloudpickle\n",
            "    Found existing installation: cloudpickle 2.2.1\n",
            "    Uninstalling cloudpickle-2.2.1:\n",
            "      Successfully uninstalled cloudpickle-2.2.1\n",
            "  Attempting uninstall: gym\n",
            "    Found existing installation: gym 0.25.2\n",
            "    Uninstalling gym-0.25.2:\n",
            "      Successfully uninstalled gym-0.25.2\n",
            "Successfully installed cloudpickle-1.6.0 gym-0.17.3 pyglet-1.5.0 rl-agents-0.1.1\n"
          ]
        },
        {
          "output_type": "display_data",
          "data": {
            "application/vnd.colab-display-data+json": {
              "pip_warning": {
                "packages": [
                  "cloudpickle",
                  "gym"
                ]
              }
            }
          },
          "metadata": {}
        },
        {
          "output_type": "stream",
          "name": "stdout",
          "text": [
            "Looking in indexes: https://pypi.org/simple, https://us-python.pkg.dev/colab-wheels/public/simple/\n",
            "Collecting keras-rl2\n",
            "  Downloading keras_rl2-1.0.5-py3-none-any.whl (52 kB)\n",
            "\u001b[2K     \u001b[90m━━━━━━━━━━━━━━━━━━━━━━━━━━━━━━━━━━━━━━━━\u001b[0m \u001b[32m52.1/52.1 KB\u001b[0m \u001b[31m2.9 MB/s\u001b[0m eta \u001b[36m0:00:00\u001b[0m\n",
            "\u001b[?25hRequirement already satisfied: tensorflow in /usr/local/lib/python3.9/dist-packages (from keras-rl2) (2.11.0)\n",
            "Requirement already satisfied: tensorflow-estimator<2.12,>=2.11.0 in /usr/local/lib/python3.9/dist-packages (from tensorflow->keras-rl2) (2.11.0)\n",
            "Requirement already satisfied: termcolor>=1.1.0 in /usr/local/lib/python3.9/dist-packages (from tensorflow->keras-rl2) (2.2.0)\n",
            "Requirement already satisfied: absl-py>=1.0.0 in /usr/local/lib/python3.9/dist-packages (from tensorflow->keras-rl2) (1.4.0)\n",
            "Requirement already satisfied: h5py>=2.9.0 in /usr/local/lib/python3.9/dist-packages (from tensorflow->keras-rl2) (3.8.0)\n",
            "Requirement already satisfied: setuptools in /usr/local/lib/python3.9/dist-packages (from tensorflow->keras-rl2) (67.6.0)\n",
            "Requirement already satisfied: keras<2.12,>=2.11.0 in /usr/local/lib/python3.9/dist-packages (from tensorflow->keras-rl2) (2.11.0)\n",
            "Requirement already satisfied: protobuf<3.20,>=3.9.2 in /usr/local/lib/python3.9/dist-packages (from tensorflow->keras-rl2) (3.19.6)\n",
            "Requirement already satisfied: libclang>=13.0.0 in /usr/local/lib/python3.9/dist-packages (from tensorflow->keras-rl2) (15.0.6.1)\n",
            "Requirement already satisfied: typing-extensions>=3.6.6 in /usr/local/lib/python3.9/dist-packages (from tensorflow->keras-rl2) (4.5.0)\n",
            "Requirement already satisfied: packaging in /usr/local/lib/python3.9/dist-packages (from tensorflow->keras-rl2) (23.0)\n",
            "Requirement already satisfied: flatbuffers>=2.0 in /usr/local/lib/python3.9/dist-packages (from tensorflow->keras-rl2) (23.3.3)\n",
            "Requirement already satisfied: opt-einsum>=2.3.2 in /usr/local/lib/python3.9/dist-packages (from tensorflow->keras-rl2) (3.3.0)\n",
            "Requirement already satisfied: grpcio<2.0,>=1.24.3 in /usr/local/lib/python3.9/dist-packages (from tensorflow->keras-rl2) (1.51.3)\n",
            "Requirement already satisfied: six>=1.12.0 in /usr/local/lib/python3.9/dist-packages (from tensorflow->keras-rl2) (1.16.0)\n",
            "Requirement already satisfied: google-pasta>=0.1.1 in /usr/local/lib/python3.9/dist-packages (from tensorflow->keras-rl2) (0.2.0)\n",
            "Requirement already satisfied: tensorflow-io-gcs-filesystem>=0.23.1 in /usr/local/lib/python3.9/dist-packages (from tensorflow->keras-rl2) (0.31.0)\n",
            "Requirement already satisfied: numpy>=1.20 in /usr/local/lib/python3.9/dist-packages (from tensorflow->keras-rl2) (1.22.4)\n",
            "Requirement already satisfied: wrapt>=1.11.0 in /usr/local/lib/python3.9/dist-packages (from tensorflow->keras-rl2) (1.15.0)\n",
            "Requirement already satisfied: astunparse>=1.6.0 in /usr/local/lib/python3.9/dist-packages (from tensorflow->keras-rl2) (1.6.3)\n",
            "Requirement already satisfied: gast<=0.4.0,>=0.2.1 in /usr/local/lib/python3.9/dist-packages (from tensorflow->keras-rl2) (0.4.0)\n",
            "Requirement already satisfied: tensorboard<2.12,>=2.11 in /usr/local/lib/python3.9/dist-packages (from tensorflow->keras-rl2) (2.11.2)\n",
            "Requirement already satisfied: wheel<1.0,>=0.23.0 in /usr/local/lib/python3.9/dist-packages (from astunparse>=1.6.0->tensorflow->keras-rl2) (0.40.0)\n",
            "Requirement already satisfied: markdown>=2.6.8 in /usr/local/lib/python3.9/dist-packages (from tensorboard<2.12,>=2.11->tensorflow->keras-rl2) (3.4.2)\n",
            "Requirement already satisfied: google-auth<3,>=1.6.3 in /usr/local/lib/python3.9/dist-packages (from tensorboard<2.12,>=2.11->tensorflow->keras-rl2) (2.16.2)\n",
            "Requirement already satisfied: requests<3,>=2.21.0 in /usr/local/lib/python3.9/dist-packages (from tensorboard<2.12,>=2.11->tensorflow->keras-rl2) (2.27.1)\n",
            "Requirement already satisfied: tensorboard-plugin-wit>=1.6.0 in /usr/local/lib/python3.9/dist-packages (from tensorboard<2.12,>=2.11->tensorflow->keras-rl2) (1.8.1)\n",
            "Requirement already satisfied: tensorboard-data-server<0.7.0,>=0.6.0 in /usr/local/lib/python3.9/dist-packages (from tensorboard<2.12,>=2.11->tensorflow->keras-rl2) (0.6.1)\n",
            "Requirement already satisfied: werkzeug>=1.0.1 in /usr/local/lib/python3.9/dist-packages (from tensorboard<2.12,>=2.11->tensorflow->keras-rl2) (2.2.3)\n",
            "Requirement already satisfied: google-auth-oauthlib<0.5,>=0.4.1 in /usr/local/lib/python3.9/dist-packages (from tensorboard<2.12,>=2.11->tensorflow->keras-rl2) (0.4.6)\n",
            "Requirement already satisfied: pyasn1-modules>=0.2.1 in /usr/local/lib/python3.9/dist-packages (from google-auth<3,>=1.6.3->tensorboard<2.12,>=2.11->tensorflow->keras-rl2) (0.2.8)\n",
            "Requirement already satisfied: rsa<5,>=3.1.4 in /usr/local/lib/python3.9/dist-packages (from google-auth<3,>=1.6.3->tensorboard<2.12,>=2.11->tensorflow->keras-rl2) (4.9)\n",
            "Requirement already satisfied: cachetools<6.0,>=2.0.0 in /usr/local/lib/python3.9/dist-packages (from google-auth<3,>=1.6.3->tensorboard<2.12,>=2.11->tensorflow->keras-rl2) (5.3.0)\n",
            "Requirement already satisfied: requests-oauthlib>=0.7.0 in /usr/local/lib/python3.9/dist-packages (from google-auth-oauthlib<0.5,>=0.4.1->tensorboard<2.12,>=2.11->tensorflow->keras-rl2) (1.3.1)\n",
            "Requirement already satisfied: importlib-metadata>=4.4 in /usr/local/lib/python3.9/dist-packages (from markdown>=2.6.8->tensorboard<2.12,>=2.11->tensorflow->keras-rl2) (6.1.0)\n",
            "Requirement already satisfied: urllib3<1.27,>=1.21.1 in /usr/local/lib/python3.9/dist-packages (from requests<3,>=2.21.0->tensorboard<2.12,>=2.11->tensorflow->keras-rl2) (1.26.15)\n",
            "Requirement already satisfied: certifi>=2017.4.17 in /usr/local/lib/python3.9/dist-packages (from requests<3,>=2.21.0->tensorboard<2.12,>=2.11->tensorflow->keras-rl2) (2022.12.7)\n",
            "Requirement already satisfied: charset-normalizer~=2.0.0 in /usr/local/lib/python3.9/dist-packages (from requests<3,>=2.21.0->tensorboard<2.12,>=2.11->tensorflow->keras-rl2) (2.0.12)\n",
            "Requirement already satisfied: idna<4,>=2.5 in /usr/local/lib/python3.9/dist-packages (from requests<3,>=2.21.0->tensorboard<2.12,>=2.11->tensorflow->keras-rl2) (3.4)\n",
            "Requirement already satisfied: MarkupSafe>=2.1.1 in /usr/local/lib/python3.9/dist-packages (from werkzeug>=1.0.1->tensorboard<2.12,>=2.11->tensorflow->keras-rl2) (2.1.2)\n",
            "Requirement already satisfied: zipp>=0.5 in /usr/local/lib/python3.9/dist-packages (from importlib-metadata>=4.4->markdown>=2.6.8->tensorboard<2.12,>=2.11->tensorflow->keras-rl2) (3.15.0)\n",
            "Requirement already satisfied: pyasn1<0.5.0,>=0.4.6 in /usr/local/lib/python3.9/dist-packages (from pyasn1-modules>=0.2.1->google-auth<3,>=1.6.3->tensorboard<2.12,>=2.11->tensorflow->keras-rl2) (0.4.8)\n",
            "Requirement already satisfied: oauthlib>=3.0.0 in /usr/local/lib/python3.9/dist-packages (from requests-oauthlib>=0.7.0->google-auth-oauthlib<0.5,>=0.4.1->tensorboard<2.12,>=2.11->tensorflow->keras-rl2) (3.2.2)\n",
            "Installing collected packages: keras-rl2\n",
            "Successfully installed keras-rl2-1.0.5\n",
            "Looking in indexes: https://pypi.org/simple, https://us-python.pkg.dev/colab-wheels/public/simple/\n",
            "Requirement already satisfied: dopamine-rl in /usr/local/lib/python3.9/dist-packages (4.0.6)\n",
            "Requirement already satisfied: pygame>=1.9.2 in /usr/local/lib/python3.9/dist-packages (from dopamine-rl) (2.1.0)\n",
            "Requirement already satisfied: numpy>=1.16.4 in /usr/local/lib/python3.9/dist-packages (from dopamine-rl) (1.22.4)\n",
            "Requirement already satisfied: jaxlib>=0.1.51 in /usr/local/lib/python3.9/dist-packages (from dopamine-rl) (0.4.6+cuda11.cudnn86)\n",
            "Requirement already satisfied: pandas>=0.24.2 in /usr/local/lib/python3.9/dist-packages (from dopamine-rl) (1.4.4)\n",
            "Requirement already satisfied: tf-slim>=1.0 in /usr/local/lib/python3.9/dist-packages (from dopamine-rl) (1.1.0)\n",
            "Requirement already satisfied: tensorflow>=2.2.0 in /usr/local/lib/python3.9/dist-packages (from dopamine-rl) (2.11.0)\n",
            "Requirement already satisfied: opencv-python>=3.4.8.29 in /usr/local/lib/python3.9/dist-packages (from dopamine-rl) (4.7.0.72)\n",
            "Requirement already satisfied: tensorflow-probability>=0.13.0 in /usr/local/lib/python3.9/dist-packages (from dopamine-rl) (0.19.0)\n",
            "Requirement already satisfied: Pillow>=7.0.0 in /usr/local/lib/python3.9/dist-packages (from dopamine-rl) (8.4.0)\n",
            "Requirement already satisfied: jax>=0.1.72 in /usr/local/lib/python3.9/dist-packages (from dopamine-rl) (0.4.6)\n",
            "Requirement already satisfied: flax>=0.2.0 in /usr/local/lib/python3.9/dist-packages (from dopamine-rl) (0.6.7)\n",
            "Requirement already satisfied: absl-py>=0.9.0 in /usr/local/lib/python3.9/dist-packages (from dopamine-rl) (1.4.0)\n",
            "Requirement already satisfied: gin-config>=0.3.0 in /usr/local/lib/python3.9/dist-packages (from dopamine-rl) (0.5.0)\n",
            "Requirement already satisfied: gym<=0.25.2 in /usr/local/lib/python3.9/dist-packages (from dopamine-rl) (0.17.3)\n",
            "Requirement already satisfied: msgpack in /usr/local/lib/python3.9/dist-packages (from flax>=0.2.0->dopamine-rl) (1.0.5)\n",
            "Requirement already satisfied: PyYAML>=5.4.1 in /usr/local/lib/python3.9/dist-packages (from flax>=0.2.0->dopamine-rl) (6.0)\n",
            "Requirement already satisfied: orbax in /usr/local/lib/python3.9/dist-packages (from flax>=0.2.0->dopamine-rl) (0.1.6)\n",
            "Requirement already satisfied: typing-extensions>=4.1.1 in /usr/local/lib/python3.9/dist-packages (from flax>=0.2.0->dopamine-rl) (4.5.0)\n",
            "Requirement already satisfied: rich>=11.1 in /usr/local/lib/python3.9/dist-packages (from flax>=0.2.0->dopamine-rl) (13.3.2)\n",
            "Requirement already satisfied: tensorstore in /usr/local/lib/python3.9/dist-packages (from flax>=0.2.0->dopamine-rl) (0.1.33)\n",
            "Requirement already satisfied: optax in /usr/local/lib/python3.9/dist-packages (from flax>=0.2.0->dopamine-rl) (0.1.4)\n",
            "Requirement already satisfied: cloudpickle<1.7.0,>=1.2.0 in /usr/local/lib/python3.9/dist-packages (from gym<=0.25.2->dopamine-rl) (1.6.0)\n",
            "Requirement already satisfied: scipy in /usr/local/lib/python3.9/dist-packages (from gym<=0.25.2->dopamine-rl) (1.10.1)\n",
            "Requirement already satisfied: pyglet<=1.5.0,>=1.4.0 in /usr/local/lib/python3.9/dist-packages (from gym<=0.25.2->dopamine-rl) (1.5.0)\n",
            "Requirement already satisfied: opt-einsum in /usr/local/lib/python3.9/dist-packages (from jax>=0.1.72->dopamine-rl) (3.3.0)\n",
            "Requirement already satisfied: python-dateutil>=2.8.1 in /usr/local/lib/python3.9/dist-packages (from pandas>=0.24.2->dopamine-rl) (2.8.2)\n",
            "Requirement already satisfied: pytz>=2020.1 in /usr/local/lib/python3.9/dist-packages (from pandas>=0.24.2->dopamine-rl) (2022.7.1)\n",
            "Requirement already satisfied: gast<=0.4.0,>=0.2.1 in /usr/local/lib/python3.9/dist-packages (from tensorflow>=2.2.0->dopamine-rl) (0.4.0)\n",
            "Requirement already satisfied: keras<2.12,>=2.11.0 in /usr/local/lib/python3.9/dist-packages (from tensorflow>=2.2.0->dopamine-rl) (2.11.0)\n",
            "Requirement already satisfied: grpcio<2.0,>=1.24.3 in /usr/local/lib/python3.9/dist-packages (from tensorflow>=2.2.0->dopamine-rl) (1.51.3)\n",
            "Requirement already satisfied: h5py>=2.9.0 in /usr/local/lib/python3.9/dist-packages (from tensorflow>=2.2.0->dopamine-rl) (3.8.0)\n",
            "Requirement already satisfied: six>=1.12.0 in /usr/local/lib/python3.9/dist-packages (from tensorflow>=2.2.0->dopamine-rl) (1.16.0)\n",
            "Requirement already satisfied: google-pasta>=0.1.1 in /usr/local/lib/python3.9/dist-packages (from tensorflow>=2.2.0->dopamine-rl) (0.2.0)\n",
            "Requirement already satisfied: tensorboard<2.12,>=2.11 in /usr/local/lib/python3.9/dist-packages (from tensorflow>=2.2.0->dopamine-rl) (2.11.2)\n",
            "Requirement already satisfied: tensorflow-estimator<2.12,>=2.11.0 in /usr/local/lib/python3.9/dist-packages (from tensorflow>=2.2.0->dopamine-rl) (2.11.0)\n",
            "Requirement already satisfied: termcolor>=1.1.0 in /usr/local/lib/python3.9/dist-packages (from tensorflow>=2.2.0->dopamine-rl) (2.2.0)\n",
            "Requirement already satisfied: packaging in /usr/local/lib/python3.9/dist-packages (from tensorflow>=2.2.0->dopamine-rl) (23.0)\n",
            "Requirement already satisfied: flatbuffers>=2.0 in /usr/local/lib/python3.9/dist-packages (from tensorflow>=2.2.0->dopamine-rl) (23.3.3)\n",
            "Requirement already satisfied: setuptools in /usr/local/lib/python3.9/dist-packages (from tensorflow>=2.2.0->dopamine-rl) (67.6.0)\n",
            "Requirement already satisfied: protobuf<3.20,>=3.9.2 in /usr/local/lib/python3.9/dist-packages (from tensorflow>=2.2.0->dopamine-rl) (3.19.6)\n",
            "Requirement already satisfied: libclang>=13.0.0 in /usr/local/lib/python3.9/dist-packages (from tensorflow>=2.2.0->dopamine-rl) (15.0.6.1)\n",
            "Requirement already satisfied: astunparse>=1.6.0 in /usr/local/lib/python3.9/dist-packages (from tensorflow>=2.2.0->dopamine-rl) (1.6.3)\n",
            "Requirement already satisfied: tensorflow-io-gcs-filesystem>=0.23.1 in /usr/local/lib/python3.9/dist-packages (from tensorflow>=2.2.0->dopamine-rl) (0.31.0)\n",
            "Requirement already satisfied: wrapt>=1.11.0 in /usr/local/lib/python3.9/dist-packages (from tensorflow>=2.2.0->dopamine-rl) (1.15.0)\n",
            "Requirement already satisfied: decorator in /usr/local/lib/python3.9/dist-packages (from tensorflow-probability>=0.13.0->dopamine-rl) (4.4.2)\n",
            "Requirement already satisfied: dm-tree in /usr/local/lib/python3.9/dist-packages (from tensorflow-probability>=0.13.0->dopamine-rl) (0.1.8)\n",
            "Requirement already satisfied: wheel<1.0,>=0.23.0 in /usr/local/lib/python3.9/dist-packages (from astunparse>=1.6.0->tensorflow>=2.2.0->dopamine-rl) (0.40.0)\n",
            "Requirement already satisfied: future in /usr/local/lib/python3.9/dist-packages (from pyglet<=1.5.0,>=1.4.0->gym<=0.25.2->dopamine-rl) (0.18.3)\n",
            "Requirement already satisfied: pygments<3.0.0,>=2.13.0 in /usr/local/lib/python3.9/dist-packages (from rich>=11.1->flax>=0.2.0->dopamine-rl) (2.14.0)\n",
            "Requirement already satisfied: markdown-it-py<3.0.0,>=2.2.0 in /usr/local/lib/python3.9/dist-packages (from rich>=11.1->flax>=0.2.0->dopamine-rl) (2.2.0)\n",
            "Requirement already satisfied: requests<3,>=2.21.0 in /usr/local/lib/python3.9/dist-packages (from tensorboard<2.12,>=2.11->tensorflow>=2.2.0->dopamine-rl) (2.27.1)\n",
            "Requirement already satisfied: google-auth<3,>=1.6.3 in /usr/local/lib/python3.9/dist-packages (from tensorboard<2.12,>=2.11->tensorflow>=2.2.0->dopamine-rl) (2.16.2)\n",
            "Requirement already satisfied: google-auth-oauthlib<0.5,>=0.4.1 in /usr/local/lib/python3.9/dist-packages (from tensorboard<2.12,>=2.11->tensorflow>=2.2.0->dopamine-rl) (0.4.6)\n",
            "Requirement already satisfied: markdown>=2.6.8 in /usr/local/lib/python3.9/dist-packages (from tensorboard<2.12,>=2.11->tensorflow>=2.2.0->dopamine-rl) (3.4.2)\n",
            "Requirement already satisfied: tensorboard-data-server<0.7.0,>=0.6.0 in /usr/local/lib/python3.9/dist-packages (from tensorboard<2.12,>=2.11->tensorflow>=2.2.0->dopamine-rl) (0.6.1)\n",
            "Requirement already satisfied: werkzeug>=1.0.1 in /usr/local/lib/python3.9/dist-packages (from tensorboard<2.12,>=2.11->tensorflow>=2.2.0->dopamine-rl) (2.2.3)\n",
            "Requirement already satisfied: tensorboard-plugin-wit>=1.6.0 in /usr/local/lib/python3.9/dist-packages (from tensorboard<2.12,>=2.11->tensorflow>=2.2.0->dopamine-rl) (1.8.1)\n",
            "Requirement already satisfied: chex>=0.1.5 in /usr/local/lib/python3.9/dist-packages (from optax->flax>=0.2.0->dopamine-rl) (0.1.6)\n",
            "Requirement already satisfied: cached_property in /usr/local/lib/python3.9/dist-packages (from orbax->flax>=0.2.0->dopamine-rl) (1.5.2)\n",
            "Requirement already satisfied: etils in /usr/local/lib/python3.9/dist-packages (from orbax->flax>=0.2.0->dopamine-rl) (1.1.1)\n",
            "Requirement already satisfied: nest_asyncio in /usr/local/lib/python3.9/dist-packages (from orbax->flax>=0.2.0->dopamine-rl) (1.5.6)\n",
            "Requirement already satisfied: importlib_resources in /usr/local/lib/python3.9/dist-packages (from orbax->flax>=0.2.0->dopamine-rl) (5.12.0)\n",
            "Requirement already satisfied: toolz>=0.9.0 in /usr/local/lib/python3.9/dist-packages (from chex>=0.1.5->optax->flax>=0.2.0->dopamine-rl) (0.12.0)\n",
            "Requirement already satisfied: cachetools<6.0,>=2.0.0 in /usr/local/lib/python3.9/dist-packages (from google-auth<3,>=1.6.3->tensorboard<2.12,>=2.11->tensorflow>=2.2.0->dopamine-rl) (5.3.0)\n",
            "Requirement already satisfied: pyasn1-modules>=0.2.1 in /usr/local/lib/python3.9/dist-packages (from google-auth<3,>=1.6.3->tensorboard<2.12,>=2.11->tensorflow>=2.2.0->dopamine-rl) (0.2.8)\n",
            "Requirement already satisfied: rsa<5,>=3.1.4 in /usr/local/lib/python3.9/dist-packages (from google-auth<3,>=1.6.3->tensorboard<2.12,>=2.11->tensorflow>=2.2.0->dopamine-rl) (4.9)\n",
            "Requirement already satisfied: requests-oauthlib>=0.7.0 in /usr/local/lib/python3.9/dist-packages (from google-auth-oauthlib<0.5,>=0.4.1->tensorboard<2.12,>=2.11->tensorflow>=2.2.0->dopamine-rl) (1.3.1)\n",
            "Requirement already satisfied: importlib-metadata>=4.4 in /usr/local/lib/python3.9/dist-packages (from markdown>=2.6.8->tensorboard<2.12,>=2.11->tensorflow>=2.2.0->dopamine-rl) (6.1.0)\n",
            "Requirement already satisfied: mdurl~=0.1 in /usr/local/lib/python3.9/dist-packages (from markdown-it-py<3.0.0,>=2.2.0->rich>=11.1->flax>=0.2.0->dopamine-rl) (0.1.2)\n",
            "Requirement already satisfied: charset-normalizer~=2.0.0 in /usr/local/lib/python3.9/dist-packages (from requests<3,>=2.21.0->tensorboard<2.12,>=2.11->tensorflow>=2.2.0->dopamine-rl) (2.0.12)\n",
            "Requirement already satisfied: urllib3<1.27,>=1.21.1 in /usr/local/lib/python3.9/dist-packages (from requests<3,>=2.21.0->tensorboard<2.12,>=2.11->tensorflow>=2.2.0->dopamine-rl) (1.26.15)\n",
            "Requirement already satisfied: idna<4,>=2.5 in /usr/local/lib/python3.9/dist-packages (from requests<3,>=2.21.0->tensorboard<2.12,>=2.11->tensorflow>=2.2.0->dopamine-rl) (3.4)\n",
            "Requirement already satisfied: certifi>=2017.4.17 in /usr/local/lib/python3.9/dist-packages (from requests<3,>=2.21.0->tensorboard<2.12,>=2.11->tensorflow>=2.2.0->dopamine-rl) (2022.12.7)\n",
            "Requirement already satisfied: MarkupSafe>=2.1.1 in /usr/local/lib/python3.9/dist-packages (from werkzeug>=1.0.1->tensorboard<2.12,>=2.11->tensorflow>=2.2.0->dopamine-rl) (2.1.2)\n",
            "Requirement already satisfied: zipp>=3.1.0 in /usr/local/lib/python3.9/dist-packages (from importlib_resources->orbax->flax>=0.2.0->dopamine-rl) (3.15.0)\n",
            "Requirement already satisfied: pyasn1<0.5.0,>=0.4.6 in /usr/local/lib/python3.9/dist-packages (from pyasn1-modules>=0.2.1->google-auth<3,>=1.6.3->tensorboard<2.12,>=2.11->tensorflow>=2.2.0->dopamine-rl) (0.4.8)\n",
            "Requirement already satisfied: oauthlib>=3.0.0 in /usr/local/lib/python3.9/dist-packages (from requests-oauthlib>=0.7.0->google-auth-oauthlib<0.5,>=0.4.1->tensorboard<2.12,>=2.11->tensorflow>=2.2.0->dopamine-rl) (3.2.2)\n"
          ]
        }
      ]
    },
    {
      "cell_type": "code",
      "execution_count": 4,
      "id": "d274e11a",
      "metadata": {
        "id": "d274e11a"
      },
      "outputs": [],
      "source": [
        "import matplotlib.pyplot as plt\n",
        "import keras\n",
        "from keras import Sequential\n",
        "from keras.layers import Input, Flatten, Dense\n",
        "import numpy as np\n",
        "from rl.memory import SequentialMemory\n",
        "from rl.agents.dqn import DQNAgent\n",
        "from rl.policy import LinearAnnealedPolicy, EpsGreedyQPolicy\n",
        "from tensorflow.keras.optimizers import Adam"
      ]
    },
    {
      "cell_type": "markdown",
      "id": "qJKIP-tc53rz",
      "metadata": {
        "id": "qJKIP-tc53rz"
      },
      "source": [
        "# Initialisation of Cartpole Environment\n",
        "Loaded from Open AI gym suite"
      ]
    },
    {
      "cell_type": "code",
      "execution_count": 5,
      "id": "a989c1ca",
      "metadata": {
        "id": "a989c1ca"
      },
      "outputs": [],
      "source": [
        "#Load the CartPole environment from the OpenAI Gym suite\n",
        "env = gym.make(\"CartPole-v1\")"
      ]
    },
    {
      "cell_type": "code",
      "execution_count": 6,
      "id": "595026ba",
      "metadata": {
        "colab": {
          "base_uri": "https://localhost:8080/"
        },
        "id": "595026ba",
        "outputId": "96573b46-d7bc-422b-fea8-f2e19a7e3d23"
      },
      "outputs": [
        {
          "output_type": "stream",
          "name": "stdout",
          "text": [
            "Initial observation: [-0.02765606  0.04813557  0.01962801  0.04544257]\n"
          ]
        }
      ],
      "source": [
        "#Resets the environment to an initial state and returns the initial observation.\n",
        "initial_observation = env.reset()\n",
        "print(\"Initial observation:\", initial_observation)\n",
        "cumulative_reward = 0\n",
        "done = False\n"
      ]
    },
    {
      "cell_type": "markdown",
      "id": "X8-aDhiR5JMQ",
      "metadata": {
        "id": "X8-aDhiR5JMQ"
      },
      "source": [
        "Observation corresponds to  'cart position', 'cart velocity', 'pole angle', and 'pole velocity' respectively.\n"
      ]
    },
    {
      "cell_type": "markdown",
      "id": "WpxvyDAD5xwQ",
      "metadata": {
        "id": "WpxvyDAD5xwQ"
      },
      "source": [
        "# Initialisation of Agent\n",
        "\n",
        "Setup of Deep Q-Network (DQN) agent using Keras-RL library for reinforcement learning.\n",
        "\n",
        "Important functions used include:\n",
        "1. SequentialMemory: This sets up an experience replay buffer with a capacity limit of 50,000 and a window length of 1. The buffer stores the agent's experiences so that they can be randomly sampled during the training process.\n",
        "2. LinearAnnealedPolicy: This sets up the exploration policy for the agent. It uses the EpsGreedyQPolicy as the inner policy which selects actions based on a trade-off between exploration and exploitation. The LinearAnnealedPolicy gradually decreases the exploration rate (eps) from 1.0 to 0.1 over 10,000 steps.\n",
        "3. Sequential: This sets up a feed-forward neural network model for the DQN. It has an input layer with a shape of (1, env.observation_space.shape[0]), which means it takes in a single observation vector of length env.observation_space.shape[0]. The hidden layers have 256 and 128 nodes respectively and use the ReLU activation function. The output layer has a number of nodes equal to the number of actions in the action space, and uses the linear activation function.\n",
        "4. DQNAgent: This sets up the DQN agent using the previously defined model, memory, policy, and other hyperparameters such as the number of warmup steps and the target model update rate. The enable_dueling_network argument is set to True, which means the agent will use a dueling architecture to estimate the Q-values of each action.\n",
        "\n"
      ]
    },
    {
      "cell_type": "code",
      "execution_count": 7,
      "id": "1f6b018e",
      "metadata": {
        "colab": {
          "base_uri": "https://localhost:8080/"
        },
        "id": "1f6b018e",
        "outputId": "e0f4e747-8e30-450f-935a-c5c78ae3f61e"
      },
      "outputs": [
        {
          "output_type": "stream",
          "name": "stdout",
          "text": [
            "Model: \"sequential\"\n",
            "_________________________________________________________________\n",
            " Layer (type)                Output Shape              Param #   \n",
            "=================================================================\n",
            " flatten (Flatten)           (None, 4)                 0         \n",
            "                                                                 \n",
            " dense (Dense)               (None, 256)               1280      \n",
            "                                                                 \n",
            " dense_1 (Dense)             (None, 128)               32896     \n",
            "                                                                 \n",
            " dense_2 (Dense)             (None, 2)                 258       \n",
            "                                                                 \n",
            "=================================================================\n",
            "Total params: 34,434\n",
            "Trainable params: 34,434\n",
            "Non-trainable params: 0\n",
            "_________________________________________________________________\n",
            "None\n"
          ]
        },
        {
          "output_type": "stream",
          "name": "stderr",
          "text": [
            "WARNING:tensorflow:From /usr/local/lib/python3.9/dist-packages/tensorflow/python/autograph/pyct/static_analysis/liveness.py:83: Analyzer.lamba_check (from tensorflow.python.autograph.pyct.static_analysis.liveness) is deprecated and will be removed after 2023-09-23.\n",
            "Instructions for updating:\n",
            "Lambda fuctions will be no more assumed to be used in the statement where they are used, or at least in the same block. https://github.com/tensorflow/tensorflow/issues/56089\n"
          ]
        }
      ],
      "source": [
        "#Building DQN Agent with Keras-RL\n",
        "# setup experience replay buffer\n",
        "memory = SequentialMemory(limit=50000, window_length=1)\n",
        "\n",
        "# setup the Linear annealed policy with the EpsGreedyQPolicy as the inner policy\n",
        "policy =  LinearAnnealedPolicy(inner_policy=  EpsGreedyQPolicy(),   # policy used to select actions\n",
        "                               attr='eps',                          # attribute in the inner policy to vary             \n",
        "                               value_max=1.0,                       # maximum value of attribute that is varying\n",
        "                               value_min=0.1,                       # minimum value of attribute that is varying\n",
        "                               value_test=0.05,                     # test if the value selected is < 0.05\n",
        "                               nb_steps=10000)                      # the number of steps between value_max and value_min\n",
        "\n",
        "#Feed-Forward Neural Network Model for Deep Q Learning (DQN)\n",
        "model = Sequential()\n",
        "#print(env.observation_space)\n",
        "#Input is 1 observation vector, and the number of observations in that vector \n",
        "model.add(Input(shape=(1,env.observation_space.shape[0])))\n",
        "model.add(Flatten())\n",
        "#Hidden layers with 24 nodes each\n",
        "model.add(Dense(256, activation='relu'))\n",
        "model.add(Dense(128, activation='relu'))\n",
        "#Output is the number of actions in the action space\n",
        "model.add(Dense(env.action_space.n, activation='linear')) \n",
        "\n",
        "\n",
        "#Feed-Forward Neural Network Architecture Summary\n",
        "print(model.summary())\n",
        "\n",
        "#Defining DQN Agent for DQN Model\n",
        "dqn = DQNAgent(model=model,                     # Q-Network model\n",
        "               nb_actions=env.action_space.n,   # number of actions\n",
        "               memory=memory,                   # experience replay memory\n",
        "               nb_steps_warmup=25,              # how many steps are waited before starting experience replay\n",
        "               target_model_update=1e-2,        # how often the target network is updated\n",
        "               policy=policy,                   # the action selection policy\n",
        "              enable_dueling_network=True)                   \n",
        "\n",
        "# Configure and compile agent. \n",
        "#Use built-in tensorflow.keras Adam optimizer and evaluation metrics            \n",
        "#Adam._name = 'Adam'\n",
        "dqn.compile(keras.optimizers.Adam(learning_rate=2.5e-4,epsilon = 0.01), metrics = [\"mse\",'accuracy'])\n",
        "\n",
        "\n",
        "\n",
        "     "
      ]
    },
    {
      "cell_type": "markdown",
      "id": "qCvABuzd9i15",
      "metadata": {
        "id": "qCvABuzd9i15"
      },
      "source": []
    },
    {
      "cell_type": "markdown",
      "id": "b0af5288",
      "metadata": {
        "id": "b0af5288"
      },
      "source": [
        "# Training "
      ]
    },
    {
      "cell_type": "code",
      "execution_count": 8,
      "id": "2a2ff3b9",
      "metadata": {
        "colab": {
          "base_uri": "https://localhost:8080/"
        },
        "id": "2a2ff3b9",
        "outputId": "a3563d54-5861-4b86-d81a-f39c82b2cb36"
      },
      "outputs": [
        {
          "output_type": "stream",
          "name": "stderr",
          "text": [
            "/usr/local/lib/python3.9/dist-packages/keras/engine/training_v1.py:2357: UserWarning: `Model.state_updates` will be removed in a future version. This property should not be used in TensorFlow 2.0, as `updates` are applied automatically.\n",
            "  updates=self.state_updates,\n"
          ]
        },
        {
          "output_type": "stream",
          "name": "stdout",
          "text": [
            "Training for 5000 steps ...\n",
            "   14/5000: episode: 1, duration: 0.193s, episode steps:  14, steps per second:  73, episode reward: 14.000, mean reward:  1.000 [ 1.000,  1.000], mean action: 0.357 [0.000, 1.000],  loss: --, mse: --, accuracy: --, mean_q: --, mean_eps: --\n"
          ]
        },
        {
          "output_type": "stream",
          "name": "stderr",
          "text": [
            "/usr/local/lib/python3.9/dist-packages/rl/memory.py:37: UserWarning: Not enough entries to sample without replacement. Consider increasing your warm-up phase to avoid oversampling!\n",
            "  warnings.warn('Not enough entries to sample without replacement. Consider increasing your warm-up phase to avoid oversampling!')\n",
            "/usr/local/lib/python3.9/dist-packages/rl/memory.py:38: DeprecationWarning: This function is deprecated. Please call randint(1, 26 + 1) instead\n",
            "  batch_idxs = np.random.random_integers(low, high - 1, size=size)\n",
            "/usr/local/lib/python3.9/dist-packages/keras/engine/training_v1.py:2357: UserWarning: `Model.state_updates` will be removed in a future version. This property should not be used in TensorFlow 2.0, as `updates` are applied automatically.\n",
            "  updates=self.state_updates,\n",
            "/usr/local/lib/python3.9/dist-packages/rl/memory.py:38: DeprecationWarning: This function is deprecated. Please call randint(1, 27 + 1) instead\n",
            "  batch_idxs = np.random.random_integers(low, high - 1, size=size)\n",
            "/usr/local/lib/python3.9/dist-packages/rl/memory.py:38: DeprecationWarning: This function is deprecated. Please call randint(1, 28 + 1) instead\n",
            "  batch_idxs = np.random.random_integers(low, high - 1, size=size)\n",
            "/usr/local/lib/python3.9/dist-packages/rl/memory.py:38: DeprecationWarning: This function is deprecated. Please call randint(1, 29 + 1) instead\n",
            "  batch_idxs = np.random.random_integers(low, high - 1, size=size)\n",
            "/usr/local/lib/python3.9/dist-packages/rl/memory.py:38: DeprecationWarning: This function is deprecated. Please call randint(1, 30 + 1) instead\n",
            "  batch_idxs = np.random.random_integers(low, high - 1, size=size)\n",
            "/usr/local/lib/python3.9/dist-packages/rl/memory.py:38: DeprecationWarning: This function is deprecated. Please call randint(1, 31 + 1) instead\n",
            "  batch_idxs = np.random.random_integers(low, high - 1, size=size)\n"
          ]
        },
        {
          "output_type": "stream",
          "name": "stdout",
          "text": [
            "   66/5000: episode: 2, duration: 1.875s, episode steps:  52, steps per second:  28, episode reward: 52.000, mean reward:  1.000 [ 1.000,  1.000], mean action: 0.519 [0.000, 1.000],  loss: 0.471802, mse: 0.475270, accuracy: 0.465625, mean_q: 0.089675, mean_eps: 0.995905\n",
            "   76/5000: episode: 3, duration: 0.139s, episode steps:  10, steps per second:  72, episode reward: 10.000, mean reward:  1.000 [ 1.000,  1.000], mean action: 0.700 [0.000, 1.000],  loss: 0.405167, mse: 0.418941, accuracy: 0.531250, mean_q: 0.193447, mean_eps: 0.993655\n",
            "   96/5000: episode: 4, duration: 0.267s, episode steps:  20, steps per second:  75, episode reward: 20.000, mean reward:  1.000 [ 1.000,  1.000], mean action: 0.500 [0.000, 1.000],  loss: 0.388642, mse: 0.411855, accuracy: 0.523438, mean_q: 0.250507, mean_eps: 0.992305\n",
            "  110/5000: episode: 5, duration: 0.190s, episode steps:  14, steps per second:  74, episode reward: 14.000, mean reward:  1.000 [ 1.000,  1.000], mean action: 0.357 [0.000, 1.000],  loss: 0.372197, mse: 0.411532, accuracy: 0.504464, mean_q: 0.312832, mean_eps: 0.990775\n",
            "  127/5000: episode: 6, duration: 0.450s, episode steps:  17, steps per second:  38, episode reward: 17.000, mean reward:  1.000 [ 1.000,  1.000], mean action: 0.588 [0.000, 1.000],  loss: 0.343463, mse: 0.412651, accuracy: 0.459559, mean_q: 0.405383, mean_eps: 0.989380\n",
            "  174/5000: episode: 7, duration: 0.456s, episode steps:  47, steps per second: 103, episode reward: 47.000, mean reward:  1.000 [ 1.000,  1.000], mean action: 0.468 [0.000, 1.000],  loss: 0.294855, mse: 0.421942, accuracy: 0.526596, mean_q: 0.551679, mean_eps: 0.986500\n",
            "  197/5000: episode: 8, duration: 0.220s, episode steps:  23, steps per second: 104, episode reward: 23.000, mean reward:  1.000 [ 1.000,  1.000], mean action: 0.565 [0.000, 1.000],  loss: 0.255036, mse: 0.485439, accuracy: 0.527174, mean_q: 0.745444, mean_eps: 0.983350\n",
            "  210/5000: episode: 9, duration: 0.124s, episode steps:  13, steps per second: 105, episode reward: 13.000, mean reward:  1.000 [ 1.000,  1.000], mean action: 0.692 [0.000, 1.000],  loss: 0.227366, mse: 0.551646, accuracy: 0.468750, mean_q: 0.862382, mean_eps: 0.981730\n",
            "  220/5000: episode: 10, duration: 0.096s, episode steps:  10, steps per second: 104, episode reward: 10.000, mean reward:  1.000 [ 1.000,  1.000], mean action: 0.300 [0.000, 1.000],  loss: 0.222274, mse: 0.627673, accuracy: 0.506250, mean_q: 0.956779, mean_eps: 0.980695\n",
            "  243/5000: episode: 11, duration: 0.214s, episode steps:  23, steps per second: 108, episode reward: 23.000, mean reward:  1.000 [ 1.000,  1.000], mean action: 0.522 [0.000, 1.000],  loss: 0.200284, mse: 0.703986, accuracy: 0.517663, mean_q: 1.069696, mean_eps: 0.979210\n",
            "  257/5000: episode: 12, duration: 0.142s, episode steps:  14, steps per second:  99, episode reward: 14.000, mean reward:  1.000 [ 1.000,  1.000], mean action: 0.714 [0.000, 1.000],  loss: 0.176739, mse: 0.810683, accuracy: 0.535714, mean_q: 1.195083, mean_eps: 0.977545\n",
            "  294/5000: episode: 13, duration: 0.343s, episode steps:  37, steps per second: 108, episode reward: 37.000, mean reward:  1.000 [ 1.000,  1.000], mean action: 0.514 [0.000, 1.000],  loss: 0.161855, mse: 1.057071, accuracy: 0.503378, mean_q: 1.384648, mean_eps: 0.975250\n",
            "  319/5000: episode: 14, duration: 0.218s, episode steps:  25, steps per second: 115, episode reward: 25.000, mean reward:  1.000 [ 1.000,  1.000], mean action: 0.520 [0.000, 1.000],  loss: 0.130839, mse: 1.408606, accuracy: 0.500000, mean_q: 1.617787, mean_eps: 0.972460\n",
            "  335/5000: episode: 15, duration: 0.149s, episode steps:  16, steps per second: 107, episode reward: 16.000, mean reward:  1.000 [ 1.000,  1.000], mean action: 0.625 [0.000, 1.000],  loss: 0.128322, mse: 1.677753, accuracy: 0.513672, mean_q: 1.773411, mean_eps: 0.970615\n",
            "  354/5000: episode: 16, duration: 0.180s, episode steps:  19, steps per second: 106, episode reward: 19.000, mean reward:  1.000 [ 1.000,  1.000], mean action: 0.579 [0.000, 1.000],  loss: 0.134952, mse: 1.904029, accuracy: 0.532895, mean_q: 1.893254, mean_eps: 0.969040\n",
            "  381/5000: episode: 17, duration: 0.240s, episode steps:  27, steps per second: 112, episode reward: 27.000, mean reward:  1.000 [ 1.000,  1.000], mean action: 0.593 [0.000, 1.000],  loss: 0.123202, mse: 2.295793, accuracy: 0.550926, mean_q: 2.114085, mean_eps: 0.966970\n",
            "  390/5000: episode: 18, duration: 0.082s, episode steps:   9, steps per second: 109, episode reward:  9.000, mean reward:  1.000 [ 1.000,  1.000], mean action: 0.222 [0.000, 1.000],  loss: 0.167797, mse: 2.719361, accuracy: 0.548611, mean_q: 2.289888, mean_eps: 0.965350\n",
            "  402/5000: episode: 19, duration: 0.113s, episode steps:  12, steps per second: 106, episode reward: 12.000, mean reward:  1.000 [ 1.000,  1.000], mean action: 0.250 [0.000, 1.000],  loss: 0.139235, mse: 2.858036, accuracy: 0.486979, mean_q: 2.358606, mean_eps: 0.964405\n",
            "  426/5000: episode: 20, duration: 0.243s, episode steps:  24, steps per second:  99, episode reward: 24.000, mean reward:  1.000 [ 1.000,  1.000], mean action: 0.333 [0.000, 1.000],  loss: 0.171524, mse: 3.340610, accuracy: 0.480469, mean_q: 2.543649, mean_eps: 0.962785\n",
            "  441/5000: episode: 21, duration: 0.256s, episode steps:  15, steps per second:  59, episode reward: 15.000, mean reward:  1.000 [ 1.000,  1.000], mean action: 0.667 [0.000, 1.000],  loss: 0.147503, mse: 3.587529, accuracy: 0.485417, mean_q: 2.666145, mean_eps: 0.961030\n",
            "  453/5000: episode: 22, duration: 0.160s, episode steps:  12, steps per second:  75, episode reward: 12.000, mean reward:  1.000 [ 1.000,  1.000], mean action: 0.667 [0.000, 1.000],  loss: 0.160924, mse: 4.059374, accuracy: 0.505208, mean_q: 2.853705, mean_eps: 0.959815\n",
            "  469/5000: episode: 23, duration: 0.221s, episode steps:  16, steps per second:  73, episode reward: 16.000, mean reward:  1.000 [ 1.000,  1.000], mean action: 0.500 [0.000, 1.000],  loss: 0.233342, mse: 4.400238, accuracy: 0.509766, mean_q: 2.966367, mean_eps: 0.958555\n",
            "  507/5000: episode: 24, duration: 0.474s, episode steps:  38, steps per second:  80, episode reward: 38.000, mean reward:  1.000 [ 1.000,  1.000], mean action: 0.553 [0.000, 1.000],  loss: 0.213170, mse: 4.968362, accuracy: 0.500000, mean_q: 3.162918, mean_eps: 0.956125\n",
            "  525/5000: episode: 25, duration: 0.327s, episode steps:  18, steps per second:  55, episode reward: 18.000, mean reward:  1.000 [ 1.000,  1.000], mean action: 0.611 [0.000, 1.000],  loss: 0.227964, mse: 5.764194, accuracy: 0.517361, mean_q: 3.430454, mean_eps: 0.953605\n",
            "  535/5000: episode: 26, duration: 0.172s, episode steps:  10, steps per second:  58, episode reward: 10.000, mean reward:  1.000 [ 1.000,  1.000], mean action: 0.900 [0.000, 1.000],  loss: 0.287084, mse: 6.120980, accuracy: 0.537500, mean_q: 3.555609, mean_eps: 0.952345\n",
            "  546/5000: episode: 27, duration: 0.216s, episode steps:  11, steps per second:  51, episode reward: 11.000, mean reward:  1.000 [ 1.000,  1.000], mean action: 0.818 [0.000, 1.000],  loss: 0.283333, mse: 6.577137, accuracy: 0.497159, mean_q: 3.682517, mean_eps: 0.951400\n",
            "  563/5000: episode: 28, duration: 0.363s, episode steps:  17, steps per second:  47, episode reward: 17.000, mean reward:  1.000 [ 1.000,  1.000], mean action: 0.294 [0.000, 1.000],  loss: 0.359178, mse: 7.068992, accuracy: 0.512868, mean_q: 3.807064, mean_eps: 0.950140\n",
            "  576/5000: episode: 29, duration: 0.200s, episode steps:  13, steps per second:  65, episode reward: 13.000, mean reward:  1.000 [ 1.000,  1.000], mean action: 0.769 [0.000, 1.000],  loss: 0.383088, mse: 7.438814, accuracy: 0.543269, mean_q: 3.934411, mean_eps: 0.948790\n",
            "  600/5000: episode: 30, duration: 0.393s, episode steps:  24, steps per second:  61, episode reward: 24.000, mean reward:  1.000 [ 1.000,  1.000], mean action: 0.417 [0.000, 1.000],  loss: 0.318627, mse: 7.986283, accuracy: 0.553385, mean_q: 4.083977, mean_eps: 0.947125\n",
            "  614/5000: episode: 31, duration: 0.261s, episode steps:  14, steps per second:  54, episode reward: 14.000, mean reward:  1.000 [ 1.000,  1.000], mean action: 0.357 [0.000, 1.000],  loss: 0.316452, mse: 8.849166, accuracy: 0.506696, mean_q: 4.294434, mean_eps: 0.945415\n",
            "  629/5000: episode: 32, duration: 0.193s, episode steps:  15, steps per second:  78, episode reward: 15.000, mean reward:  1.000 [ 1.000,  1.000], mean action: 0.400 [0.000, 1.000],  loss: 0.513851, mse: 9.450930, accuracy: 0.518750, mean_q: 4.403930, mean_eps: 0.944110\n",
            "  641/5000: episode: 33, duration: 0.308s, episode steps:  12, steps per second:  39, episode reward: 12.000, mean reward:  1.000 [ 1.000,  1.000], mean action: 0.250 [0.000, 1.000],  loss: 0.412369, mse: 9.399023, accuracy: 0.539062, mean_q: 4.440904, mean_eps: 0.942895\n",
            "  656/5000: episode: 34, duration: 0.209s, episode steps:  15, steps per second:  72, episode reward: 15.000, mean reward:  1.000 [ 1.000,  1.000], mean action: 0.600 [0.000, 1.000],  loss: 0.543243, mse: 10.299045, accuracy: 0.514583, mean_q: 4.659082, mean_eps: 0.941680\n",
            "  669/5000: episode: 35, duration: 0.241s, episode steps:  13, steps per second:  54, episode reward: 13.000, mean reward:  1.000 [ 1.000,  1.000], mean action: 0.462 [0.000, 1.000],  loss: 0.596549, mse: 10.828712, accuracy: 0.526442, mean_q: 4.740213, mean_eps: 0.940420\n",
            "  696/5000: episode: 36, duration: 0.422s, episode steps:  27, steps per second:  64, episode reward: 27.000, mean reward:  1.000 [ 1.000,  1.000], mean action: 0.556 [0.000, 1.000],  loss: 0.371390, mse: 11.524234, accuracy: 0.504630, mean_q: 4.895198, mean_eps: 0.938620\n",
            "  707/5000: episode: 37, duration: 0.171s, episode steps:  11, steps per second:  64, episode reward: 11.000, mean reward:  1.000 [ 1.000,  1.000], mean action: 0.636 [0.000, 1.000],  loss: 0.546843, mse: 12.762283, accuracy: 0.562500, mean_q: 5.153346, mean_eps: 0.936910\n",
            "  720/5000: episode: 38, duration: 0.203s, episode steps:  13, steps per second:  64, episode reward: 13.000, mean reward:  1.000 [ 1.000,  1.000], mean action: 0.154 [0.000, 1.000],  loss: 0.664022, mse: 12.981733, accuracy: 0.524038, mean_q: 5.141183, mean_eps: 0.935830\n",
            "  735/5000: episode: 39, duration: 0.240s, episode steps:  15, steps per second:  63, episode reward: 15.000, mean reward:  1.000 [ 1.000,  1.000], mean action: 0.667 [0.000, 1.000],  loss: 0.543947, mse: 13.153731, accuracy: 0.539583, mean_q: 5.178528, mean_eps: 0.934570\n",
            "  756/5000: episode: 40, duration: 0.448s, episode steps:  21, steps per second:  47, episode reward: 21.000, mean reward:  1.000 [ 1.000,  1.000], mean action: 0.571 [0.000, 1.000],  loss: 0.595688, mse: 14.186264, accuracy: 0.543155, mean_q: 5.378978, mean_eps: 0.932950\n",
            "  772/5000: episode: 41, duration: 0.243s, episode steps:  16, steps per second:  66, episode reward: 16.000, mean reward:  1.000 [ 1.000,  1.000], mean action: 0.688 [0.000, 1.000],  loss: 0.511367, mse: 15.223836, accuracy: 0.531250, mean_q: 5.592184, mean_eps: 0.931285\n",
            "  782/5000: episode: 42, duration: 0.178s, episode steps:  10, steps per second:  56, episode reward: 10.000, mean reward:  1.000 [ 1.000,  1.000], mean action: 0.800 [0.000, 1.000],  loss: 0.416300, mse: 15.777574, accuracy: 0.537500, mean_q: 5.713114, mean_eps: 0.930115\n",
            "  806/5000: episode: 43, duration: 0.572s, episode steps:  24, steps per second:  42, episode reward: 24.000, mean reward:  1.000 [ 1.000,  1.000], mean action: 0.542 [0.000, 1.000],  loss: 0.631520, mse: 16.693076, accuracy: 0.524740, mean_q: 5.815426, mean_eps: 0.928585\n",
            "  864/5000: episode: 44, duration: 1.231s, episode steps:  58, steps per second:  47, episode reward: 58.000, mean reward:  1.000 [ 1.000,  1.000], mean action: 0.466 [0.000, 1.000],  loss: 0.677878, mse: 18.272193, accuracy: 0.544181, mean_q: 6.111070, mean_eps: 0.924895\n",
            "  876/5000: episode: 45, duration: 0.496s, episode steps:  12, steps per second:  24, episode reward: 12.000, mean reward:  1.000 [ 1.000,  1.000], mean action: 0.250 [0.000, 1.000],  loss: 0.613378, mse: 19.928114, accuracy: 0.523438, mean_q: 6.378854, mean_eps: 0.921745\n",
            "  926/5000: episode: 46, duration: 1.405s, episode steps:  50, steps per second:  36, episode reward: 50.000, mean reward:  1.000 [ 1.000,  1.000], mean action: 0.500 [0.000, 1.000],  loss: 0.630351, mse: 21.495070, accuracy: 0.535000, mean_q: 6.623666, mean_eps: 0.918955\n",
            "  939/5000: episode: 47, duration: 0.530s, episode steps:  13, steps per second:  25, episode reward: 13.000, mean reward:  1.000 [ 1.000,  1.000], mean action: 0.231 [0.000, 1.000],  loss: 0.815468, mse: 22.573498, accuracy: 0.456731, mean_q: 6.714199, mean_eps: 0.916120\n",
            "  961/5000: episode: 48, duration: 1.193s, episode steps:  22, steps per second:  18, episode reward: 22.000, mean reward:  1.000 [ 1.000,  1.000], mean action: 0.636 [0.000, 1.000],  loss: 0.912074, mse: 23.514357, accuracy: 0.552557, mean_q: 6.885240, mean_eps: 0.914545\n",
            "  971/5000: episode: 49, duration: 0.507s, episode steps:  10, steps per second:  20, episode reward: 10.000, mean reward:  1.000 [ 1.000,  1.000], mean action: 0.300 [0.000, 1.000],  loss: 0.845318, mse: 24.071242, accuracy: 0.562500, mean_q: 6.975499, mean_eps: 0.913105\n",
            "  982/5000: episode: 50, duration: 0.331s, episode steps:  11, steps per second:  33, episode reward: 11.000, mean reward:  1.000 [ 1.000,  1.000], mean action: 0.727 [0.000, 1.000],  loss: 0.771674, mse: 24.906681, accuracy: 0.571023, mean_q: 7.092224, mean_eps: 0.912160\n",
            "  994/5000: episode: 51, duration: 0.401s, episode steps:  12, steps per second:  30, episode reward: 12.000, mean reward:  1.000 [ 1.000,  1.000], mean action: 0.250 [0.000, 1.000],  loss: 0.856709, mse: 25.345772, accuracy: 0.492188, mean_q: 7.108258, mean_eps: 0.911125\n",
            " 1007/5000: episode: 52, duration: 0.359s, episode steps:  13, steps per second:  36, episode reward: 13.000, mean reward:  1.000 [ 1.000,  1.000], mean action: 0.615 [0.000, 1.000],  loss: 0.750831, mse: 26.093317, accuracy: 0.514423, mean_q: 7.213438, mean_eps: 0.910000\n",
            " 1025/5000: episode: 53, duration: 0.503s, episode steps:  18, steps per second:  36, episode reward: 18.000, mean reward:  1.000 [ 1.000,  1.000], mean action: 0.611 [0.000, 1.000],  loss: 0.733424, mse: 27.114337, accuracy: 0.557292, mean_q: 7.398876, mean_eps: 0.908605\n",
            " 1035/5000: episode: 54, duration: 0.329s, episode steps:  10, steps per second:  30, episode reward: 10.000, mean reward:  1.000 [ 1.000,  1.000], mean action: 0.800 [0.000, 1.000],  loss: 1.192416, mse: 27.887292, accuracy: 0.509375, mean_q: 7.420428, mean_eps: 0.907345\n",
            " 1052/5000: episode: 55, duration: 0.342s, episode steps:  17, steps per second:  50, episode reward: 17.000, mean reward:  1.000 [ 1.000,  1.000], mean action: 0.647 [0.000, 1.000],  loss: 0.981699, mse: 27.464493, accuracy: 0.569853, mean_q: 7.381718, mean_eps: 0.906130\n",
            " 1067/5000: episode: 56, duration: 0.200s, episode steps:  15, steps per second:  75, episode reward: 15.000, mean reward:  1.000 [ 1.000,  1.000], mean action: 0.667 [0.000, 1.000],  loss: 0.755855, mse: 28.941554, accuracy: 0.535417, mean_q: 7.593262, mean_eps: 0.904690\n",
            " 1085/5000: episode: 57, duration: 0.323s, episode steps:  18, steps per second:  56, episode reward: 18.000, mean reward:  1.000 [ 1.000,  1.000], mean action: 0.556 [0.000, 1.000],  loss: 0.695085, mse: 29.976977, accuracy: 0.520833, mean_q: 7.690129, mean_eps: 0.903205\n",
            " 1099/5000: episode: 58, duration: 0.289s, episode steps:  14, steps per second:  49, episode reward: 14.000, mean reward:  1.000 [ 1.000,  1.000], mean action: 0.643 [0.000, 1.000],  loss: 0.924070, mse: 31.608049, accuracy: 0.531250, mean_q: 7.848181, mean_eps: 0.901765\n",
            " 1129/5000: episode: 59, duration: 0.429s, episode steps:  30, steps per second:  70, episode reward: 30.000, mean reward:  1.000 [ 1.000,  1.000], mean action: 0.467 [0.000, 1.000],  loss: 1.042900, mse: 30.906948, accuracy: 0.522917, mean_q: 7.747771, mean_eps: 0.899785\n",
            " 1144/5000: episode: 60, duration: 0.251s, episode steps:  15, steps per second:  60, episode reward: 15.000, mean reward:  1.000 [ 1.000,  1.000], mean action: 0.600 [0.000, 1.000],  loss: 0.725272, mse: 32.594198, accuracy: 0.554167, mean_q: 7.995525, mean_eps: 0.897760\n",
            " 1170/5000: episode: 61, duration: 0.508s, episode steps:  26, steps per second:  51, episode reward: 26.000, mean reward:  1.000 [ 1.000,  1.000], mean action: 0.615 [0.000, 1.000],  loss: 1.112518, mse: 33.362321, accuracy: 0.490385, mean_q: 8.024969, mean_eps: 0.895915\n",
            " 1183/5000: episode: 62, duration: 0.329s, episode steps:  13, steps per second:  39, episode reward: 13.000, mean reward:  1.000 [ 1.000,  1.000], mean action: 0.308 [0.000, 1.000],  loss: 1.197659, mse: 32.986099, accuracy: 0.485577, mean_q: 7.960547, mean_eps: 0.894160\n",
            " 1235/5000: episode: 63, duration: 1.262s, episode steps:  52, steps per second:  41, episode reward: 52.000, mean reward:  1.000 [ 1.000,  1.000], mean action: 0.481 [0.000, 1.000],  loss: 0.991817, mse: 35.267932, accuracy: 0.492188, mean_q: 8.302497, mean_eps: 0.891235\n",
            " 1300/5000: episode: 64, duration: 1.452s, episode steps:  65, steps per second:  45, episode reward: 65.000, mean reward:  1.000 [ 1.000,  1.000], mean action: 0.477 [0.000, 1.000],  loss: 0.994253, mse: 37.437333, accuracy: 0.498558, mean_q: 8.601876, mean_eps: 0.885970\n",
            " 1313/5000: episode: 65, duration: 0.307s, episode steps:  13, steps per second:  42, episode reward: 13.000, mean reward:  1.000 [ 1.000,  1.000], mean action: 0.615 [0.000, 1.000],  loss: 1.104799, mse: 38.787218, accuracy: 0.492788, mean_q: 8.759599, mean_eps: 0.882460\n",
            " 1350/5000: episode: 66, duration: 1.205s, episode steps:  37, steps per second:  31, episode reward: 37.000, mean reward:  1.000 [ 1.000,  1.000], mean action: 0.514 [0.000, 1.000],  loss: 1.017503, mse: 40.721101, accuracy: 0.472128, mean_q: 9.008889, mean_eps: 0.880210\n",
            " 1370/5000: episode: 67, duration: 0.557s, episode steps:  20, steps per second:  36, episode reward: 20.000, mean reward:  1.000 [ 1.000,  1.000], mean action: 0.350 [0.000, 1.000],  loss: 0.715207, mse: 43.128183, accuracy: 0.465625, mean_q: 9.292346, mean_eps: 0.877645\n",
            " 1444/5000: episode: 68, duration: 1.951s, episode steps:  74, steps per second:  38, episode reward: 74.000, mean reward:  1.000 [ 1.000,  1.000], mean action: 0.459 [0.000, 1.000],  loss: 1.074759, mse: 45.924496, accuracy: 0.475084, mean_q: 9.623095, mean_eps: 0.873415\n",
            " 1515/5000: episode: 69, duration: 3.256s, episode steps:  71, steps per second:  22, episode reward: 71.000, mean reward:  1.000 [ 1.000,  1.000], mean action: 0.465 [0.000, 1.000],  loss: 0.877069, mse: 50.841198, accuracy: 0.506602, mean_q: 10.204537, mean_eps: 0.866890\n",
            " 1535/5000: episode: 70, duration: 0.622s, episode steps:  20, steps per second:  32, episode reward: 20.000, mean reward:  1.000 [ 1.000,  1.000], mean action: 0.700 [0.000, 1.000],  loss: 1.225605, mse: 53.494592, accuracy: 0.490625, mean_q: 10.457902, mean_eps: 0.862795\n",
            " 1554/5000: episode: 71, duration: 0.782s, episode steps:  19, steps per second:  24, episode reward: 19.000, mean reward:  1.000 [ 1.000,  1.000], mean action: 0.474 [0.000, 1.000],  loss: 1.393147, mse: 55.558723, accuracy: 0.541118, mean_q: 10.642687, mean_eps: 0.861040\n",
            " 1599/5000: episode: 72, duration: 1.264s, episode steps:  45, steps per second:  36, episode reward: 45.000, mean reward:  1.000 [ 1.000,  1.000], mean action: 0.467 [0.000, 1.000],  loss: 1.179139, mse: 57.633995, accuracy: 0.509722, mean_q: 10.889602, mean_eps: 0.858160\n",
            " 1618/5000: episode: 73, duration: 0.544s, episode steps:  19, steps per second:  35, episode reward: 19.000, mean reward:  1.000 [ 1.000,  1.000], mean action: 0.474 [0.000, 1.000],  loss: 1.053005, mse: 62.544640, accuracy: 0.475329, mean_q: 11.328662, mean_eps: 0.855280\n",
            " 1664/5000: episode: 74, duration: 0.757s, episode steps:  46, steps per second:  61, episode reward: 46.000, mean reward:  1.000 [ 1.000,  1.000], mean action: 0.543 [0.000, 1.000],  loss: 1.278973, mse: 63.661654, accuracy: 0.512228, mean_q: 11.439922, mean_eps: 0.852355\n",
            " 1688/5000: episode: 75, duration: 0.424s, episode steps:  24, steps per second:  57, episode reward: 24.000, mean reward:  1.000 [ 1.000,  1.000], mean action: 0.500 [0.000, 1.000],  loss: 1.558000, mse: 66.122617, accuracy: 0.486979, mean_q: 11.601814, mean_eps: 0.849205\n",
            " 1719/5000: episode: 76, duration: 0.637s, episode steps:  31, steps per second:  49, episode reward: 31.000, mean reward:  1.000 [ 1.000,  1.000], mean action: 0.484 [0.000, 1.000],  loss: 1.436271, mse: 68.274352, accuracy: 0.507056, mean_q: 11.767076, mean_eps: 0.846730\n",
            " 1740/5000: episode: 77, duration: 0.457s, episode steps:  21, steps per second:  46, episode reward: 21.000, mean reward:  1.000 [ 1.000,  1.000], mean action: 0.476 [0.000, 1.000],  loss: 1.385556, mse: 69.677691, accuracy: 0.525298, mean_q: 11.883991, mean_eps: 0.844390\n",
            " 1756/5000: episode: 78, duration: 0.248s, episode steps:  16, steps per second:  64, episode reward: 16.000, mean reward:  1.000 [ 1.000,  1.000], mean action: 0.562 [0.000, 1.000],  loss: 0.988500, mse: 74.474603, accuracy: 0.488281, mean_q: 12.356446, mean_eps: 0.842725\n",
            " 1780/5000: episode: 79, duration: 0.420s, episode steps:  24, steps per second:  57, episode reward: 24.000, mean reward:  1.000 [ 1.000,  1.000], mean action: 0.458 [0.000, 1.000],  loss: 1.444069, mse: 72.580181, accuracy: 0.498698, mean_q: 12.186913, mean_eps: 0.840925\n",
            " 1803/5000: episode: 80, duration: 0.410s, episode steps:  23, steps per second:  56, episode reward: 23.000, mean reward:  1.000 [ 1.000,  1.000], mean action: 0.478 [0.000, 1.000],  loss: 1.270417, mse: 76.218007, accuracy: 0.501359, mean_q: 12.472903, mean_eps: 0.838810\n",
            " 1852/5000: episode: 81, duration: 0.924s, episode steps:  49, steps per second:  53, episode reward: 49.000, mean reward:  1.000 [ 1.000,  1.000], mean action: 0.571 [0.000, 1.000],  loss: 1.596174, mse: 80.121315, accuracy: 0.522959, mean_q: 12.846119, mean_eps: 0.835570\n",
            " 1875/5000: episode: 82, duration: 0.549s, episode steps:  23, steps per second:  42, episode reward: 23.000, mean reward:  1.000 [ 1.000,  1.000], mean action: 0.522 [0.000, 1.000],  loss: 1.564998, mse: 81.925051, accuracy: 0.531250, mean_q: 13.042772, mean_eps: 0.832330\n",
            " 1904/5000: episode: 83, duration: 0.619s, episode steps:  29, steps per second:  47, episode reward: 29.000, mean reward:  1.000 [ 1.000,  1.000], mean action: 0.552 [0.000, 1.000],  loss: 1.841470, mse: 83.969515, accuracy: 0.506466, mean_q: 13.124676, mean_eps: 0.829990\n",
            " 1937/5000: episode: 84, duration: 0.334s, episode steps:  33, steps per second:  99, episode reward: 33.000, mean reward:  1.000 [ 1.000,  1.000], mean action: 0.455 [0.000, 1.000],  loss: 1.603229, mse: 88.708260, accuracy: 0.524621, mean_q: 13.488363, mean_eps: 0.827200\n",
            " 1956/5000: episode: 85, duration: 0.182s, episode steps:  19, steps per second: 104, episode reward: 19.000, mean reward:  1.000 [ 1.000,  1.000], mean action: 0.474 [0.000, 1.000],  loss: 2.017097, mse: 89.615424, accuracy: 0.488487, mean_q: 13.473753, mean_eps: 0.824860\n",
            " 1980/5000: episode: 86, duration: 0.224s, episode steps:  24, steps per second: 107, episode reward: 24.000, mean reward:  1.000 [ 1.000,  1.000], mean action: 0.500 [0.000, 1.000],  loss: 1.777147, mse: 92.385012, accuracy: 0.550781, mean_q: 13.814977, mean_eps: 0.822925\n",
            " 2018/5000: episode: 87, duration: 0.331s, episode steps:  38, steps per second: 115, episode reward: 38.000, mean reward:  1.000 [ 1.000,  1.000], mean action: 0.579 [0.000, 1.000],  loss: 1.959369, mse: 92.904236, accuracy: 0.523026, mean_q: 13.788455, mean_eps: 0.820135\n",
            " 2069/5000: episode: 88, duration: 0.455s, episode steps:  51, steps per second: 112, episode reward: 51.000, mean reward:  1.000 [ 1.000,  1.000], mean action: 0.490 [0.000, 1.000],  loss: 1.535298, mse: 100.906236, accuracy: 0.515931, mean_q: 14.402600, mean_eps: 0.816130\n",
            " 2088/5000: episode: 89, duration: 0.169s, episode steps:  19, steps per second: 112, episode reward: 19.000, mean reward:  1.000 [ 1.000,  1.000], mean action: 0.526 [0.000, 1.000],  loss: 2.472873, mse: 103.095725, accuracy: 0.506579, mean_q: 14.486712, mean_eps: 0.812980\n",
            " 2108/5000: episode: 90, duration: 0.188s, episode steps:  20, steps per second: 106, episode reward: 20.000, mean reward:  1.000 [ 1.000,  1.000], mean action: 0.600 [0.000, 1.000],  loss: 1.534714, mse: 106.020617, accuracy: 0.529687, mean_q: 14.776260, mean_eps: 0.811225\n",
            " 2135/5000: episode: 91, duration: 0.249s, episode steps:  27, steps per second: 109, episode reward: 27.000, mean reward:  1.000 [ 1.000,  1.000], mean action: 0.519 [0.000, 1.000],  loss: 1.817461, mse: 108.270977, accuracy: 0.508102, mean_q: 14.953442, mean_eps: 0.809110\n",
            " 2165/5000: episode: 92, duration: 0.275s, episode steps:  30, steps per second: 109, episode reward: 30.000, mean reward:  1.000 [ 1.000,  1.000], mean action: 0.633 [0.000, 1.000],  loss: 1.365753, mse: 112.812932, accuracy: 0.515625, mean_q: 15.280102, mean_eps: 0.806545\n",
            " 2210/5000: episode: 93, duration: 0.406s, episode steps:  45, steps per second: 111, episode reward: 45.000, mean reward:  1.000 [ 1.000,  1.000], mean action: 0.422 [0.000, 1.000],  loss: 2.027520, mse: 114.719609, accuracy: 0.535417, mean_q: 15.443686, mean_eps: 0.803170\n",
            " 2228/5000: episode: 94, duration: 0.160s, episode steps:  18, steps per second: 112, episode reward: 18.000, mean reward:  1.000 [ 1.000,  1.000], mean action: 0.444 [0.000, 1.000],  loss: 1.734331, mse: 120.725074, accuracy: 0.550347, mean_q: 15.926945, mean_eps: 0.800335\n",
            " 2243/5000: episode: 95, duration: 0.145s, episode steps:  15, steps per second: 103, episode reward: 15.000, mean reward:  1.000 [ 1.000,  1.000], mean action: 0.467 [0.000, 1.000],  loss: 1.457697, mse: 123.602808, accuracy: 0.535417, mean_q: 16.080920, mean_eps: 0.798850\n",
            " 2274/5000: episode: 96, duration: 0.285s, episode steps:  31, steps per second: 109, episode reward: 31.000, mean reward:  1.000 [ 1.000,  1.000], mean action: 0.452 [0.000, 1.000],  loss: 2.050646, mse: 126.966943, accuracy: 0.533266, mean_q: 16.299634, mean_eps: 0.796780\n",
            " 2303/5000: episode: 97, duration: 0.257s, episode steps:  29, steps per second: 113, episode reward: 29.000, mean reward:  1.000 [ 1.000,  1.000], mean action: 0.552 [0.000, 1.000],  loss: 1.733275, mse: 130.771588, accuracy: 0.520474, mean_q: 16.542162, mean_eps: 0.794080\n",
            " 2360/5000: episode: 98, duration: 0.504s, episode steps:  57, steps per second: 113, episode reward: 57.000, mean reward:  1.000 [ 1.000,  1.000], mean action: 0.526 [0.000, 1.000],  loss: 2.167265, mse: 135.364571, accuracy: 0.519737, mean_q: 16.747259, mean_eps: 0.790210\n",
            " 2383/5000: episode: 99, duration: 0.224s, episode steps:  23, steps per second: 103, episode reward: 23.000, mean reward:  1.000 [ 1.000,  1.000], mean action: 0.565 [0.000, 1.000],  loss: 2.469127, mse: 137.916921, accuracy: 0.543478, mean_q: 16.990370, mean_eps: 0.786610\n",
            " 2407/5000: episode: 100, duration: 0.263s, episode steps:  24, steps per second:  91, episode reward: 24.000, mean reward:  1.000 [ 1.000,  1.000], mean action: 0.417 [0.000, 1.000],  loss: 2.342230, mse: 141.098942, accuracy: 0.506510, mean_q: 17.103145, mean_eps: 0.784495\n",
            " 2488/5000: episode: 101, duration: 0.976s, episode steps:  81, steps per second:  83, episode reward: 81.000, mean reward:  1.000 [ 1.000,  1.000], mean action: 0.568 [0.000, 1.000],  loss: 2.533684, mse: 150.886190, accuracy: 0.541667, mean_q: 17.699256, mean_eps: 0.779770\n",
            " 2580/5000: episode: 102, duration: 1.159s, episode steps:  92, steps per second:  79, episode reward: 92.000, mean reward:  1.000 [ 1.000,  1.000], mean action: 0.478 [0.000, 1.000],  loss: 2.334935, mse: 161.071626, accuracy: 0.523777, mean_q: 18.225627, mean_eps: 0.771985\n",
            " 2605/5000: episode: 103, duration: 0.792s, episode steps:  25, steps per second:  32, episode reward: 25.000, mean reward:  1.000 [ 1.000,  1.000], mean action: 0.560 [0.000, 1.000],  loss: 2.509234, mse: 167.587003, accuracy: 0.513750, mean_q: 18.529840, mean_eps: 0.766720\n",
            " 2644/5000: episode: 104, duration: 1.219s, episode steps:  39, steps per second:  32, episode reward: 39.000, mean reward:  1.000 [ 1.000,  1.000], mean action: 0.487 [0.000, 1.000],  loss: 1.983609, mse: 173.510708, accuracy: 0.536058, mean_q: 18.925948, mean_eps: 0.763840\n",
            " 2670/5000: episode: 105, duration: 0.725s, episode steps:  26, steps per second:  36, episode reward: 26.000, mean reward:  1.000 [ 1.000,  1.000], mean action: 0.346 [0.000, 1.000],  loss: 1.903436, mse: 178.185601, accuracy: 0.542067, mean_q: 19.172391, mean_eps: 0.760915\n",
            " 2692/5000: episode: 106, duration: 0.821s, episode steps:  22, steps per second:  27, episode reward: 22.000, mean reward:  1.000 [ 1.000,  1.000], mean action: 0.500 [0.000, 1.000],  loss: 3.217429, mse: 178.775620, accuracy: 0.555398, mean_q: 19.213968, mean_eps: 0.758755\n",
            " 2759/5000: episode: 107, duration: 1.471s, episode steps:  67, steps per second:  46, episode reward: 67.000, mean reward:  1.000 [ 1.000,  1.000], mean action: 0.478 [0.000, 1.000],  loss: 2.496558, mse: 186.823068, accuracy: 0.536381, mean_q: 19.645139, mean_eps: 0.754750\n",
            " 2801/5000: episode: 108, duration: 0.788s, episode steps:  42, steps per second:  53, episode reward: 42.000, mean reward:  1.000 [ 1.000,  1.000], mean action: 0.524 [0.000, 1.000],  loss: 2.594140, mse: 193.016126, accuracy: 0.534226, mean_q: 19.965220, mean_eps: 0.749845\n",
            " 2837/5000: episode: 109, duration: 0.338s, episode steps:  36, steps per second: 106, episode reward: 36.000, mean reward:  1.000 [ 1.000,  1.000], mean action: 0.500 [0.000, 1.000],  loss: 2.220834, mse: 199.588963, accuracy: 0.559028, mean_q: 20.385960, mean_eps: 0.746335\n",
            " 2859/5000: episode: 110, duration: 0.187s, episode steps:  22, steps per second: 117, episode reward: 22.000, mean reward:  1.000 [ 1.000,  1.000], mean action: 0.455 [0.000, 1.000],  loss: 2.039805, mse: 203.277852, accuracy: 0.526989, mean_q: 20.484446, mean_eps: 0.743725\n",
            " 2912/5000: episode: 111, duration: 0.474s, episode steps:  53, steps per second: 112, episode reward: 53.000, mean reward:  1.000 [ 1.000,  1.000], mean action: 0.509 [0.000, 1.000],  loss: 2.453559, mse: 210.644406, accuracy: 0.529481, mean_q: 20.814478, mean_eps: 0.740350\n",
            " 2996/5000: episode: 112, duration: 0.735s, episode steps:  84, steps per second: 114, episode reward: 84.000, mean reward:  1.000 [ 1.000,  1.000], mean action: 0.536 [0.000, 1.000],  loss: 2.479098, mse: 221.872300, accuracy: 0.550595, mean_q: 21.411777, mean_eps: 0.734185\n",
            " 3135/5000: episode: 113, duration: 1.191s, episode steps: 139, steps per second: 117, episode reward: 139.000, mean reward:  1.000 [ 1.000,  1.000], mean action: 0.518 [0.000, 1.000],  loss: 2.508628, mse: 239.108686, accuracy: 0.549236, mean_q: 22.233188, mean_eps: 0.724150\n",
            " 3160/5000: episode: 114, duration: 0.229s, episode steps:  25, steps per second: 109, episode reward: 25.000, mean reward:  1.000 [ 1.000,  1.000], mean action: 0.440 [0.000, 1.000],  loss: 2.954044, mse: 255.516124, accuracy: 0.586250, mean_q: 23.118111, mean_eps: 0.716770\n",
            " 3189/5000: episode: 115, duration: 0.255s, episode steps:  29, steps per second: 114, episode reward: 29.000, mean reward:  1.000 [ 1.000,  1.000], mean action: 0.517 [0.000, 1.000],  loss: 2.436083, mse: 258.296044, accuracy: 0.539871, mean_q: 23.154350, mean_eps: 0.714340\n",
            " 3242/5000: episode: 116, duration: 0.466s, episode steps:  53, steps per second: 114, episode reward: 53.000, mean reward:  1.000 [ 1.000,  1.000], mean action: 0.491 [0.000, 1.000],  loss: 2.808285, mse: 266.406482, accuracy: 0.556014, mean_q: 23.547079, mean_eps: 0.710650\n",
            " 3303/5000: episode: 117, duration: 0.541s, episode steps:  61, steps per second: 113, episode reward: 61.000, mean reward:  1.000 [ 1.000,  1.000], mean action: 0.426 [0.000, 1.000],  loss: 2.723901, mse: 272.707596, accuracy: 0.538422, mean_q: 23.791731, mean_eps: 0.705520\n",
            " 3350/5000: episode: 118, duration: 0.437s, episode steps:  47, steps per second: 108, episode reward: 47.000, mean reward:  1.000 [ 1.000,  1.000], mean action: 0.489 [0.000, 1.000],  loss: 2.112046, mse: 285.712901, accuracy: 0.559840, mean_q: 24.419985, mean_eps: 0.700660\n",
            " 3421/5000: episode: 119, duration: 0.630s, episode steps:  71, steps per second: 113, episode reward: 71.000, mean reward:  1.000 [ 1.000,  1.000], mean action: 0.521 [0.000, 1.000],  loss: 3.545651, mse: 292.935231, accuracy: 0.564701, mean_q: 24.694423, mean_eps: 0.695350\n",
            " 3435/5000: episode: 120, duration: 0.131s, episode steps:  14, steps per second: 107, episode reward: 14.000, mean reward:  1.000 [ 1.000,  1.000], mean action: 0.429 [0.000, 1.000],  loss: 1.730923, mse: 298.611958, accuracy: 0.613839, mean_q: 25.044257, mean_eps: 0.691525\n",
            " 3522/5000: episode: 121, duration: 0.773s, episode steps:  87, steps per second: 112, episode reward: 87.000, mean reward:  1.000 [ 1.000,  1.000], mean action: 0.529 [0.000, 1.000],  loss: 2.514626, mse: 313.515892, accuracy: 0.556034, mean_q: 25.535505, mean_eps: 0.686980\n",
            " 3557/5000: episode: 122, duration: 0.338s, episode steps:  35, steps per second: 104, episode reward: 35.000, mean reward:  1.000 [ 1.000,  1.000], mean action: 0.543 [0.000, 1.000],  loss: 2.481414, mse: 329.179840, accuracy: 0.585714, mean_q: 26.301221, mean_eps: 0.681490\n",
            " 3610/5000: episode: 123, duration: 0.467s, episode steps:  53, steps per second: 114, episode reward: 53.000, mean reward:  1.000 [ 1.000,  1.000], mean action: 0.491 [0.000, 1.000],  loss: 2.899396, mse: 338.096631, accuracy: 0.547759, mean_q: 26.484442, mean_eps: 0.677530\n",
            " 3632/5000: episode: 124, duration: 0.203s, episode steps:  22, steps per second: 109, episode reward: 22.000, mean reward:  1.000 [ 1.000,  1.000], mean action: 0.545 [0.000, 1.000],  loss: 2.196079, mse: 353.095019, accuracy: 0.542614, mean_q: 27.110931, mean_eps: 0.674155\n",
            " 3692/5000: episode: 125, duration: 0.530s, episode steps:  60, steps per second: 113, episode reward: 60.000, mean reward:  1.000 [ 1.000,  1.000], mean action: 0.483 [0.000, 1.000],  loss: 1.956844, mse: 359.670732, accuracy: 0.575000, mean_q: 27.436856, mean_eps: 0.670465\n",
            " 3802/5000: episode: 126, duration: 1.232s, episode steps: 110, steps per second:  89, episode reward: 110.000, mean reward:  1.000 [ 1.000,  1.000], mean action: 0.536 [0.000, 1.000],  loss: 3.054726, mse: 376.071220, accuracy: 0.566477, mean_q: 27.971303, mean_eps: 0.662815\n",
            " 3842/5000: episode: 127, duration: 0.502s, episode steps:  40, steps per second:  80, episode reward: 40.000, mean reward:  1.000 [ 1.000,  1.000], mean action: 0.525 [0.000, 1.000],  loss: 2.361825, mse: 399.944677, accuracy: 0.541406, mean_q: 28.704445, mean_eps: 0.656065\n",
            " 3870/5000: episode: 128, duration: 0.365s, episode steps:  28, steps per second:  77, episode reward: 28.000, mean reward:  1.000 [ 1.000,  1.000], mean action: 0.464 [0.000, 1.000],  loss: 2.294551, mse: 400.864927, accuracy: 0.558036, mean_q: 28.817245, mean_eps: 0.653005\n",
            " 3930/5000: episode: 129, duration: 0.735s, episode steps:  60, steps per second:  82, episode reward: 60.000, mean reward:  1.000 [ 1.000,  1.000], mean action: 0.467 [0.000, 1.000],  loss: 2.571949, mse: 408.482911, accuracy: 0.561458, mean_q: 29.122196, mean_eps: 0.649045\n",
            " 4039/5000: episode: 130, duration: 1.391s, episode steps: 109, steps per second:  78, episode reward: 109.000, mean reward:  1.000 [ 1.000,  1.000], mean action: 0.514 [0.000, 1.000],  loss: 2.800703, mse: 440.337610, accuracy: 0.565654, mean_q: 30.397901, mean_eps: 0.641440\n",
            " 4138/5000: episode: 131, duration: 1.302s, episode steps:  99, steps per second:  76, episode reward: 99.000, mean reward:  1.000 [ 1.000,  1.000], mean action: 0.475 [0.000, 1.000],  loss: 2.364336, mse: 466.034452, accuracy: 0.571338, mean_q: 31.311224, mean_eps: 0.632080\n",
            " 4242/5000: episode: 132, duration: 0.917s, episode steps: 104, steps per second: 113, episode reward: 104.000, mean reward:  1.000 [ 1.000,  1.000], mean action: 0.490 [0.000, 1.000],  loss: 2.841375, mse: 490.067346, accuracy: 0.572416, mean_q: 32.046235, mean_eps: 0.622945\n",
            " 4432/5000: episode: 133, duration: 1.695s, episode steps: 190, steps per second: 112, episode reward: 190.000, mean reward:  1.000 [ 1.000,  1.000], mean action: 0.505 [0.000, 1.000],  loss: 2.825417, mse: 542.894767, accuracy: 0.568257, mean_q: 33.611997, mean_eps: 0.609715\n",
            " 4475/5000: episode: 134, duration: 0.364s, episode steps:  43, steps per second: 118, episode reward: 43.000, mean reward:  1.000 [ 1.000,  1.000], mean action: 0.465 [0.000, 1.000],  loss: 3.050578, mse: 576.090827, accuracy: 0.558140, mean_q: 34.771629, mean_eps: 0.599230\n",
            " 4534/5000: episode: 135, duration: 0.516s, episode steps:  59, steps per second: 114, episode reward: 59.000, mean reward:  1.000 [ 1.000,  1.000], mean action: 0.559 [0.000, 1.000],  loss: 2.620650, mse: 589.975631, accuracy: 0.566208, mean_q: 35.045682, mean_eps: 0.594640\n",
            " 4631/5000: episode: 136, duration: 0.868s, episode steps:  97, steps per second: 112, episode reward: 97.000, mean reward:  1.000 [ 1.000,  1.000], mean action: 0.505 [0.000, 1.000],  loss: 3.432337, mse: 607.446732, accuracy: 0.591495, mean_q: 35.642373, mean_eps: 0.587620\n",
            " 4744/5000: episode: 137, duration: 0.992s, episode steps: 113, steps per second: 114, episode reward: 113.000, mean reward:  1.000 [ 1.000,  1.000], mean action: 0.487 [0.000, 1.000],  loss: 3.415970, mse: 657.442142, accuracy: 0.573838, mean_q: 37.001216, mean_eps: 0.578170\n",
            " 4850/5000: episode: 138, duration: 0.928s, episode steps: 106, steps per second: 114, episode reward: 106.000, mean reward:  1.000 [ 1.000,  1.000], mean action: 0.500 [0.000, 1.000],  loss: 3.493774, mse: 688.141706, accuracy: 0.576651, mean_q: 37.904448, mean_eps: 0.568315\n",
            "done, took 74.888 seconds\n"
          ]
        }
      ],
      "source": [
        "#Finally fit and train the agent\n",
        "#Verbose parameter controls how much information is printed during training. A value of 10 means that training progress is printed every 10 steps.\n",
        "history = dqn.fit(env, nb_steps=5000, visualize=False, verbose=10)\n"
      ]
    },
    {
      "cell_type": "code",
      "execution_count": 9,
      "id": "306acdfd",
      "metadata": {
        "colab": {
          "base_uri": "https://localhost:8080/",
          "height": 606
        },
        "id": "306acdfd",
        "outputId": "fd807c2d-da0e-440f-d077-a3521504570f"
      },
      "outputs": [
        {
          "output_type": "display_data",
          "data": {
            "text/plain": [
              "<Figure size 1296x720 with 1 Axes>"
            ],
            "image/png": "[encoded data removed]"
          },
          "metadata": {
            "needs_background": "light"
          }
        }
      ],
      "source": [
        "# Visualize the history for number of Training episode steps of the Cart Pole Game\n",
        "plt.figure(figsize = (18,10))\n",
        "plt.plot(history.history['nb_episode_steps'])\n",
        "plt.ylabel('nb_episode_steps')\n",
        "plt.xlabel('episodes')\n",
        "plt.show()\n"
      ]
    },
    {
      "cell_type": "markdown",
      "id": "f30de5f0",
      "metadata": {
        "id": "f30de5f0"
      },
      "source": [
        "# Testing"
      ]
    },
    {
      "cell_type": "code",
      "execution_count": 10,
      "id": "22856561",
      "metadata": {
        "colab": {
          "base_uri": "https://localhost:8080/"
        },
        "id": "22856561",
        "outputId": "879a9664-8db5-4c35-ab65-df990159ade1"
      },
      "outputs": [
        {
          "output_type": "stream",
          "name": "stdout",
          "text": [
            "Testing for 100 episodes ...\n",
            "Episode 1: reward: 327.000, steps: 327\n",
            "Episode 2: reward: 500.000, steps: 500\n",
            "Episode 3: reward: 200.000, steps: 200\n",
            "Episode 4: reward: 256.000, steps: 256\n",
            "Episode 5: reward: 321.000, steps: 321\n",
            "Episode 6: reward: 269.000, steps: 269\n",
            "Episode 7: reward: 238.000, steps: 238\n",
            "Episode 8: reward: 245.000, steps: 245\n",
            "Episode 9: reward: 366.000, steps: 366\n",
            "Episode 10: reward: 208.000, steps: 208\n",
            "Episode 11: reward: 440.000, steps: 440\n",
            "Episode 12: reward: 374.000, steps: 374\n",
            "Episode 13: reward: 500.000, steps: 500\n",
            "Episode 14: reward: 236.000, steps: 236\n",
            "Episode 15: reward: 269.000, steps: 269\n",
            "Episode 16: reward: 213.000, steps: 213\n",
            "Episode 17: reward: 393.000, steps: 393\n",
            "Episode 18: reward: 500.000, steps: 500\n",
            "Episode 19: reward: 403.000, steps: 403\n",
            "Episode 20: reward: 313.000, steps: 313\n",
            "Episode 21: reward: 299.000, steps: 299\n",
            "Episode 22: reward: 247.000, steps: 247\n",
            "Episode 23: reward: 500.000, steps: 500\n",
            "Episode 24: reward: 273.000, steps: 273\n",
            "Episode 25: reward: 187.000, steps: 187\n",
            "Episode 26: reward: 500.000, steps: 500\n",
            "Episode 27: reward: 332.000, steps: 332\n",
            "Episode 28: reward: 240.000, steps: 240\n",
            "Episode 29: reward: 269.000, steps: 269\n",
            "Episode 30: reward: 431.000, steps: 431\n",
            "Episode 31: reward: 204.000, steps: 204\n",
            "Episode 32: reward: 221.000, steps: 221\n",
            "Episode 33: reward: 192.000, steps: 192\n",
            "Episode 34: reward: 356.000, steps: 356\n",
            "Episode 35: reward: 313.000, steps: 313\n",
            "Episode 36: reward: 172.000, steps: 172\n",
            "Episode 37: reward: 231.000, steps: 231\n",
            "Episode 38: reward: 451.000, steps: 451\n",
            "Episode 39: reward: 317.000, steps: 317\n",
            "Episode 40: reward: 297.000, steps: 297\n",
            "Episode 41: reward: 287.000, steps: 287\n",
            "Episode 42: reward: 437.000, steps: 437\n",
            "Episode 43: reward: 409.000, steps: 409\n",
            "Episode 44: reward: 210.000, steps: 210\n",
            "Episode 45: reward: 377.000, steps: 377\n",
            "Episode 46: reward: 385.000, steps: 385\n",
            "Episode 47: reward: 297.000, steps: 297\n",
            "Episode 48: reward: 280.000, steps: 280\n",
            "Episode 49: reward: 343.000, steps: 343\n",
            "Episode 50: reward: 231.000, steps: 231\n",
            "Episode 51: reward: 202.000, steps: 202\n",
            "Episode 52: reward: 245.000, steps: 245\n",
            "Episode 53: reward: 226.000, steps: 226\n",
            "Episode 54: reward: 331.000, steps: 331\n",
            "Episode 55: reward: 261.000, steps: 261\n",
            "Episode 56: reward: 264.000, steps: 264\n",
            "Episode 57: reward: 305.000, steps: 305\n",
            "Episode 58: reward: 235.000, steps: 235\n",
            "Episode 59: reward: 283.000, steps: 283\n",
            "Episode 60: reward: 291.000, steps: 291\n",
            "Episode 61: reward: 204.000, steps: 204\n",
            "Episode 62: reward: 211.000, steps: 211\n",
            "Episode 63: reward: 337.000, steps: 337\n",
            "Episode 64: reward: 359.000, steps: 359\n",
            "Episode 65: reward: 354.000, steps: 354\n",
            "Episode 66: reward: 303.000, steps: 303\n",
            "Episode 67: reward: 209.000, steps: 209\n",
            "Episode 68: reward: 381.000, steps: 381\n",
            "Episode 69: reward: 280.000, steps: 280\n",
            "Episode 70: reward: 247.000, steps: 247\n",
            "Episode 71: reward: 261.000, steps: 261\n",
            "Episode 72: reward: 266.000, steps: 266\n",
            "Episode 73: reward: 479.000, steps: 479\n",
            "Episode 74: reward: 281.000, steps: 281\n",
            "Episode 75: reward: 500.000, steps: 500\n",
            "Episode 76: reward: 500.000, steps: 500\n",
            "Episode 77: reward: 276.000, steps: 276\n",
            "Episode 78: reward: 237.000, steps: 237\n",
            "Episode 79: reward: 259.000, steps: 259\n",
            "Episode 80: reward: 273.000, steps: 273\n",
            "Episode 81: reward: 273.000, steps: 273\n",
            "Episode 82: reward: 217.000, steps: 217\n",
            "Episode 83: reward: 500.000, steps: 500\n",
            "Episode 84: reward: 211.000, steps: 211\n",
            "Episode 85: reward: 310.000, steps: 310\n",
            "Episode 86: reward: 295.000, steps: 295\n",
            "Episode 87: reward: 217.000, steps: 217\n",
            "Episode 88: reward: 286.000, steps: 286\n",
            "Episode 89: reward: 303.000, steps: 303\n",
            "Episode 90: reward: 311.000, steps: 311\n",
            "Episode 91: reward: 255.000, steps: 255\n",
            "Episode 92: reward: 279.000, steps: 279\n",
            "Episode 93: reward: 252.000, steps: 252\n",
            "Episode 94: reward: 227.000, steps: 227\n",
            "Episode 95: reward: 283.000, steps: 283\n",
            "Episode 96: reward: 500.000, steps: 500\n",
            "Episode 97: reward: 334.000, steps: 334\n",
            "Episode 98: reward: 297.000, steps: 297\n",
            "Episode 99: reward: 239.000, steps: 239\n",
            "Episode 100: reward: 337.000, steps: 337\n"
          ]
        },
        {
          "output_type": "execute_result",
          "data": {
            "text/plain": [
              "<keras.callbacks.History at 0x7fb12de770d0>"
            ]
          },
          "metadata": {},
          "execution_count": 10
        }
      ],
      "source": [
        "# Finally, evaluate and test our algorithm for 100 episodes.\n",
        "dqn.test(env, nb_episodes=100, visualize=False)"
      ]
    },
    {
      "cell_type": "code",
      "execution_count": 11,
      "id": "ca311154",
      "metadata": {
        "id": "ca311154"
      },
      "outputs": [],
      "source": [
        "# After training is done, we save the final weights.\n",
        "dqn.save_weights('dqn_weights.h5f', overwrite=False)"
      ]
    },
    {
      "cell_type": "code",
      "execution_count": 12,
      "id": "c05f5658",
      "metadata": {
        "colab": {
          "base_uri": "https://localhost:8080/"
        },
        "id": "c05f5658",
        "outputId": "5fea0458-08f1-428a-bd24-38f702d198b0"
      },
      "outputs": [
        {
          "output_type": "stream",
          "name": "stdout",
          "text": [
            "Observation:  [-0.03007117  0.04711345  0.01588365  0.00458632]\n",
            "Chosen action:  1\n",
            "Observations after action:  [-0.0291289   0.24200405  0.01597538 -0.28304311]\n",
            "Reward for this step:  1.0\n",
            "Episode Completion:  False\n"
          ]
        }
      ],
      "source": [
        "observation = env.reset()\n",
        "dqn.load_weights('dqn_weights.h5f')\n",
        "action = dqn.forward(observation)\n",
        "\n",
        "print(\"Observation: \", observation)\n",
        "print(\"Chosen action: \", action)\n",
        "\n",
        "new_observation, reward, done, info = env.step(action)\n",
        "print(\"Observations after action: \", new_observation)\n",
        "print(\"Reward for this step: \", reward)\n",
        "print(\"Episode Completion: \", done)"
      ]
    },
    {
      "cell_type": "markdown",
      "id": "b8a1c678",
      "metadata": {
        "id": "b8a1c678"
      },
      "source": [
        "## Task 2"
      ]
    },
    {
      "cell_type": "markdown",
      "id": "eae724e8",
      "metadata": {
        "id": "eae724e8"
      },
      "source": [
        "Each Episode comprises of multiple steps. The environment is reset at the start of each episode as required. Next, the Agent makes the forward step based on the observation, before updating the new episode reward and observation for the next step. This continues until the termination criteria or truncation value of 500. Each cumulative reward is stored in a list and mapped out in the graph."
      ]
    },
    {
      "cell_type": "code",
      "execution_count": 13,
      "id": "e8277289",
      "metadata": {
        "colab": {
          "base_uri": "https://localhost:8080/"
        },
        "id": "e8277289",
        "outputId": "d0efddb2-4774-4132-eca2-c835b3d48507"
      },
      "outputs": [
        {
          "output_type": "stream",
          "name": "stdout",
          "text": [
            "Episode: 1  Cumulative reward:  339.0\n",
            "Episode: 2  Cumulative reward:  352.0\n",
            "Episode: 3  Cumulative reward:  200.0\n",
            "Episode: 4  Cumulative reward:  387.0\n",
            "Episode: 5  Cumulative reward:  324.0\n",
            "Episode: 6  Cumulative reward:  327.0\n",
            "Episode: 7  Cumulative reward:  213.0\n",
            "Episode: 8  Cumulative reward:  194.0\n",
            "Episode: 9  Cumulative reward:  423.0\n",
            "Episode: 10  Cumulative reward:  303.0\n",
            "Episode: 11  Cumulative reward:  186.0\n",
            "Episode: 12  Cumulative reward:  257.0\n",
            "Episode: 13  Cumulative reward:  193.0\n",
            "Episode: 14  Cumulative reward:  191.0\n",
            "Episode: 15  Cumulative reward:  268.0\n",
            "Episode: 16  Cumulative reward:  298.0\n",
            "Episode: 17  Cumulative reward:  193.0\n",
            "Episode: 18  Cumulative reward:  290.0\n",
            "Episode: 19  Cumulative reward:  281.0\n",
            "Episode: 20  Cumulative reward:  292.0\n",
            "Episode: 21  Cumulative reward:  387.0\n",
            "Episode: 22  Cumulative reward:  267.0\n",
            "Episode: 23  Cumulative reward:  289.0\n",
            "Episode: 24  Cumulative reward:  258.0\n",
            "Episode: 25  Cumulative reward:  229.0\n",
            "Episode: 26  Cumulative reward:  315.0\n",
            "Episode: 27  Cumulative reward:  475.0\n",
            "Episode: 28  Cumulative reward:  456.0\n",
            "Episode: 29  Cumulative reward:  261.0\n",
            "Episode: 30  Cumulative reward:  250.0\n",
            "Episode: 31  Cumulative reward:  358.0\n",
            "Episode: 32  Cumulative reward:  331.0\n",
            "Episode: 33  Cumulative reward:  249.0\n",
            "Episode: 34  Cumulative reward:  242.0\n",
            "Episode: 35  Cumulative reward:  413.0\n",
            "Episode: 36  Cumulative reward:  203.0\n",
            "Episode: 37  Cumulative reward:  195.0\n",
            "Episode: 38  Cumulative reward:  355.0\n",
            "Episode: 39  Cumulative reward:  306.0\n",
            "Episode: 40  Cumulative reward:  383.0\n",
            "Episode: 41  Cumulative reward:  429.0\n",
            "Episode: 42  Cumulative reward:  399.0\n",
            "Episode: 43  Cumulative reward:  261.0\n",
            "Episode: 44  Cumulative reward:  217.0\n",
            "Episode: 45  Cumulative reward:  190.0\n",
            "Episode: 46  Cumulative reward:  460.0\n",
            "Episode: 47  Cumulative reward:  264.0\n",
            "Episode: 48  Cumulative reward:  231.0\n",
            "Episode: 49  Cumulative reward:  211.0\n",
            "Episode: 50  Cumulative reward:  339.0\n",
            "Episode: 51  Cumulative reward:  381.0\n",
            "Episode: 52  Cumulative reward:  307.0\n",
            "Episode: 53  Cumulative reward:  357.0\n",
            "Episode: 54  Cumulative reward:  206.0\n",
            "Episode: 55  Cumulative reward:  299.0\n",
            "Episode: 56  Cumulative reward:  191.0\n",
            "Episode: 57  Cumulative reward:  173.0\n",
            "Episode: 58  Cumulative reward:  259.0\n",
            "Episode: 59  Cumulative reward:  269.0\n",
            "Episode: 60  Cumulative reward:  469.0\n",
            "Episode: 61  Cumulative reward:  500.0\n",
            "Episode: 62  Cumulative reward:  324.0\n",
            "Episode: 63  Cumulative reward:  205.0\n",
            "Episode: 64  Cumulative reward:  242.0\n",
            "Episode: 65  Cumulative reward:  331.0\n",
            "Episode: 66  Cumulative reward:  265.0\n",
            "Episode: 67  Cumulative reward:  191.0\n",
            "Episode: 68  Cumulative reward:  500.0\n",
            "Episode: 69  Cumulative reward:  334.0\n",
            "Episode: 70  Cumulative reward:  286.0\n",
            "Episode: 71  Cumulative reward:  245.0\n",
            "Episode: 72  Cumulative reward:  260.0\n",
            "Episode: 73  Cumulative reward:  201.0\n",
            "Episode: 74  Cumulative reward:  262.0\n",
            "Episode: 75  Cumulative reward:  234.0\n",
            "Episode: 76  Cumulative reward:  414.0\n",
            "Episode: 77  Cumulative reward:  385.0\n",
            "Episode: 78  Cumulative reward:  227.0\n",
            "Episode: 79  Cumulative reward:  235.0\n",
            "Episode: 80  Cumulative reward:  223.0\n",
            "Episode: 81  Cumulative reward:  242.0\n",
            "Episode: 82  Cumulative reward:  205.0\n",
            "Episode: 83  Cumulative reward:  201.0\n",
            "Episode: 84  Cumulative reward:  290.0\n",
            "Episode: 85  Cumulative reward:  215.0\n",
            "Episode: 86  Cumulative reward:  207.0\n",
            "Episode: 87  Cumulative reward:  362.0\n",
            "Episode: 88  Cumulative reward:  500.0\n",
            "Episode: 89  Cumulative reward:  235.0\n",
            "Episode: 90  Cumulative reward:  237.0\n",
            "Episode: 91  Cumulative reward:  214.0\n",
            "Episode: 92  Cumulative reward:  299.0\n",
            "Episode: 93  Cumulative reward:  395.0\n",
            "Episode: 94  Cumulative reward:  474.0\n",
            "Episode: 95  Cumulative reward:  200.0\n",
            "Episode: 96  Cumulative reward:  254.0\n",
            "Episode: 97  Cumulative reward:  230.0\n",
            "Episode: 98  Cumulative reward:  252.0\n",
            "Episode: 99  Cumulative reward:  260.0\n",
            "Episode: 100  Cumulative reward:  175.0\n"
          ]
        }
      ],
      "source": [
        "num_episodes = 100\n",
        "episode_results = []\n",
        "dqn.load_weights('dqn_weights.h5f')\n",
        "for i in range(1,num_episodes+1):\n",
        "    # Reset environment at the beginning of each episode\n",
        "    observation = env.reset()\n",
        "    cumulative_reward = 0\n",
        "    done = False\n",
        "\n",
        "    while not done:\n",
        "        # Agent takes action based on observation\n",
        "        action = dqn.forward(observation)\n",
        "        \n",
        "        # Environment processes action and returns new observation, reward, and done flag\n",
        "        new_observation, reward, done, info = env.step(action)\n",
        "\n",
        "        # Update episode reward and observation for next step\n",
        "        observation = new_observation\n",
        "        cumulative_reward += reward\n",
        "        \n",
        "    print(\"Episode:\", i, \" Cumulative reward: \", cumulative_reward)\n",
        "    episode_results.append(cumulative_reward)"
      ]
    },
    {
      "cell_type": "code",
      "execution_count": 14,
      "id": "47225d21",
      "metadata": {
        "colab": {
          "base_uri": "https://localhost:8080/",
          "height": 296
        },
        "id": "47225d21",
        "outputId": "1f9387fc-0817-42ee-f8c4-b8c09e63c549"
      },
      "outputs": [
        {
          "output_type": "display_data",
          "data": {
            "text/plain": [
              "<Figure size 432x288 with 1 Axes>"
            ],
            "image/png": "[encoded data removed]"
          },
          "metadata": {
            "needs_background": "light"
          }
        }
      ],
      "source": [
        "plt.plot(episode_results)\n",
        "plt.title('Cumulative reward for each episode')\n",
        "plt.ylabel('Cumulative reward')\n",
        "plt.xlabel('episode')\n",
        "plt.show()"
      ]
    },
    {
      "cell_type": "code",
      "execution_count": 15,
      "id": "cdfebdd5",
      "metadata": {
        "colab": {
          "base_uri": "https://localhost:8080/"
        },
        "id": "cdfebdd5",
        "outputId": "cca06fd2-e93d-4c38-db43-779513d75cac"
      },
      "outputs": [
        {
          "output_type": "stream",
          "name": "stdout",
          "text": [
            "Average cumulative reward: 289.56\n",
            "Is my agent good enough? True\n"
          ]
        }
      ],
      "source": [
        "mean = sum(episode_results) / len(episode_results)\n",
        "print(\"Average cumulative reward:\", mean)\n",
        "print(\"Is my agent good enough?\", mean > 195)"
      ]
    },
    {
      "cell_type": "markdown",
      "id": "1a401987",
      "metadata": {
        "id": "1a401987"
      },
      "source": [
        "## Task 3\n",
        "Render an episode played by the developed RL agent"
      ]
    },
    {
      "cell_type": "code",
      "execution_count": 16,
      "id": "44bfaa04",
      "metadata": {
        "colab": {
          "base_uri": "https://localhost:8080/",
          "height": 718
        },
        "id": "44bfaa04",
        "outputId": "e4e99fd4-3b00-466d-de62-c54b737820b1"
      },
      "outputs": [
        {
          "output_type": "stream",
          "name": "stdout",
          "text": [
            "Looking in indexes: https://pypi.org/simple, https://us-python.pkg.dev/colab-wheels/public/simple/\n",
            "Requirement already satisfied: pyvirtualdisplay in /usr/local/lib/python3.9/dist-packages (3.0)\n",
            "Looking in indexes: https://pypi.org/simple, https://us-python.pkg.dev/colab-wheels/public/simple/\n",
            "Collecting pyglet==1.5.27\n",
            "  Downloading pyglet-1.5.27-py3-none-any.whl (1.1 MB)\n",
            "\u001b[2K     \u001b[90m━━━━━━━━━━━━━━━━━━━━━━━━━━━━━━━━━━━━━━━━\u001b[0m \u001b[32m1.1/1.1 MB\u001b[0m \u001b[31m15.3 MB/s\u001b[0m eta \u001b[36m0:00:00\u001b[0m\n",
            "\u001b[?25hInstalling collected packages: pyglet\n",
            "  Attempting uninstall: pyglet\n",
            "    Found existing installation: pyglet 1.5.0\n",
            "    Uninstalling pyglet-1.5.0:\n",
            "      Successfully uninstalled pyglet-1.5.0\n",
            "\u001b[31mERROR: pip's dependency resolver does not currently take into account all the packages that are installed. This behaviour is the source of the following dependency conflicts.\n",
            "gym 0.17.3 requires pyglet<=1.5.0,>=1.4.0, but you have pyglet 1.5.27 which is incompatible.\u001b[0m\u001b[31m\n",
            "\u001b[0mSuccessfully installed pyglet-1.5.27\n",
            "Looking in indexes: https://pypi.org/simple, https://us-python.pkg.dev/colab-wheels/public/simple/\n",
            "Requirement already satisfied: pyopengl in /usr/local/lib/python3.9/dist-packages (3.1.6)\n"
          ]
        },
        {
          "output_type": "display_data",
          "data": {
            "text/plain": [
              "<IPython.core.display.HTML object>"
            ],
            "text/html": [
              "<video alt=\"test\" autoplay \n",
              "                loop controls style=\"height: 400px;\">\n",
              "                <source src=\"data:video/mp4;base64,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\" type=\"video/mp4\" />\n",
              "             </video>"
            ]
          },
          "metadata": {}
        }
      ],
      "source": [
        "!pip install pyvirtualdisplay\n",
        "! pip install pyglet==1.5.27\n",
        "!pip install pyopengl\n",
        "from gym.wrappers import RecordVideo\n",
        "import os\n",
        "os.environ[\"PYGLET_NO_AVLIB\"] = \"1\"\n",
        "from pyvirtualdisplay import Display\n",
        "display = Display(visible=0, size=(1400, 900))\n",
        "display.start()\n",
        "\n",
        "\n",
        "env = RecordVideo(gym.make(\"CartPole-v1\"), \"./video\")\n",
        "observation = env.reset()\n",
        "while True:\n",
        "    env.render()\n",
        "    #your agent goes here\n",
        "    action = dqn.forward(observation)\n",
        "    observation, reward, done, info = env.step(action) \n",
        "    if done: \n",
        "      break;    \n",
        "env.close()\n",
        "show_video()\n",
        "     "
      ]
    },
    {
      "cell_type": "code",
      "execution_count": 16,
      "id": "14ffd533",
      "metadata": {
        "id": "14ffd533"
      },
      "outputs": [],
      "source": []
    },
    {
      "cell_type": "code",
      "execution_count": 16,
      "id": "993f40e0",
      "metadata": {
        "id": "993f40e0"
      },
      "outputs": [],
      "source": []
    },
    {
      "cell_type": "code",
      "execution_count": 16,
      "id": "23588315",
      "metadata": {
        "id": "23588315"
      },
      "outputs": [],
      "source": []
    },
    {
      "cell_type": "code",
      "execution_count": 16,
      "id": "8b59a75b",
      "metadata": {
        "id": "8b59a75b"
      },
      "outputs": [],
      "source": []
    }
  ],
  "metadata": {
    "colab": {
      "provenance": []
    },
    "kernelspec": {
      "display_name": "Python 3 (ipykernel)",
      "language": "python",
      "name": "python3"
    },
    "language_info": {
      "codemirror_mode": {
        "name": "ipython",
        "version": 3
      },
      "file_extension": ".py",
      "mimetype": "text/x-python",
      "name": "python",
      "nbconvert_exporter": "python",
      "pygments_lexer": "ipython3",
      "version": "3.9.7"
    }
  },
  "nbformat": 4,
  "nbformat_minor": 5
}