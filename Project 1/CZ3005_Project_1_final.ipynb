{
  "cells": [
    {
      "cell_type": "markdown",
      "id": "cbf929e8",
      "metadata": {
        "id": "cbf929e8"
      },
      "source": [
        "# CZ3005 Project 1 - Balancing a Pole on a Cart"
      ]
    },
    {
      "cell_type": "markdown",
      "id": "34e6fb8e",
      "metadata": {
        "id": "34e6fb8e"
      },
      "source": [
        "### Done by: Zon Liew (U1921098F), Charlotte Teo (U2022021G), Paul Low (U2022421F)"
      ]
    },
    {
      "cell_type": "markdown",
      "id": "0fa7c32e",
      "metadata": {
        "id": "0fa7c32e"
      },
      "source": [
        "Objectives:\n",
        "Apply Linear annealed policy with the EpsGreedyQPolicy as the inner policy:\n",
        "Achieve a DQN model that trains in the least possible number of episodes.\n",
        "Balance pole on the cart for 500 steps for 100 consecutive episodes while testing.\n",
        "\n",
        "Epsilon-Greedy chooses the optimal action at each step, but sometimes randomly chooses an unlikely option.\n",
        "We specify an initially high exploration rate (epsilon) of 1 at the beginning of Q function training because we know nothing about the importance of the Q table. Epsilon value is decreased as the agent has more confidence in the Q values.\n",
        "\n",
        "A DQN agent can be used in any environment which has a discrete action space.\n",
        "It is based on the Q - Network, a neural network model that can learn to predict Q-Values (expected returns) for all actions, given an observation from the environment.\n",
        "\n",
        "The hyperparameters are:\n",
        "\n",
        "Size of 1st fully connected layer: 256\n",
        "Size of 2nd fully connected layer: 512\n",
        "Period of the update of the target network parameters: 1000 steps\n",
        "Discount factor: 0.99\n",
        "Decay factor for epsilon in epsilon-greedy policy: 0.99\n",
        "Minimum epsilon in epsilon-greeddy policy: 1E-4\n",
        "Learning rate: 3E-4\n",
        "Size of replay memory: 1000000\n",
        "Period of experience replay: 4 steps\n",
        "PER alpha: 0.2\n",
        "PER beta0: 0.4\n"
      ]
    },
    {
      "cell_type": "markdown",
      "id": "ee149986",
      "metadata": {
        "id": "ee149986"
      },
      "source": [
        "\n",
        "## Task 1\n"
      ]
    },
    {
      "cell_type": "code",
      "execution_count": 1,
      "id": "a4af0a72",
      "metadata": {
        "colab": {
          "base_uri": "https://localhost:8080/"
        },
        "id": "a4af0a72",
        "outputId": "732de184-f132-452d-bcca-1325e7f63fb6"
      },
      "outputs": [
        {
          "name": "stdout",
          "output_type": "stream",
          "text": [
            "Looking in indexes: https://pypi.org/simple, https://us-python.pkg.dev/colab-wheels/public/simple/\n",
            "Requirement already satisfied: gym[classic_control] in /usr/local/lib/python3.9/dist-packages (0.25.2)\n",
            "Requirement already satisfied: gym-notices>=0.0.4 in /usr/local/lib/python3.9/dist-packages (from gym[classic_control]) (0.0.8)\n",
            "Requirement already satisfied: importlib-metadata>=4.8.0 in /usr/local/lib/python3.9/dist-packages (from gym[classic_control]) (6.0.0)\n",
            "Requirement already satisfied: numpy>=1.18.0 in /usr/local/lib/python3.9/dist-packages (from gym[classic_control]) (1.22.4)\n",
            "Requirement already satisfied: cloudpickle>=1.2.0 in /usr/local/lib/python3.9/dist-packages (from gym[classic_control]) (2.2.1)\n",
            "Collecting pygame==2.1.0\n",
            "  Downloading pygame-2.1.0-cp39-cp39-manylinux_2_17_x86_64.manylinux2014_x86_64.whl (18.3 MB)\n",
            "\u001b[2K     \u001b[90m━━━━━━━━━━━━━━━━━━━━━━━━━━━━━━━━━━━━━━━━\u001b[0m \u001b[32m18.3/18.3 MB\u001b[0m \u001b[31m66.5 MB/s\u001b[0m eta \u001b[36m0:00:00\u001b[0m\n",
            "\u001b[?25hRequirement already satisfied: zipp>=0.5 in /usr/local/lib/python3.9/dist-packages (from importlib-metadata>=4.8.0->gym[classic_control]) (3.15.0)\n",
            "Installing collected packages: pygame\n",
            "Successfully installed pygame-2.1.0\n",
            "Looking in indexes: https://pypi.org/simple, https://us-python.pkg.dev/colab-wheels/public/simple/\n",
            "Requirement already satisfied: setuptools in /usr/local/lib/python3.9/dist-packages (63.4.3)\n",
            "Collecting setuptools\n",
            "  Downloading setuptools-67.6.0-py3-none-any.whl (1.1 MB)\n",
            "\u001b[2K     \u001b[90m━━━━━━━━━━━━━━━━━━━━━━━━━━━━━━━━━━━━━━━━\u001b[0m \u001b[32m1.1/1.1 MB\u001b[0m \u001b[31m25.7 MB/s\u001b[0m eta \u001b[36m0:00:00\u001b[0m\n",
            "\u001b[?25hInstalling collected packages: setuptools\n",
            "  Attempting uninstall: setuptools\n",
            "    Found existing installation: setuptools 63.4.3\n",
            "    Uninstalling setuptools-63.4.3:\n",
            "      Successfully uninstalled setuptools-63.4.3\n",
            "\u001b[31mERROR: pip's dependency resolver does not currently take into account all the packages that are installed. This behaviour is the source of the following dependency conflicts.\n",
            "ipython 7.9.0 requires jedi>=0.10, which is not installed.\n",
            "cvxpy 1.3.0 requires setuptools<=64.0.2, but you have setuptools 67.6.0 which is incompatible.\u001b[0m\u001b[31m\n",
            "\u001b[0mSuccessfully installed setuptools-67.6.0\n"
          ]
        }
      ],
      "source": [
        "!apt-get install -y xvfb python-opengl > /dev/null 2>&1\n",
        "!pip install gym pyvirtualdisplay > /dev/null 2>&1\n",
        "!pip install gym pyvirtualdisplay > /dev/null 2>&1\n",
        "!apt-get install -y xvfb python-opengl ffmpeg > /dev/null 2>&1\n",
        "!pip install gym[classic_control]\n",
        "!apt-get update > /dev/null 2>&1\n",
        "!apt-get install cmake > /dev/null 2>&1\n",
        "!pip install --upgrade setuptools 2>&1\n",
        "!pip install ez_setup > /dev/null 2>&1\n",
        "#Install keras rl2 which seamlessly integrates with the  OpenAI Gym  to evaluate and play around with DQN Algorithm\n",
        "!pip install keras-rl2\n",
        "!pip install dopamine-rl\n",
        "#Install Open AI Gym for the Cart Pole Environment\n",
        "!pip install tensorflow --upgrade\n",
        "!pip install rl-agents==0.1.1"
      ]
    },
    {
      "cell_type": "markdown",
      "id": "VGCywaOX6Dv9",
      "metadata": {
        "id": "VGCywaOX6Dv9"
      },
      "source": [
        "# Import Dependencies"
      ]
    },
    {
      "cell_type": "code",
      "execution_count": 2,
      "id": "ab9d7358",
      "metadata": {
        "id": "ab9d7358"
      },
      "outputs": [],
      "source": [
        "import gym\n",
        "from gym import logger as gymlogger\n",
        "from gym.wrappers import RecordVideo\n",
        "gymlogger.set_level(40) #error only\n",
        "import tensorflow as tf\n",
        "import numpy as np\n",
        "import random\n",
        "import matplotlib\n",
        "import matplotlib.pyplot as plt\n",
        "%matplotlib inline\n",
        "import math\n",
        "import glob\n",
        "import io\n",
        "import base64\n",
        "from IPython.display import HTML\n",
        "from IPython import display as ipythondisplay\n",
        "import matplotlib.pyplot as plt\n",
        "import keras\n",
        "from keras import Sequential\n",
        "from keras.layers import Input, Flatten, Dense\n",
        "import numpy as np\n",
        "import rl\n",
        "from rl.memory import SequentialMemory\n",
        "from rl.agents.dqn import DQNAgent\n",
        "from rl.policy import LinearAnnealedPolicy, EpsGreedyQPolicy\n",
        "\n",
        "from tensorflow.keras.optimizers import Adam\n",
        "\n",
        "def show_video():\n",
        "  mp4list = glob.glob('video/*.mp4')\n",
        "  if len(mp4list) > 0:\n",
        "    mp4 = mp4list[0]\n",
        "    video = io.open(mp4, 'r+b').read()\n",
        "    encoded = base64.b64encode(video)\n",
        "    ipythondisplay.display(HTML(data='''<video alt=\"test\" autoplay \n",
        "                loop controls style=\"height: 400px;\">\n",
        "                <source src=\"data:video/mp4;base64,{0}\" type=\"video/mp4\" />\n",
        "             </video>'''.format(encoded.decode('ascii'))))\n",
        "  else: \n",
        "    print(\"Could not find video\")"
      ]
    },
    {
      "cell_type": "markdown",
      "id": "qJKIP-tc53rz",
      "metadata": {
        "id": "qJKIP-tc53rz"
      },
      "source": [
        "# Initialisation of Cartpole Environment\n",
        "Loaded from Open AI gym suite"
      ]
    },
    {
      "cell_type": "code",
      "execution_count": 5,
      "id": "a989c1ca",
      "metadata": {
        "id": "a989c1ca"
      },
      "outputs": [],
      "source": [
        "#Load the CartPole environment from the OpenAI Gym suite\n",
        "env = gym.make(\"CartPole-v1\")"
      ]
    },
    {
      "cell_type": "code",
      "execution_count": 6,
      "id": "595026ba",
      "metadata": {
        "colab": {
          "base_uri": "https://localhost:8080/"
        },
        "id": "595026ba",
        "outputId": "880a2325-ef01-4e9d-b159-3542144a6202"
      },
      "outputs": [
        {
          "name": "stdout",
          "output_type": "stream",
          "text": [
            "Initial observation: [-0.02055507  0.03118915  0.04134987  0.00485402]\n"
          ]
        }
      ],
      "source": [
        "#Resets the environment to an initial state and returns the initial observation.\n",
        "initial_observation = env.reset()\n",
        "print(\"Initial observation:\", initial_observation)\n",
        "cumulative_reward = 0\n",
        "done = False\n"
      ]
    },
    {
      "cell_type": "markdown",
      "id": "X8-aDhiR5JMQ",
      "metadata": {
        "id": "X8-aDhiR5JMQ"
      },
      "source": [
        "Observation corresponds to  'cart position', 'cart velocity', 'pole angle', and 'pole velocity' respectively.\n"
      ]
    },
    {
      "cell_type": "markdown",
      "id": "WpxvyDAD5xwQ",
      "metadata": {
        "id": "WpxvyDAD5xwQ"
      },
      "source": [
        "# Initialisation of Agent\n",
        "\n",
        "Setup of Deep Q-Network (DQN) agent using Keras-RL library for reinforcement learning.\n",
        "\n",
        "Important functions used include:\n",
        "1. SequentialMemory: This sets up an experience replay buffer with a capacity limit of 50,000 and a window length of 1. The buffer stores the agent's experiences so that they can be randomly sampled during the training process.\n",
        "2. LinearAnnealedPolicy: This sets up the exploration policy for the agent. It uses the EpsGreedyQPolicy as the inner policy which selects actions based on a trade-off between exploration and exploitation. The LinearAnnealedPolicy gradually decreases the exploration rate (eps) from 1.0 to 0.1 over 10,000 steps.\n",
        "3. Sequential: This sets up a feed-forward neural network model for the DQN. It has an input layer with a shape of (1, env.observation_space.shape[0]), which means it takes in a single observation vector of length env.observation_space.shape[0]. The hidden layers have 256 and 128 nodes respectively and use the ReLU activation function. The output layer has a number of nodes equal to the number of actions in the action space, and uses the linear activation function.\n",
        "4. DQNAgent: This sets up the DQN agent using the previously defined model, memory, policy, and other hyperparameters such as the number of warmup steps and the target model update rate. The enable_dueling_network argument is set to True, which means the agent will use a dueling architecture to estimate the Q-values of each action.\n",
        "\n"
      ]
    },
    {
      "cell_type": "code",
      "execution_count": 7,
      "id": "1f6b018e",
      "metadata": {
        "colab": {
          "base_uri": "https://localhost:8080/"
        },
        "id": "1f6b018e",
        "outputId": "0aa49099-89e1-47ab-b564-23d5487f7996"
      },
      "outputs": [
        {
          "name": "stdout",
          "output_type": "stream",
          "text": [
            "Model: \"sequential\"\n",
            "_________________________________________________________________\n",
            " Layer (type)                Output Shape              Param #   \n",
            "=================================================================\n",
            " flatten (Flatten)           (None, 4)                 0         \n",
            "                                                                 \n",
            " dense (Dense)               (None, 256)               1280      \n",
            "                                                                 \n",
            " dense_1 (Dense)             (None, 128)               32896     \n",
            "                                                                 \n",
            " dense_2 (Dense)             (None, 2)                 258       \n",
            "                                                                 \n",
            "=================================================================\n",
            "Total params: 34,434\n",
            "Trainable params: 34,434\n",
            "Non-trainable params: 0\n",
            "_________________________________________________________________\n",
            "None\n"
          ]
        },
        {
          "name": "stderr",
          "output_type": "stream",
          "text": [
            "WARNING:tensorflow:From /usr/local/lib/python3.9/dist-packages/tensorflow/python/autograph/pyct/static_analysis/liveness.py:83: Analyzer.lamba_check (from tensorflow.python.autograph.pyct.static_analysis.liveness) is deprecated and will be removed after 2023-09-23.\n",
            "Instructions for updating:\n",
            "Lambda fuctions will be no more assumed to be used in the statement where they are used, or at least in the same block. https://github.com/tensorflow/tensorflow/issues/56089\n"
          ]
        }
      ],
      "source": [
        "#Building DQN Agent with Keras-RL\n",
        "# setup experience replay buffer\n",
        "memory = SequentialMemory(limit=50000, window_length=1)\n",
        "\n",
        "# setup the Linear annealed policy with the EpsGreedyQPolicy as the inner policy\n",
        "policy =  LinearAnnealedPolicy(inner_policy=  EpsGreedyQPolicy(),   # policy used to select actions\n",
        "                               attr='eps',                          # attribute in the inner policy to vary             \n",
        "                               value_max=1.0,                       # maximum value of attribute that is varying\n",
        "                               value_min=0.1,                       # minimum value of attribute that is varying\n",
        "                               value_test=0.05,                     # test if the value selected is < 0.05\n",
        "                               nb_steps=10000)                      # the number of steps between value_max and value_min\n",
        "\n",
        "#Feed-Forward Neural Network Model for Deep Q Learning (DQN)\n",
        "model = Sequential()\n",
        "#print(env.observation_space)\n",
        "#Input is 1 observation vector, and the number of observations in that vector \n",
        "model.add(Input(shape=(1,env.observation_space.shape[0])))\n",
        "model.add(Flatten())\n",
        "#Hidden layers with 24 nodes each\n",
        "model.add(Dense(256, activation='relu'))\n",
        "model.add(Dense(128, activation='relu'))\n",
        "#Output is the number of actions in the action space\n",
        "model.add(Dense(env.action_space.n, activation='linear')) \n",
        "\n",
        "\n",
        "#Feed-Forward Neural Network Architecture Summary\n",
        "print(model.summary())\n",
        "\n",
        "#Defining DQN Agent for DQN Model\n",
        "dqn = DQNAgent(model=model,                     # Q-Network model\n",
        "               nb_actions=env.action_space.n,   # number of actions\n",
        "               memory=memory,                   # experience replay memory\n",
        "               nb_steps_warmup=25,              # how many steps are waited before starting experience replay\n",
        "               target_model_update=1e-2,        # how often the target network is updated\n",
        "               policy=policy,                   # the action selection policy\n",
        "              enable_dueling_network=True)                   \n",
        "\n",
        "# Configure and compile agent. \n",
        "#Use built-in tensorflow.keras Adam optimizer and evaluation metrics            \n",
        "#Adam._name = 'Adam'\n",
        "dqn.compile(keras.optimizers.Adam(learning_rate=2.5e-4,epsilon = 0.01), metrics = [\"mse\",'accuracy'])\n",
        "\n",
        "\n",
        "\n",
        "     "
      ]
    },
    {
      "cell_type": "markdown",
      "id": "qCvABuzd9i15",
      "metadata": {
        "id": "qCvABuzd9i15"
      },
      "source": []
    },
    {
      "cell_type": "markdown",
      "id": "b0af5288",
      "metadata": {},
      "source": [
        "# Training "
      ]
    },
    {
      "cell_type": "code",
      "execution_count": 8,
      "id": "2a2ff3b9",
      "metadata": {
        "colab": {
          "base_uri": "https://localhost:8080/"
        },
        "id": "2a2ff3b9",
        "outputId": "144e4397-fb9b-4142-a12c-1c64f432b412"
      },
      "outputs": [
        {
          "name": "stderr",
          "output_type": "stream",
          "text": [
            "/usr/local/lib/python3.9/dist-packages/keras/engine/training_v1.py:2357: UserWarning: `Model.state_updates` will be removed in a future version. This property should not be used in TensorFlow 2.0, as `updates` are applied automatically.\n",
            "  updates=self.state_updates,\n"
          ]
        },
        {
          "name": "stdout",
          "output_type": "stream",
          "text": [
            "Training for 5000 steps ...\n",
            "   12/5000: episode: 1, duration: 0.111s, episode steps:  12, steps per second: 108, episode reward: 12.000, mean reward:  1.000 [ 1.000,  1.000], mean action: 0.250 [0.000, 1.000],  loss: --, mse: --, accuracy: --, mean_q: --, mean_eps: --\n"
          ]
        },
        {
          "name": "stderr",
          "output_type": "stream",
          "text": [
            "/usr/local/lib/python3.9/dist-packages/rl/memory.py:37: UserWarning: Not enough entries to sample without replacement. Consider increasing your warm-up phase to avoid oversampling!\n",
            "  warnings.warn('Not enough entries to sample without replacement. Consider increasing your warm-up phase to avoid oversampling!')\n",
            "/usr/local/lib/python3.9/dist-packages/rl/memory.py:38: DeprecationWarning: This function is deprecated. Please call randint(1, 26 + 1) instead\n",
            "  batch_idxs = np.random.random_integers(low, high - 1, size=size)\n",
            "/usr/local/lib/python3.9/dist-packages/keras/engine/training_v1.py:2357: UserWarning: `Model.state_updates` will be removed in a future version. This property should not be used in TensorFlow 2.0, as `updates` are applied automatically.\n",
            "  updates=self.state_updates,\n",
            "/usr/local/lib/python3.9/dist-packages/rl/memory.py:38: DeprecationWarning: This function is deprecated. Please call randint(1, 27 + 1) instead\n",
            "  batch_idxs = np.random.random_integers(low, high - 1, size=size)\n",
            "/usr/local/lib/python3.9/dist-packages/rl/memory.py:38: DeprecationWarning: This function is deprecated. Please call randint(1, 28 + 1) instead\n",
            "  batch_idxs = np.random.random_integers(low, high - 1, size=size)\n",
            "/usr/local/lib/python3.9/dist-packages/rl/memory.py:38: DeprecationWarning: This function is deprecated. Please call randint(1, 29 + 1) instead\n",
            "  batch_idxs = np.random.random_integers(low, high - 1, size=size)\n",
            "/usr/local/lib/python3.9/dist-packages/rl/memory.py:38: DeprecationWarning: This function is deprecated. Please call randint(1, 30 + 1) instead\n",
            "  batch_idxs = np.random.random_integers(low, high - 1, size=size)\n",
            "/usr/local/lib/python3.9/dist-packages/rl/memory.py:38: DeprecationWarning: This function is deprecated. Please call randint(1, 31 + 1) instead\n",
            "  batch_idxs = np.random.random_integers(low, high - 1, size=size)\n"
          ]
        },
        {
          "name": "stdout",
          "output_type": "stream",
          "text": [
            "   42/5000: episode: 2, duration: 1.016s, episode steps:  30, steps per second:  30, episode reward: 30.000, mean reward:  1.000 [ 1.000,  1.000], mean action: 0.533 [0.000, 1.000],  loss: 0.494683, mse: 0.495174, accuracy: 0.548828, mean_q: 0.032485, mean_eps: 0.996985\n",
            "   57/5000: episode: 3, duration: 0.115s, episode steps:  15, steps per second: 131, episode reward: 15.000, mean reward:  1.000 [ 1.000,  1.000], mean action: 0.667 [0.000, 1.000],  loss: 0.460413, mse: 0.463180, accuracy: 0.487500, mean_q: 0.091124, mean_eps: 0.995590\n",
            "   71/5000: episode: 4, duration: 0.105s, episode steps:  14, steps per second: 133, episode reward: 14.000, mean reward:  1.000 [ 1.000,  1.000], mean action: 0.571 [0.000, 1.000],  loss: 0.433775, mse: 0.441491, accuracy: 0.486607, mean_q: 0.145166, mean_eps: 0.994285\n",
            "   89/5000: episode: 5, duration: 0.151s, episode steps:  18, steps per second: 119, episode reward: 18.000, mean reward:  1.000 [ 1.000,  1.000], mean action: 0.611 [0.000, 1.000],  loss: 0.396296, mse: 0.414911, accuracy: 0.458333, mean_q: 0.218956, mean_eps: 0.992845\n",
            "  113/5000: episode: 6, duration: 0.195s, episode steps:  24, steps per second: 123, episode reward: 24.000, mean reward:  1.000 [ 1.000,  1.000], mean action: 0.375 [0.000, 1.000],  loss: 0.348014, mse: 0.392368, accuracy: 0.463542, mean_q: 0.321210, mean_eps: 0.990955\n",
            "  149/5000: episode: 7, duration: 0.272s, episode steps:  36, steps per second: 132, episode reward: 36.000, mean reward:  1.000 [ 1.000,  1.000], mean action: 0.472 [0.000, 1.000],  loss: 0.290116, mse: 0.390140, accuracy: 0.489583, mean_q: 0.463137, mean_eps: 0.988255\n",
            "  173/5000: episode: 8, duration: 0.175s, episode steps:  24, steps per second: 137, episode reward: 24.000, mean reward:  1.000 [ 1.000,  1.000], mean action: 0.500 [0.000, 1.000],  loss: 0.246682, mse: 0.423371, accuracy: 0.518229, mean_q: 0.606843, mean_eps: 0.985555\n",
            "  198/5000: episode: 9, duration: 0.185s, episode steps:  25, steps per second: 135, episode reward: 25.000, mean reward:  1.000 [ 1.000,  1.000], mean action: 0.520 [0.000, 1.000],  loss: 0.216619, mse: 0.481180, accuracy: 0.536250, mean_q: 0.743762, mean_eps: 0.983350\n",
            "  214/5000: episode: 10, duration: 0.114s, episode steps:  16, steps per second: 140, episode reward: 16.000, mean reward:  1.000 [ 1.000,  1.000], mean action: 0.375 [0.000, 1.000],  loss: 0.188358, mse: 0.565891, accuracy: 0.527344, mean_q: 0.886761, mean_eps: 0.981505\n",
            "  233/5000: episode: 11, duration: 0.146s, episode steps:  19, steps per second: 130, episode reward: 19.000, mean reward:  1.000 [ 1.000,  1.000], mean action: 0.526 [0.000, 1.000],  loss: 0.170485, mse: 0.675701, accuracy: 0.519737, mean_q: 1.024652, mean_eps: 0.979930\n",
            "  244/5000: episode: 12, duration: 0.096s, episode steps:  11, steps per second: 114, episode reward: 11.000, mean reward:  1.000 [ 1.000,  1.000], mean action: 0.273 [0.000, 1.000],  loss: 0.152964, mse: 0.750741, accuracy: 0.485795, mean_q: 1.113683, mean_eps: 0.978580\n",
            "  256/5000: episode: 13, duration: 0.143s, episode steps:  12, steps per second:  84, episode reward: 12.000, mean reward:  1.000 [ 1.000,  1.000], mean action: 0.667 [0.000, 1.000],  loss: 0.147914, mse: 0.917049, accuracy: 0.481771, mean_q: 1.261200, mean_eps: 0.977545\n",
            "  278/5000: episode: 14, duration: 0.240s, episode steps:  22, steps per second:  92, episode reward: 22.000, mean reward:  1.000 [ 1.000,  1.000], mean action: 0.727 [0.000, 1.000],  loss: 0.138532, mse: 1.107090, accuracy: 0.524148, mean_q: 1.400214, mean_eps: 0.976015\n",
            "  315/5000: episode: 15, duration: 0.280s, episode steps:  37, steps per second: 132, episode reward: 37.000, mean reward:  1.000 [ 1.000,  1.000], mean action: 0.568 [0.000, 1.000],  loss: 0.135502, mse: 1.440917, accuracy: 0.480574, mean_q: 1.612239, mean_eps: 0.973360\n",
            "  329/5000: episode: 16, duration: 0.098s, episode steps:  14, steps per second: 144, episode reward: 14.000, mean reward:  1.000 [ 1.000,  1.000], mean action: 0.714 [0.000, 1.000],  loss: 0.118096, mse: 1.800537, accuracy: 0.497768, mean_q: 1.835947, mean_eps: 0.971065\n",
            "  343/5000: episode: 17, duration: 0.110s, episode steps:  14, steps per second: 127, episode reward: 14.000, mean reward:  1.000 [ 1.000,  1.000], mean action: 0.286 [0.000, 1.000],  loss: 0.152733, mse: 2.064703, accuracy: 0.475446, mean_q: 1.942989, mean_eps: 0.969805\n",
            "  358/5000: episode: 18, duration: 0.114s, episode steps:  15, steps per second: 132, episode reward: 15.000, mean reward:  1.000 [ 1.000,  1.000], mean action: 0.733 [0.000, 1.000],  loss: 0.136897, mse: 2.222696, accuracy: 0.502083, mean_q: 2.060602, mean_eps: 0.968500\n",
            "  387/5000: episode: 19, duration: 0.243s, episode steps:  29, steps per second: 119, episode reward: 29.000, mean reward:  1.000 [ 1.000,  1.000], mean action: 0.483 [0.000, 1.000],  loss: 0.156126, mse: 2.644673, accuracy: 0.504310, mean_q: 2.256068, mean_eps: 0.966520\n",
            "  422/5000: episode: 20, duration: 0.351s, episode steps:  35, steps per second: 100, episode reward: 35.000, mean reward:  1.000 [ 1.000,  1.000], mean action: 0.514 [0.000, 1.000],  loss: 0.170701, mse: 3.162941, accuracy: 0.508036, mean_q: 2.516656, mean_eps: 0.963640\n",
            "  438/5000: episode: 21, duration: 0.175s, episode steps:  16, steps per second:  91, episode reward: 16.000, mean reward:  1.000 [ 1.000,  1.000], mean action: 0.438 [0.000, 1.000],  loss: 0.145866, mse: 3.668232, accuracy: 0.527344, mean_q: 2.763032, mean_eps: 0.961345\n",
            "  477/5000: episode: 22, duration: 0.459s, episode steps:  39, steps per second:  85, episode reward: 39.000, mean reward:  1.000 [ 1.000,  1.000], mean action: 0.436 [0.000, 1.000],  loss: 0.191688, mse: 4.431766, accuracy: 0.493590, mean_q: 3.012996, mean_eps: 0.958870\n",
            "  489/5000: episode: 23, duration: 0.144s, episode steps:  12, steps per second:  84, episode reward: 12.000, mean reward:  1.000 [ 1.000,  1.000], mean action: 0.167 [0.000, 1.000],  loss: 0.163976, mse: 5.210893, accuracy: 0.505208, mean_q: 3.309336, mean_eps: 0.956575\n",
            "  510/5000: episode: 24, duration: 0.223s, episode steps:  21, steps per second:  94, episode reward: 21.000, mean reward:  1.000 [ 1.000,  1.000], mean action: 0.429 [0.000, 1.000],  loss: 0.188945, mse: 5.568877, accuracy: 0.511905, mean_q: 3.419875, mean_eps: 0.955090\n",
            "  520/5000: episode: 25, duration: 0.107s, episode steps:  10, steps per second:  93, episode reward: 10.000, mean reward:  1.000 [ 1.000,  1.000], mean action: 0.700 [0.000, 1.000],  loss: 0.284206, mse: 6.162812, accuracy: 0.534375, mean_q: 3.617005, mean_eps: 0.953695\n",
            "  542/5000: episode: 26, duration: 0.252s, episode steps:  22, steps per second:  87, episode reward: 22.000, mean reward:  1.000 [ 1.000,  1.000], mean action: 0.409 [0.000, 1.000],  loss: 0.303579, mse: 6.817521, accuracy: 0.531250, mean_q: 3.758046, mean_eps: 0.952255\n",
            "  557/5000: episode: 27, duration: 0.166s, episode steps:  15, steps per second:  90, episode reward: 15.000, mean reward:  1.000 [ 1.000,  1.000], mean action: 0.800 [0.000, 1.000],  loss: 0.250571, mse: 7.121873, accuracy: 0.529167, mean_q: 3.881792, mean_eps: 0.950590\n",
            "  568/5000: episode: 28, duration: 0.152s, episode steps:  11, steps per second:  73, episode reward: 11.000, mean reward:  1.000 [ 1.000,  1.000], mean action: 0.818 [0.000, 1.000],  loss: 0.479627, mse: 8.217253, accuracy: 0.588068, mean_q: 4.115697, mean_eps: 0.949420\n",
            "  594/5000: episode: 29, duration: 0.642s, episode steps:  26, steps per second:  41, episode reward: 26.000, mean reward:  1.000 [ 1.000,  1.000], mean action: 0.462 [0.000, 1.000],  loss: 0.355047, mse: 8.558250, accuracy: 0.506010, mean_q: 4.223210, mean_eps: 0.947755\n",
            "  604/5000: episode: 30, duration: 0.383s, episode steps:  10, steps per second:  26, episode reward: 10.000, mean reward:  1.000 [ 1.000,  1.000], mean action: 0.200 [0.000, 1.000],  loss: 0.324372, mse: 8.908782, accuracy: 0.521875, mean_q: 4.348936, mean_eps: 0.946135\n",
            "  621/5000: episode: 31, duration: 0.503s, episode steps:  17, steps per second:  34, episode reward: 17.000, mean reward:  1.000 [ 1.000,  1.000], mean action: 0.471 [0.000, 1.000],  loss: 0.455959, mse: 9.800974, accuracy: 0.582721, mean_q: 4.583337, mean_eps: 0.944920\n",
            "  661/5000: episode: 32, duration: 1.385s, episode steps:  40, steps per second:  29, episode reward: 40.000, mean reward:  1.000 [ 1.000,  1.000], mean action: 0.475 [0.000, 1.000],  loss: 0.517712, mse: 10.878306, accuracy: 0.522656, mean_q: 4.776277, mean_eps: 0.942355\n",
            "  677/5000: episode: 33, duration: 0.722s, episode steps:  16, steps per second:  22, episode reward: 16.000, mean reward:  1.000 [ 1.000,  1.000], mean action: 0.438 [0.000, 1.000],  loss: 0.379541, mse: 12.417980, accuracy: 0.486328, mean_q: 5.097323, mean_eps: 0.939835\n",
            "  696/5000: episode: 34, duration: 0.608s, episode steps:  19, steps per second:  31, episode reward: 19.000, mean reward:  1.000 [ 1.000,  1.000], mean action: 0.579 [0.000, 1.000],  loss: 0.676323, mse: 12.585353, accuracy: 0.537829, mean_q: 5.102913, mean_eps: 0.938260\n",
            "  749/5000: episode: 35, duration: 0.838s, episode steps:  53, steps per second:  63, episode reward: 53.000, mean reward:  1.000 [ 1.000,  1.000], mean action: 0.547 [0.000, 1.000],  loss: 0.671507, mse: 13.920006, accuracy: 0.528892, mean_q: 5.392352, mean_eps: 0.935020\n",
            "  767/5000: episode: 36, duration: 0.198s, episode steps:  18, steps per second:  91, episode reward: 18.000, mean reward:  1.000 [ 1.000,  1.000], mean action: 0.611 [0.000, 1.000],  loss: 0.633588, mse: 15.554920, accuracy: 0.519097, mean_q: 5.715516, mean_eps: 0.931825\n",
            "  792/5000: episode: 37, duration: 0.268s, episode steps:  25, steps per second:  93, episode reward: 25.000, mean reward:  1.000 [ 1.000,  1.000], mean action: 0.440 [0.000, 1.000],  loss: 0.518948, mse: 16.664286, accuracy: 0.536250, mean_q: 5.953180, mean_eps: 0.929890\n",
            "  825/5000: episode: 38, duration: 0.483s, episode steps:  33, steps per second:  68, episode reward: 33.000, mean reward:  1.000 [ 1.000,  1.000], mean action: 0.394 [0.000, 1.000],  loss: 0.714810, mse: 18.272085, accuracy: 0.515152, mean_q: 6.171677, mean_eps: 0.927280\n",
            "  842/5000: episode: 39, duration: 0.246s, episode steps:  17, steps per second:  69, episode reward: 17.000, mean reward:  1.000 [ 1.000,  1.000], mean action: 0.471 [0.000, 1.000],  loss: 0.802448, mse: 19.519102, accuracy: 0.488971, mean_q: 6.352385, mean_eps: 0.925030\n",
            "  866/5000: episode: 40, duration: 0.430s, episode steps:  24, steps per second:  56, episode reward: 24.000, mean reward:  1.000 [ 1.000,  1.000], mean action: 0.333 [0.000, 1.000],  loss: 0.874225, mse: 20.269777, accuracy: 0.502604, mean_q: 6.481213, mean_eps: 0.923185\n",
            "  884/5000: episode: 41, duration: 0.235s, episode steps:  18, steps per second:  77, episode reward: 18.000, mean reward:  1.000 [ 1.000,  1.000], mean action: 0.333 [0.000, 1.000],  loss: 0.715033, mse: 21.713470, accuracy: 0.529514, mean_q: 6.777856, mean_eps: 0.921295\n",
            "  904/5000: episode: 42, duration: 0.417s, episode steps:  20, steps per second:  48, episode reward: 20.000, mean reward:  1.000 [ 1.000,  1.000], mean action: 0.600 [0.000, 1.000],  loss: 0.927708, mse: 23.733940, accuracy: 0.498437, mean_q: 6.950064, mean_eps: 0.919585\n",
            "  929/5000: episode: 43, duration: 0.388s, episode steps:  25, steps per second:  64, episode reward: 25.000, mean reward:  1.000 [ 1.000,  1.000], mean action: 0.440 [0.000, 1.000],  loss: 0.705873, mse: 23.591275, accuracy: 0.512500, mean_q: 6.966431, mean_eps: 0.917560\n",
            "  945/5000: episode: 44, duration: 0.210s, episode steps:  16, steps per second:  76, episode reward: 16.000, mean reward:  1.000 [ 1.000,  1.000], mean action: 0.500 [0.000, 1.000],  loss: 0.985439, mse: 25.671983, accuracy: 0.501953, mean_q: 7.226546, mean_eps: 0.915715\n",
            "  966/5000: episode: 45, duration: 0.305s, episode steps:  21, steps per second:  69, episode reward: 21.000, mean reward:  1.000 [ 1.000,  1.000], mean action: 0.619 [0.000, 1.000],  loss: 0.890299, mse: 25.808235, accuracy: 0.537202, mean_q: 7.255818, mean_eps: 0.914050\n",
            "  985/5000: episode: 46, duration: 0.262s, episode steps:  19, steps per second:  73, episode reward: 19.000, mean reward:  1.000 [ 1.000,  1.000], mean action: 0.421 [0.000, 1.000],  loss: 0.776518, mse: 27.172830, accuracy: 0.500000, mean_q: 7.462331, mean_eps: 0.912250\n",
            "  998/5000: episode: 47, duration: 0.191s, episode steps:  13, steps per second:  68, episode reward: 13.000, mean reward:  1.000 [ 1.000,  1.000], mean action: 0.385 [0.000, 1.000],  loss: 1.049252, mse: 27.913474, accuracy: 0.519231, mean_q: 7.540392, mean_eps: 0.910810\n",
            " 1046/5000: episode: 48, duration: 0.869s, episode steps:  48, steps per second:  55, episode reward: 48.000, mean reward:  1.000 [ 1.000,  1.000], mean action: 0.417 [0.000, 1.000],  loss: 0.925894, mse: 29.857072, accuracy: 0.513021, mean_q: 7.820972, mean_eps: 0.908065\n",
            " 1057/5000: episode: 49, duration: 0.175s, episode steps:  11, steps per second:  63, episode reward: 11.000, mean reward:  1.000 [ 1.000,  1.000], mean action: 0.636 [0.000, 1.000],  loss: 0.979153, mse: 31.793153, accuracy: 0.500000, mean_q: 8.091118, mean_eps: 0.905410\n",
            " 1077/5000: episode: 50, duration: 0.293s, episode steps:  20, steps per second:  68, episode reward: 20.000, mean reward:  1.000 [ 1.000,  1.000], mean action: 0.600 [0.000, 1.000],  loss: 1.018469, mse: 32.381487, accuracy: 0.518750, mean_q: 8.133291, mean_eps: 0.904015\n",
            " 1088/5000: episode: 51, duration: 0.127s, episode steps:  11, steps per second:  87, episode reward: 11.000, mean reward:  1.000 [ 1.000,  1.000], mean action: 0.364 [0.000, 1.000],  loss: 0.967041, mse: 33.792720, accuracy: 0.542614, mean_q: 8.293483, mean_eps: 0.902620\n",
            " 1101/5000: episode: 52, duration: 0.153s, episode steps:  13, steps per second:  85, episode reward: 13.000, mean reward:  1.000 [ 1.000,  1.000], mean action: 0.231 [0.000, 1.000],  loss: 0.721062, mse: 34.650121, accuracy: 0.500000, mean_q: 8.369755, mean_eps: 0.901540\n",
            " 1112/5000: episode: 53, duration: 0.125s, episode steps:  11, steps per second:  88, episode reward: 11.000, mean reward:  1.000 [ 1.000,  1.000], mean action: 0.727 [0.000, 1.000],  loss: 1.212932, mse: 34.822801, accuracy: 0.480114, mean_q: 8.311341, mean_eps: 0.900460\n",
            " 1136/5000: episode: 54, duration: 0.295s, episode steps:  24, steps per second:  81, episode reward: 24.000, mean reward:  1.000 [ 1.000,  1.000], mean action: 0.500 [0.000, 1.000],  loss: 0.988324, mse: 34.967364, accuracy: 0.526042, mean_q: 8.370038, mean_eps: 0.898885\n",
            " 1149/5000: episode: 55, duration: 0.217s, episode steps:  13, steps per second:  60, episode reward: 13.000, mean reward:  1.000 [ 1.000,  1.000], mean action: 0.308 [0.000, 1.000],  loss: 1.023784, mse: 36.029752, accuracy: 0.521635, mean_q: 8.543935, mean_eps: 0.897220\n",
            " 1169/5000: episode: 56, duration: 0.308s, episode steps:  20, steps per second:  65, episode reward: 20.000, mean reward:  1.000 [ 1.000,  1.000], mean action: 0.600 [0.000, 1.000],  loss: 1.216343, mse: 37.556441, accuracy: 0.517188, mean_q: 8.743355, mean_eps: 0.895735\n",
            " 1207/5000: episode: 57, duration: 0.541s, episode steps:  38, steps per second:  70, episode reward: 38.000, mean reward:  1.000 [ 1.000,  1.000], mean action: 0.500 [0.000, 1.000],  loss: 0.996686, mse: 39.178254, accuracy: 0.504112, mean_q: 8.884275, mean_eps: 0.893125\n",
            " 1218/5000: episode: 58, duration: 0.155s, episode steps:  11, steps per second:  71, episode reward: 11.000, mean reward:  1.000 [ 1.000,  1.000], mean action: 0.182 [0.000, 1.000],  loss: 1.137703, mse: 40.451359, accuracy: 0.568182, mean_q: 9.054942, mean_eps: 0.890920\n",
            " 1228/5000: episode: 59, duration: 0.139s, episode steps:  10, steps per second:  72, episode reward: 10.000, mean reward:  1.000 [ 1.000,  1.000], mean action: 0.400 [0.000, 1.000],  loss: 1.419823, mse: 40.752622, accuracy: 0.537500, mean_q: 9.070865, mean_eps: 0.889975\n",
            " 1253/5000: episode: 60, duration: 0.394s, episode steps:  25, steps per second:  63, episode reward: 25.000, mean reward:  1.000 [ 1.000,  1.000], mean action: 0.560 [0.000, 1.000],  loss: 1.140505, mse: 42.280251, accuracy: 0.527500, mean_q: 9.246673, mean_eps: 0.888400\n",
            " 1282/5000: episode: 61, duration: 0.362s, episode steps:  29, steps per second:  80, episode reward: 29.000, mean reward:  1.000 [ 1.000,  1.000], mean action: 0.448 [0.000, 1.000],  loss: 1.195702, mse: 43.737790, accuracy: 0.514009, mean_q: 9.387039, mean_eps: 0.885970\n",
            " 1299/5000: episode: 62, duration: 0.302s, episode steps:  17, steps per second:  56, episode reward: 17.000, mean reward:  1.000 [ 1.000,  1.000], mean action: 0.294 [0.000, 1.000],  loss: 0.897281, mse: 45.079101, accuracy: 0.538603, mean_q: 9.612034, mean_eps: 0.883900\n",
            " 1319/5000: episode: 63, duration: 0.335s, episode steps:  20, steps per second:  60, episode reward: 20.000, mean reward:  1.000 [ 1.000,  1.000], mean action: 0.700 [0.000, 1.000],  loss: 1.158255, mse: 45.786216, accuracy: 0.543750, mean_q: 9.638952, mean_eps: 0.882235\n",
            " 1379/5000: episode: 64, duration: 0.743s, episode steps:  60, steps per second:  81, episode reward: 60.000, mean reward:  1.000 [ 1.000,  1.000], mean action: 0.467 [0.000, 1.000],  loss: 1.377391, mse: 48.493945, accuracy: 0.498958, mean_q: 9.860464, mean_eps: 0.878635\n",
            " 1400/5000: episode: 65, duration: 0.321s, episode steps:  21, steps per second:  65, episode reward: 21.000, mean reward:  1.000 [ 1.000,  1.000], mean action: 0.524 [0.000, 1.000],  loss: 1.112982, mse: 50.483928, accuracy: 0.516369, mean_q: 10.131485, mean_eps: 0.874990\n",
            " 1425/5000: episode: 66, duration: 0.844s, episode steps:  25, steps per second:  30, episode reward: 25.000, mean reward:  1.000 [ 1.000,  1.000], mean action: 0.600 [0.000, 1.000],  loss: 1.374183, mse: 53.756269, accuracy: 0.533750, mean_q: 10.450768, mean_eps: 0.872920\n",
            " 1440/5000: episode: 67, duration: 0.492s, episode steps:  15, steps per second:  31, episode reward: 15.000, mean reward:  1.000 [ 1.000,  1.000], mean action: 0.400 [0.000, 1.000],  loss: 1.472072, mse: 53.488197, accuracy: 0.491667, mean_q: 10.417270, mean_eps: 0.871120\n",
            " 1500/5000: episode: 68, duration: 1.592s, episode steps:  60, steps per second:  38, episode reward: 60.000, mean reward:  1.000 [ 1.000,  1.000], mean action: 0.500 [0.000, 1.000],  loss: 1.326540, mse: 57.379096, accuracy: 0.511458, mean_q: 10.800711, mean_eps: 0.867745\n",
            " 1528/5000: episode: 69, duration: 0.839s, episode steps:  28, steps per second:  33, episode reward: 28.000, mean reward:  1.000 [ 1.000,  1.000], mean action: 0.607 [0.000, 1.000],  loss: 1.483398, mse: 59.857341, accuracy: 0.486607, mean_q: 11.044401, mean_eps: 0.863785\n",
            " 1542/5000: episode: 70, duration: 0.345s, episode steps:  14, steps per second:  41, episode reward: 14.000, mean reward:  1.000 [ 1.000,  1.000], mean action: 0.214 [0.000, 1.000],  loss: 1.120603, mse: 62.234490, accuracy: 0.462054, mean_q: 11.285822, mean_eps: 0.861895\n",
            " 1559/5000: episode: 71, duration: 0.415s, episode steps:  17, steps per second:  41, episode reward: 17.000, mean reward:  1.000 [ 1.000,  1.000], mean action: 0.412 [0.000, 1.000],  loss: 0.957669, mse: 64.179629, accuracy: 0.509191, mean_q: 11.486570, mean_eps: 0.860500\n",
            " 1603/5000: episode: 72, duration: 1.114s, episode steps:  44, steps per second:  39, episode reward: 44.000, mean reward:  1.000 [ 1.000,  1.000], mean action: 0.477 [0.000, 1.000],  loss: 1.474428, mse: 65.105335, accuracy: 0.484375, mean_q: 11.541882, mean_eps: 0.857755\n",
            " 1642/5000: episode: 73, duration: 0.950s, episode steps:  39, steps per second:  41, episode reward: 39.000, mean reward:  1.000 [ 1.000,  1.000], mean action: 0.487 [0.000, 1.000],  loss: 1.564550, mse: 70.021880, accuracy: 0.483173, mean_q: 11.947476, mean_eps: 0.854020\n",
            " 1656/5000: episode: 74, duration: 0.248s, episode steps:  14, steps per second:  57, episode reward: 14.000, mean reward:  1.000 [ 1.000,  1.000], mean action: 0.571 [0.000, 1.000],  loss: 1.651084, mse: 71.568819, accuracy: 0.511161, mean_q: 12.083272, mean_eps: 0.851635\n",
            " 1697/5000: episode: 75, duration: 0.554s, episode steps:  41, steps per second:  74, episode reward: 41.000, mean reward:  1.000 [ 1.000,  1.000], mean action: 0.537 [0.000, 1.000],  loss: 1.412318, mse: 73.708966, accuracy: 0.538110, mean_q: 12.303357, mean_eps: 0.849160\n",
            " 1711/5000: episode: 76, duration: 0.100s, episode steps:  14, steps per second: 141, episode reward: 14.000, mean reward:  1.000 [ 1.000,  1.000], mean action: 0.571 [0.000, 1.000],  loss: 1.399392, mse: 77.784800, accuracy: 0.511161, mean_q: 12.656092, mean_eps: 0.846685\n",
            " 1756/5000: episode: 77, duration: 0.327s, episode steps:  45, steps per second: 137, episode reward: 45.000, mean reward:  1.000 [ 1.000,  1.000], mean action: 0.511 [0.000, 1.000],  loss: 1.718643, mse: 77.828692, accuracy: 0.502083, mean_q: 12.619380, mean_eps: 0.844030\n",
            " 1774/5000: episode: 78, duration: 0.127s, episode steps:  18, steps per second: 142, episode reward: 18.000, mean reward:  1.000 [ 1.000,  1.000], mean action: 0.556 [0.000, 1.000],  loss: 1.802049, mse: 82.123083, accuracy: 0.519097, mean_q: 12.971749, mean_eps: 0.841195\n",
            " 1840/5000: episode: 79, duration: 0.504s, episode steps:  66, steps per second: 131, episode reward: 66.000, mean reward:  1.000 [ 1.000,  1.000], mean action: 0.470 [0.000, 1.000],  loss: 1.587960, mse: 85.745804, accuracy: 0.500947, mean_q: 13.247022, mean_eps: 0.837415\n",
            " 1927/5000: episode: 80, duration: 0.610s, episode steps:  87, steps per second: 143, episode reward: 87.000, mean reward:  1.000 [ 1.000,  1.000], mean action: 0.483 [0.000, 1.000],  loss: 1.906756, mse: 91.931178, accuracy: 0.523348, mean_q: 13.728596, mean_eps: 0.830530\n",
            " 1941/5000: episode: 81, duration: 0.117s, episode steps:  14, steps per second: 119, episode reward: 14.000, mean reward:  1.000 [ 1.000,  1.000], mean action: 0.429 [0.000, 1.000],  loss: 1.969848, mse: 97.390760, accuracy: 0.524554, mean_q: 14.167890, mean_eps: 0.825985\n",
            " 1990/5000: episode: 82, duration: 0.347s, episode steps:  49, steps per second: 141, episode reward: 49.000, mean reward:  1.000 [ 1.000,  1.000], mean action: 0.510 [0.000, 1.000],  loss: 1.755825, mse: 100.625229, accuracy: 0.536352, mean_q: 14.439783, mean_eps: 0.823150\n",
            " 2002/5000: episode: 83, duration: 0.103s, episode steps:  12, steps per second: 117, episode reward: 12.000, mean reward:  1.000 [ 1.000,  1.000], mean action: 0.417 [0.000, 1.000],  loss: 2.463136, mse: 102.455789, accuracy: 0.518229, mean_q: 14.493066, mean_eps: 0.820405\n",
            " 2018/5000: episode: 84, duration: 0.126s, episode steps:  16, steps per second: 127, episode reward: 16.000, mean reward:  1.000 [ 1.000,  1.000], mean action: 0.500 [0.000, 1.000],  loss: 1.387584, mse: 103.650448, accuracy: 0.527344, mean_q: 14.670063, mean_eps: 0.819145\n",
            " 2049/5000: episode: 85, duration: 0.234s, episode steps:  31, steps per second: 132, episode reward: 31.000, mean reward:  1.000 [ 1.000,  1.000], mean action: 0.613 [0.000, 1.000],  loss: 1.880793, mse: 107.445556, accuracy: 0.556452, mean_q: 14.910769, mean_eps: 0.817030\n",
            " 2095/5000: episode: 86, duration: 0.345s, episode steps:  46, steps per second: 133, episode reward: 46.000, mean reward:  1.000 [ 1.000,  1.000], mean action: 0.478 [0.000, 1.000],  loss: 1.636725, mse: 113.640668, accuracy: 0.519701, mean_q: 15.299141, mean_eps: 0.813565\n",
            " 2160/5000: episode: 87, duration: 0.472s, episode steps:  65, steps per second: 138, episode reward: 65.000, mean reward:  1.000 [ 1.000,  1.000], mean action: 0.538 [0.000, 1.000],  loss: 2.142233, mse: 117.343275, accuracy: 0.521154, mean_q: 15.540488, mean_eps: 0.808570\n",
            " 2217/5000: episode: 88, duration: 0.404s, episode steps:  57, steps per second: 141, episode reward: 57.000, mean reward:  1.000 [ 1.000,  1.000], mean action: 0.509 [0.000, 1.000],  loss: 2.099416, mse: 124.048417, accuracy: 0.523026, mean_q: 15.986941, mean_eps: 0.803080\n",
            " 2265/5000: episode: 89, duration: 0.335s, episode steps:  48, steps per second: 143, episode reward: 48.000, mean reward:  1.000 [ 1.000,  1.000], mean action: 0.500 [0.000, 1.000],  loss: 2.072825, mse: 129.845027, accuracy: 0.526693, mean_q: 16.364571, mean_eps: 0.798355\n",
            " 2289/5000: episode: 90, duration: 0.169s, episode steps:  24, steps per second: 142, episode reward: 24.000, mean reward:  1.000 [ 1.000,  1.000], mean action: 0.458 [0.000, 1.000],  loss: 2.447973, mse: 130.527916, accuracy: 0.514323, mean_q: 16.312749, mean_eps: 0.795115\n",
            " 2301/5000: episode: 91, duration: 0.093s, episode steps:  12, steps per second: 128, episode reward: 12.000, mean reward:  1.000 [ 1.000,  1.000], mean action: 0.583 [0.000, 1.000],  loss: 0.955552, mse: 141.477572, accuracy: 0.559896, mean_q: 17.174065, mean_eps: 0.793495\n",
            " 2355/5000: episode: 92, duration: 0.389s, episode steps:  54, steps per second: 139, episode reward: 54.000, mean reward:  1.000 [ 1.000,  1.000], mean action: 0.444 [0.000, 1.000],  loss: 2.601051, mse: 139.369059, accuracy: 0.536458, mean_q: 16.941028, mean_eps: 0.790525\n",
            " 2408/5000: episode: 93, duration: 0.370s, episode steps:  53, steps per second: 143, episode reward: 53.000, mean reward:  1.000 [ 1.000,  1.000], mean action: 0.491 [0.000, 1.000],  loss: 2.255992, mse: 146.455741, accuracy: 0.537736, mean_q: 17.386877, mean_eps: 0.785710\n",
            " 2439/5000: episode: 94, duration: 0.222s, episode steps:  31, steps per second: 139, episode reward: 31.000, mean reward:  1.000 [ 1.000,  1.000], mean action: 0.516 [0.000, 1.000],  loss: 2.267699, mse: 147.546487, accuracy: 0.514113, mean_q: 17.419994, mean_eps: 0.781930\n",
            " 2456/5000: episode: 95, duration: 0.131s, episode steps:  17, steps per second: 129, episode reward: 17.000, mean reward:  1.000 [ 1.000,  1.000], mean action: 0.529 [0.000, 1.000],  loss: 2.180640, mse: 152.875883, accuracy: 0.555147, mean_q: 17.781131, mean_eps: 0.779770\n",
            " 2518/5000: episode: 96, duration: 0.446s, episode steps:  62, steps per second: 139, episode reward: 62.000, mean reward:  1.000 [ 1.000,  1.000], mean action: 0.484 [0.000, 1.000],  loss: 2.105640, mse: 160.195564, accuracy: 0.541835, mean_q: 18.179942, mean_eps: 0.776215\n",
            " 2619/5000: episode: 97, duration: 0.711s, episode steps: 101, steps per second: 142, episode reward: 101.000, mean reward:  1.000 [ 1.000,  1.000], mean action: 0.505 [0.000, 1.000],  loss: 2.337962, mse: 168.054240, accuracy: 0.540223, mean_q: 18.615949, mean_eps: 0.768880\n",
            " 2676/5000: episode: 98, duration: 0.417s, episode steps:  57, steps per second: 137, episode reward: 57.000, mean reward:  1.000 [ 1.000,  1.000], mean action: 0.439 [0.000, 1.000],  loss: 2.590006, mse: 178.089921, accuracy: 0.522478, mean_q: 19.063751, mean_eps: 0.761770\n",
            " 2701/5000: episode: 99, duration: 0.175s, episode steps:  25, steps per second: 143, episode reward: 25.000, mean reward:  1.000 [ 1.000,  1.000], mean action: 0.400 [0.000, 1.000],  loss: 2.162955, mse: 186.055545, accuracy: 0.528750, mean_q: 19.537881, mean_eps: 0.758080\n",
            " 2735/5000: episode: 100, duration: 0.255s, episode steps:  34, steps per second: 133, episode reward: 34.000, mean reward:  1.000 [ 1.000,  1.000], mean action: 0.471 [0.000, 1.000],  loss: 2.085939, mse: 186.621419, accuracy: 0.527574, mean_q: 19.555512, mean_eps: 0.755425\n",
            " 2784/5000: episode: 101, duration: 0.359s, episode steps:  49, steps per second: 137, episode reward: 49.000, mean reward:  1.000 [ 1.000,  1.000], mean action: 0.449 [0.000, 1.000],  loss: 2.260332, mse: 191.269700, accuracy: 0.548469, mean_q: 19.801359, mean_eps: 0.751690\n",
            " 2804/5000: episode: 102, duration: 0.156s, episode steps:  20, steps per second: 128, episode reward: 20.000, mean reward:  1.000 [ 1.000,  1.000], mean action: 0.350 [0.000, 1.000],  loss: 1.746081, mse: 198.040625, accuracy: 0.553125, mean_q: 20.261841, mean_eps: 0.748585\n",
            " 2882/5000: episode: 103, duration: 0.564s, episode steps:  78, steps per second: 138, episode reward: 78.000, mean reward:  1.000 [ 1.000,  1.000], mean action: 0.462 [0.000, 1.000],  loss: 2.209846, mse: 204.343949, accuracy: 0.548478, mean_q: 20.569939, mean_eps: 0.744175\n",
            " 2918/5000: episode: 104, duration: 0.270s, episode steps:  36, steps per second: 133, episode reward: 36.000, mean reward:  1.000 [ 1.000,  1.000], mean action: 0.528 [0.000, 1.000],  loss: 2.088657, mse: 220.173250, accuracy: 0.550347, mean_q: 21.315316, mean_eps: 0.739045\n",
            " 2970/5000: episode: 105, duration: 0.483s, episode steps:  52, steps per second: 108, episode reward: 52.000, mean reward:  1.000 [ 1.000,  1.000], mean action: 0.423 [0.000, 1.000],  loss: 2.235264, mse: 223.188333, accuracy: 0.560697, mean_q: 21.464155, mean_eps: 0.735085\n",
            " 3007/5000: episode: 106, duration: 0.404s, episode steps:  37, steps per second:  92, episode reward: 37.000, mean reward:  1.000 [ 1.000,  1.000], mean action: 0.568 [0.000, 1.000],  loss: 2.190693, mse: 232.196769, accuracy: 0.539696, mean_q: 21.947647, mean_eps: 0.731080\n",
            " 3064/5000: episode: 107, duration: 0.604s, episode steps:  57, steps per second:  94, episode reward: 57.000, mean reward:  1.000 [ 1.000,  1.000], mean action: 0.544 [0.000, 1.000],  loss: 3.164824, mse: 230.819207, accuracy: 0.539474, mean_q: 21.843465, mean_eps: 0.726850\n",
            " 3102/5000: episode: 108, duration: 0.405s, episode steps:  38, steps per second:  94, episode reward: 38.000, mean reward:  1.000 [ 1.000,  1.000], mean action: 0.500 [0.000, 1.000],  loss: 2.442822, mse: 246.199755, accuracy: 0.547697, mean_q: 22.511220, mean_eps: 0.722575\n",
            " 3196/5000: episode: 109, duration: 0.985s, episode steps:  94, steps per second:  95, episode reward: 94.000, mean reward:  1.000 [ 1.000,  1.000], mean action: 0.521 [0.000, 1.000],  loss: 2.091019, mse: 256.894236, accuracy: 0.565160, mean_q: 23.043893, mean_eps: 0.716635\n",
            " 3252/5000: episode: 110, duration: 0.621s, episode steps:  56, steps per second:  90, episode reward: 56.000, mean reward:  1.000 [ 1.000,  1.000], mean action: 0.500 [0.000, 1.000],  loss: 2.004303, mse: 270.380448, accuracy: 0.539621, mean_q: 23.633500, mean_eps: 0.709885\n",
            " 3335/5000: episode: 111, duration: 0.891s, episode steps:  83, steps per second:  93, episode reward: 83.000, mean reward:  1.000 [ 1.000,  1.000], mean action: 0.458 [0.000, 1.000],  loss: 2.119505, mse: 285.480598, accuracy: 0.547816, mean_q: 24.262225, mean_eps: 0.703630\n",
            " 3368/5000: episode: 112, duration: 0.364s, episode steps:  33, steps per second:  91, episode reward: 33.000, mean reward:  1.000 [ 1.000,  1.000], mean action: 0.545 [0.000, 1.000],  loss: 3.148096, mse: 284.763002, accuracy: 0.569129, mean_q: 24.169624, mean_eps: 0.698410\n",
            " 3436/5000: episode: 113, duration: 0.742s, episode steps:  68, steps per second:  92, episode reward: 68.000, mean reward:  1.000 [ 1.000,  1.000], mean action: 0.456 [0.000, 1.000],  loss: 2.627838, mse: 296.706500, accuracy: 0.555147, mean_q: 24.647259, mean_eps: 0.693865\n",
            " 3458/5000: episode: 114, duration: 0.195s, episode steps:  22, steps per second: 113, episode reward: 22.000, mean reward:  1.000 [ 1.000,  1.000], mean action: 0.682 [0.000, 1.000],  loss: 2.088781, mse: 316.611446, accuracy: 0.539773, mean_q: 25.493660, mean_eps: 0.689815\n",
            " 3472/5000: episode: 115, duration: 0.123s, episode steps:  14, steps per second: 114, episode reward: 14.000, mean reward:  1.000 [ 1.000,  1.000], mean action: 0.643 [0.000, 1.000],  loss: 3.913588, mse: 312.696762, accuracy: 0.575893, mean_q: 25.418626, mean_eps: 0.688195\n",
            " 3557/5000: episode: 116, duration: 0.618s, episode steps:  85, steps per second: 138, episode reward: 85.000, mean reward:  1.000 [ 1.000,  1.000], mean action: 0.506 [0.000, 1.000],  loss: 2.451709, mse: 317.345608, accuracy: 0.575368, mean_q: 25.572763, mean_eps: 0.683740\n",
            " 3578/5000: episode: 117, duration: 0.157s, episode steps:  21, steps per second: 133, episode reward: 21.000, mean reward:  1.000 [ 1.000,  1.000], mean action: 0.571 [0.000, 1.000],  loss: 1.854672, mse: 326.982926, accuracy: 0.583333, mean_q: 26.028122, mean_eps: 0.678970\n",
            " 3598/5000: episode: 118, duration: 0.156s, episode steps:  20, steps per second: 129, episode reward: 20.000, mean reward:  1.000 [ 1.000,  1.000], mean action: 0.550 [0.000, 1.000],  loss: 3.627310, mse: 318.273871, accuracy: 0.575000, mean_q: 25.547004, mean_eps: 0.677125\n",
            " 3627/5000: episode: 119, duration: 0.217s, episode steps:  29, steps per second: 134, episode reward: 29.000, mean reward:  1.000 [ 1.000,  1.000], mean action: 0.586 [0.000, 1.000],  loss: 1.901193, mse: 332.743684, accuracy: 0.577586, mean_q: 26.302710, mean_eps: 0.674920\n",
            " 3717/5000: episode: 120, duration: 0.627s, episode steps:  90, steps per second: 144, episode reward: 90.000, mean reward:  1.000 [ 1.000,  1.000], mean action: 0.500 [0.000, 1.000],  loss: 2.949560, mse: 349.320614, accuracy: 0.560764, mean_q: 26.874338, mean_eps: 0.669565\n",
            " 3754/5000: episode: 121, duration: 0.267s, episode steps:  37, steps per second: 139, episode reward: 37.000, mean reward:  1.000 [ 1.000,  1.000], mean action: 0.568 [0.000, 1.000],  loss: 2.498329, mse: 360.591466, accuracy: 0.542230, mean_q: 27.228239, mean_eps: 0.663850\n",
            " 3783/5000: episode: 122, duration: 0.219s, episode steps:  29, steps per second: 132, episode reward: 29.000, mean reward:  1.000 [ 1.000,  1.000], mean action: 0.517 [0.000, 1.000],  loss: 2.734944, mse: 369.185469, accuracy: 0.544181, mean_q: 27.616711, mean_eps: 0.660880\n",
            " 3815/5000: episode: 123, duration: 0.224s, episode steps:  32, steps per second: 143, episode reward: 32.000, mean reward:  1.000 [ 1.000,  1.000], mean action: 0.500 [0.000, 1.000],  loss: 1.842547, mse: 382.601100, accuracy: 0.559570, mean_q: 28.140779, mean_eps: 0.658135\n",
            " 4012/5000: episode: 124, duration: 1.383s, episode steps: 197, steps per second: 142, episode reward: 197.000, mean reward:  1.000 [ 1.000,  1.000], mean action: 0.508 [0.000, 1.000],  loss: 2.731926, mse: 405.081741, accuracy: 0.551872, mean_q: 28.897705, mean_eps: 0.647830\n",
            " 4024/5000: episode: 125, duration: 0.096s, episode steps:  12, steps per second: 125, episode reward: 12.000, mean reward:  1.000 [ 1.000,  1.000], mean action: 0.333 [0.000, 1.000],  loss: 3.692382, mse: 430.919245, accuracy: 0.585938, mean_q: 29.896079, mean_eps: 0.638425\n",
            " 4162/5000: episode: 126, duration: 0.958s, episode steps: 138, steps per second: 144, episode reward: 138.000, mean reward:  1.000 [ 1.000,  1.000], mean action: 0.493 [0.000, 1.000],  loss: 2.276807, mse: 447.429899, accuracy: 0.580389, mean_q: 30.410480, mean_eps: 0.631675\n",
            " 4183/5000: episode: 127, duration: 0.150s, episode steps:  21, steps per second: 140, episode reward: 21.000, mean reward:  1.000 [ 1.000,  1.000], mean action: 0.476 [0.000, 1.000],  loss: 4.384675, mse: 464.179769, accuracy: 0.559524, mean_q: 30.870504, mean_eps: 0.624520\n",
            " 4286/5000: episode: 128, duration: 0.732s, episode steps: 103, steps per second: 141, episode reward: 103.000, mean reward:  1.000 [ 1.000,  1.000], mean action: 0.524 [0.000, 1.000],  loss: 2.009193, mse: 480.232207, accuracy: 0.577670, mean_q: 31.578032, mean_eps: 0.618940\n",
            " 4338/5000: episode: 129, duration: 0.413s, episode steps:  52, steps per second: 126, episode reward: 52.000, mean reward:  1.000 [ 1.000,  1.000], mean action: 0.500 [0.000, 1.000],  loss: 2.014192, mse: 506.355569, accuracy: 0.579327, mean_q: 32.398664, mean_eps: 0.611965\n",
            " 4516/5000: episode: 130, duration: 1.279s, episode steps: 178, steps per second: 139, episode reward: 178.000, mean reward:  1.000 [ 1.000,  1.000], mean action: 0.494 [0.000, 1.000],  loss: 2.817751, mse: 532.465927, accuracy: 0.582163, mean_q: 33.141186, mean_eps: 0.601615\n",
            " 4781/5000: episode: 131, duration: 2.022s, episode steps: 265, steps per second: 131, episode reward: 265.000, mean reward:  1.000 [ 1.000,  1.000], mean action: 0.475 [0.000, 1.000],  loss: 2.519872, mse: 599.357486, accuracy: 0.585849, mean_q: 35.283839, mean_eps: 0.581680\n",
            " 4892/5000: episode: 132, duration: 1.095s, episode steps: 111, steps per second: 101, episode reward: 111.000, mean reward:  1.000 [ 1.000,  1.000], mean action: 0.486 [0.000, 1.000],  loss: 2.525286, mse: 648.269031, accuracy: 0.579673, mean_q: 36.578211, mean_eps: 0.564760\n",
            " 4906/5000: episode: 133, duration: 0.164s, episode steps:  14, steps per second:  85, episode reward: 14.000, mean reward:  1.000 [ 1.000,  1.000], mean action: 0.500 [0.000, 1.000],  loss: 3.142586, mse: 678.224675, accuracy: 0.575893, mean_q: 37.173382, mean_eps: 0.559135\n",
            " 4945/5000: episode: 134, duration: 0.408s, episode steps:  39, steps per second:  96, episode reward: 39.000, mean reward:  1.000 [ 1.000,  1.000], mean action: 0.462 [0.000, 1.000],  loss: 2.192882, mse: 680.424686, accuracy: 0.572115, mean_q: 37.388394, mean_eps: 0.556750\n",
            "done, took 54.557 seconds\n"
          ]
        }
      ],
      "source": [
        "#Finally fit and train the agent\n",
        "#Verbose parameter controls how much information is printed during training. A value of 10 means that training progress is printed every 10 steps.\n",
        "history = dqn.fit(env, nb_steps=5000, visualize=False, verbose=10)\n"
      ]
    },
    {
      "cell_type": "code",
      "execution_count": 10,
      "id": "306acdfd",
      "metadata": {
        "colab": {
          "base_uri": "https://localhost:8080/",
          "height": 583
        },
        "id": "306acdfd",
        "outputId": "e6f16be0-af4d-4c5c-9a60-d87377752ac0"
      },
      "outputs": [
        {
          "data": {
            "image/png": "[encoded data removed]",
            "text/plain": [
              "<Figure size 1296x720 with 1 Axes>"
            ]
          },
          "metadata": {
            "needs_background": "light"
          },
          "output_type": "display_data"
        }
      ],
      "source": [
        "# Visualize the history for number of Training episode steps of the Cart Pole Game\n",
        "plt.figure(figsize = (18,10))\n",
        "plt.plot(history.history['nb_episode_steps'])\n",
        "plt.ylabel('nb_episode_steps')\n",
        "plt.xlabel('episodes')\n",
        "plt.show()\n"
      ]
    },
    {
      "cell_type": "markdown",
      "id": "f30de5f0",
      "metadata": {},
      "source": [
        "# Testing"
      ]
    },
    {
      "cell_type": "code",
      "execution_count": 11,
      "id": "22856561",
      "metadata": {
        "colab": {
          "base_uri": "https://localhost:8080/"
        },
        "id": "22856561",
        "outputId": "757a1620-2816-4652-c867-10efc345e535"
      },
      "outputs": [
        {
          "name": "stdout",
          "output_type": "stream",
          "text": [
            "Testing for 100 episodes ...\n",
            "Episode 1: reward: 173.000, steps: 173\n",
            "Episode 2: reward: 193.000, steps: 193\n",
            "Episode 3: reward: 143.000, steps: 143\n",
            "Episode 4: reward: 181.000, steps: 181\n",
            "Episode 5: reward: 181.000, steps: 181\n",
            "Episode 6: reward: 183.000, steps: 183\n",
            "Episode 7: reward: 155.000, steps: 155\n",
            "Episode 8: reward: 214.000, steps: 214\n",
            "Episode 9: reward: 185.000, steps: 185\n",
            "Episode 10: reward: 172.000, steps: 172\n",
            "Episode 11: reward: 191.000, steps: 191\n",
            "Episode 12: reward: 251.000, steps: 251\n",
            "Episode 13: reward: 143.000, steps: 143\n",
            "Episode 14: reward: 159.000, steps: 159\n",
            "Episode 15: reward: 173.000, steps: 173\n",
            "Episode 16: reward: 159.000, steps: 159\n",
            "Episode 17: reward: 177.000, steps: 177\n",
            "Episode 18: reward: 159.000, steps: 159\n",
            "Episode 19: reward: 183.000, steps: 183\n",
            "Episode 20: reward: 211.000, steps: 211\n",
            "Episode 21: reward: 170.000, steps: 170\n",
            "Episode 22: reward: 204.000, steps: 204\n",
            "Episode 23: reward: 265.000, steps: 265\n",
            "Episode 24: reward: 195.000, steps: 195\n",
            "Episode 25: reward: 190.000, steps: 190\n",
            "Episode 26: reward: 169.000, steps: 169\n",
            "Episode 27: reward: 153.000, steps: 153\n",
            "Episode 28: reward: 200.000, steps: 200\n",
            "Episode 29: reward: 189.000, steps: 189\n",
            "Episode 30: reward: 195.000, steps: 195\n",
            "Episode 31: reward: 189.000, steps: 189\n",
            "Episode 32: reward: 145.000, steps: 145\n",
            "Episode 33: reward: 253.000, steps: 253\n",
            "Episode 34: reward: 189.000, steps: 189\n",
            "Episode 35: reward: 164.000, steps: 164\n",
            "Episode 36: reward: 259.000, steps: 259\n",
            "Episode 37: reward: 191.000, steps: 191\n",
            "Episode 38: reward: 151.000, steps: 151\n",
            "Episode 39: reward: 257.000, steps: 257\n",
            "Episode 40: reward: 136.000, steps: 136\n",
            "Episode 41: reward: 221.000, steps: 221\n",
            "Episode 42: reward: 227.000, steps: 227\n",
            "Episode 43: reward: 215.000, steps: 215\n",
            "Episode 44: reward: 221.000, steps: 221\n",
            "Episode 45: reward: 179.000, steps: 179\n",
            "Episode 46: reward: 169.000, steps: 169\n",
            "Episode 47: reward: 191.000, steps: 191\n",
            "Episode 48: reward: 148.000, steps: 148\n",
            "Episode 49: reward: 390.000, steps: 390\n",
            "Episode 50: reward: 170.000, steps: 170\n",
            "Episode 51: reward: 343.000, steps: 343\n",
            "Episode 52: reward: 332.000, steps: 332\n",
            "Episode 53: reward: 234.000, steps: 234\n",
            "Episode 54: reward: 183.000, steps: 183\n",
            "Episode 55: reward: 169.000, steps: 169\n",
            "Episode 56: reward: 183.000, steps: 183\n",
            "Episode 57: reward: 163.000, steps: 163\n",
            "Episode 58: reward: 151.000, steps: 151\n",
            "Episode 59: reward: 198.000, steps: 198\n",
            "Episode 60: reward: 227.000, steps: 227\n",
            "Episode 61: reward: 185.000, steps: 185\n",
            "Episode 62: reward: 197.000, steps: 197\n",
            "Episode 63: reward: 163.000, steps: 163\n",
            "Episode 64: reward: 241.000, steps: 241\n",
            "Episode 65: reward: 133.000, steps: 133\n",
            "Episode 66: reward: 500.000, steps: 500\n",
            "Episode 67: reward: 154.000, steps: 154\n",
            "Episode 68: reward: 181.000, steps: 181\n",
            "Episode 69: reward: 144.000, steps: 144\n",
            "Episode 70: reward: 171.000, steps: 171\n",
            "Episode 71: reward: 145.000, steps: 145\n",
            "Episode 72: reward: 179.000, steps: 179\n",
            "Episode 73: reward: 171.000, steps: 171\n",
            "Episode 74: reward: 224.000, steps: 224\n",
            "Episode 75: reward: 163.000, steps: 163\n",
            "Episode 76: reward: 191.000, steps: 191\n",
            "Episode 77: reward: 204.000, steps: 204\n",
            "Episode 78: reward: 149.000, steps: 149\n",
            "Episode 79: reward: 183.000, steps: 183\n",
            "Episode 80: reward: 135.000, steps: 135\n",
            "Episode 81: reward: 149.000, steps: 149\n",
            "Episode 82: reward: 163.000, steps: 163\n",
            "Episode 83: reward: 155.000, steps: 155\n",
            "Episode 84: reward: 167.000, steps: 167\n",
            "Episode 85: reward: 213.000, steps: 213\n",
            "Episode 86: reward: 162.000, steps: 162\n",
            "Episode 87: reward: 179.000, steps: 179\n",
            "Episode 88: reward: 167.000, steps: 167\n",
            "Episode 89: reward: 173.000, steps: 173\n",
            "Episode 90: reward: 183.000, steps: 183\n",
            "Episode 91: reward: 211.000, steps: 211\n",
            "Episode 92: reward: 139.000, steps: 139\n",
            "Episode 93: reward: 160.000, steps: 160\n",
            "Episode 94: reward: 315.000, steps: 315\n",
            "Episode 95: reward: 191.000, steps: 191\n",
            "Episode 96: reward: 176.000, steps: 176\n",
            "Episode 97: reward: 141.000, steps: 141\n",
            "Episode 98: reward: 212.000, steps: 212\n",
            "Episode 99: reward: 149.000, steps: 149\n",
            "Episode 100: reward: 217.000, steps: 217\n"
          ]
        },
        {
          "data": {
            "text/plain": [
              "<keras.callbacks.History at 0x7fe2894c0580>"
            ]
          },
          "execution_count": 11,
          "metadata": {},
          "output_type": "execute_result"
        }
      ],
      "source": [
        "# Finally, evaluate and test our algorithm for 100 episodes.\n",
        "dqn.test(env, nb_episodes=100, visualize=False)"
      ]
    },
    {
      "cell_type": "code",
      "execution_count": 12,
      "id": "ca311154",
      "metadata": {
        "id": "ca311154"
      },
      "outputs": [],
      "source": [
        "# After training is done, we save the final weights.\n",
        "dqn.save_weights('dqn_weights.h5f', overwrite=False)"
      ]
    },
    {
      "cell_type": "code",
      "execution_count": 13,
      "id": "c05f5658",
      "metadata": {
        "colab": {
          "base_uri": "https://localhost:8080/"
        },
        "id": "c05f5658",
        "outputId": "f41eaa9d-e45a-4016-f429-45dcbb2d330f"
      },
      "outputs": [
        {
          "name": "stdout",
          "output_type": "stream",
          "text": [
            "Observation:  [ 0.03923952 -0.03436516  0.01509803  0.04416172]\n",
            "Chosen action:  1\n",
            "Observations after action:  [ 0.03855222  0.16053708  0.01598127 -0.24371966]\n",
            "Reward for this step:  1.0\n",
            "Episode Completion:  False\n"
          ]
        }
      ],
      "source": [
        "observation = env.reset()\n",
        "dqn.load_weights('dqn_weights.h5f')\n",
        "action = dqn.forward(observation)\n",
        "\n",
        "print(\"Observation: \", observation)\n",
        "print(\"Chosen action: \", action)\n",
        "\n",
        "new_observation, reward, done, info = env.step(action)\n",
        "print(\"Observations after action: \", new_observation)\n",
        "print(\"Reward for this step: \", reward)\n",
        "print(\"Episode Completion: \", done)"
      ]
    },
    {
      "cell_type": "markdown",
      "id": "b8a1c678",
      "metadata": {
        "id": "b8a1c678"
      },
      "source": [
        "## Task 2"
      ]
    },
    {
      "cell_type": "markdown",
      "id": "eae724e8",
      "metadata": {
        "id": "eae724e8"
      },
      "source": [
        "Each Episode comprises of multiple steps. The environment is reset at the start of each episode as required. Next, the Agent makes the forward step based on the observation, before updating the new episode reward and observation for the next step. This continues until the termination criteria or truncation value of 500. Each cumulative reward is stored in a list and mapped out in the graph."
      ]
    },
    {
      "cell_type": "code",
      "execution_count": 14,
      "id": "e8277289",
      "metadata": {
        "colab": {
          "base_uri": "https://localhost:8080/"
        },
        "id": "e8277289",
        "outputId": "c82f2064-3657-445f-a77b-04b3399e36c5"
      },
      "outputs": [
        {
          "name": "stdout",
          "output_type": "stream",
          "text": [
            "Episode: 1  Cumulative reward:  169.0\n",
            "Episode: 2  Cumulative reward:  157.0\n",
            "Episode: 3  Cumulative reward:  156.0\n",
            "Episode: 4  Cumulative reward:  229.0\n",
            "Episode: 5  Cumulative reward:  285.0\n",
            "Episode: 6  Cumulative reward:  259.0\n",
            "Episode: 7  Cumulative reward:  153.0\n",
            "Episode: 8  Cumulative reward:  189.0\n",
            "Episode: 9  Cumulative reward:  141.0\n",
            "Episode: 10  Cumulative reward:  177.0\n",
            "Episode: 11  Cumulative reward:  248.0\n",
            "Episode: 12  Cumulative reward:  167.0\n",
            "Episode: 13  Cumulative reward:  152.0\n",
            "Episode: 14  Cumulative reward:  143.0\n",
            "Episode: 15  Cumulative reward:  224.0\n",
            "Episode: 16  Cumulative reward:  143.0\n",
            "Episode: 17  Cumulative reward:  173.0\n",
            "Episode: 18  Cumulative reward:  171.0\n",
            "Episode: 19  Cumulative reward:  165.0\n",
            "Episode: 20  Cumulative reward:  171.0\n",
            "Episode: 21  Cumulative reward:  159.0\n",
            "Episode: 22  Cumulative reward:  153.0\n",
            "Episode: 23  Cumulative reward:  157.0\n",
            "Episode: 24  Cumulative reward:  135.0\n",
            "Episode: 25  Cumulative reward:  147.0\n",
            "Episode: 26  Cumulative reward:  153.0\n",
            "Episode: 27  Cumulative reward:  240.0\n",
            "Episode: 28  Cumulative reward:  165.0\n",
            "Episode: 29  Cumulative reward:  157.0\n",
            "Episode: 30  Cumulative reward:  143.0\n",
            "Episode: 31  Cumulative reward:  148.0\n",
            "Episode: 32  Cumulative reward:  173.0\n",
            "Episode: 33  Cumulative reward:  161.0\n",
            "Episode: 34  Cumulative reward:  175.0\n",
            "Episode: 35  Cumulative reward:  150.0\n",
            "Episode: 36  Cumulative reward:  175.0\n",
            "Episode: 37  Cumulative reward:  188.0\n",
            "Episode: 38  Cumulative reward:  207.0\n",
            "Episode: 39  Cumulative reward:  183.0\n",
            "Episode: 40  Cumulative reward:  191.0\n",
            "Episode: 41  Cumulative reward:  147.0\n",
            "Episode: 42  Cumulative reward:  169.0\n",
            "Episode: 43  Cumulative reward:  194.0\n",
            "Episode: 44  Cumulative reward:  155.0\n",
            "Episode: 45  Cumulative reward:  150.0\n",
            "Episode: 46  Cumulative reward:  163.0\n",
            "Episode: 47  Cumulative reward:  145.0\n",
            "Episode: 48  Cumulative reward:  438.0\n",
            "Episode: 49  Cumulative reward:  162.0\n",
            "Episode: 50  Cumulative reward:  191.0\n",
            "Episode: 51  Cumulative reward:  270.0\n",
            "Episode: 52  Cumulative reward:  165.0\n",
            "Episode: 53  Cumulative reward:  179.0\n",
            "Episode: 54  Cumulative reward:  143.0\n",
            "Episode: 55  Cumulative reward:  171.0\n",
            "Episode: 56  Cumulative reward:  149.0\n",
            "Episode: 57  Cumulative reward:  162.0\n",
            "Episode: 58  Cumulative reward:  175.0\n",
            "Episode: 59  Cumulative reward:  213.0\n",
            "Episode: 60  Cumulative reward:  256.0\n",
            "Episode: 61  Cumulative reward:  205.0\n",
            "Episode: 62  Cumulative reward:  179.0\n",
            "Episode: 63  Cumulative reward:  164.0\n",
            "Episode: 64  Cumulative reward:  131.0\n",
            "Episode: 65  Cumulative reward:  197.0\n",
            "Episode: 66  Cumulative reward:  146.0\n",
            "Episode: 67  Cumulative reward:  212.0\n",
            "Episode: 68  Cumulative reward:  251.0\n",
            "Episode: 69  Cumulative reward:  229.0\n",
            "Episode: 70  Cumulative reward:  172.0\n",
            "Episode: 71  Cumulative reward:  220.0\n",
            "Episode: 72  Cumulative reward:  161.0\n",
            "Episode: 73  Cumulative reward:  155.0\n",
            "Episode: 74  Cumulative reward:  181.0\n",
            "Episode: 75  Cumulative reward:  300.0\n",
            "Episode: 76  Cumulative reward:  167.0\n",
            "Episode: 77  Cumulative reward:  143.0\n",
            "Episode: 78  Cumulative reward:  163.0\n",
            "Episode: 79  Cumulative reward:  245.0\n",
            "Episode: 80  Cumulative reward:  155.0\n",
            "Episode: 81  Cumulative reward:  149.0\n",
            "Episode: 82  Cumulative reward:  157.0\n",
            "Episode: 83  Cumulative reward:  172.0\n",
            "Episode: 84  Cumulative reward:  187.0\n",
            "Episode: 85  Cumulative reward:  185.0\n",
            "Episode: 86  Cumulative reward:  144.0\n",
            "Episode: 87  Cumulative reward:  201.0\n",
            "Episode: 88  Cumulative reward:  183.0\n",
            "Episode: 89  Cumulative reward:  167.0\n",
            "Episode: 90  Cumulative reward:  173.0\n",
            "Episode: 91  Cumulative reward:  161.0\n",
            "Episode: 92  Cumulative reward:  149.0\n",
            "Episode: 93  Cumulative reward:  207.0\n",
            "Episode: 94  Cumulative reward:  167.0\n",
            "Episode: 95  Cumulative reward:  177.0\n",
            "Episode: 96  Cumulative reward:  189.0\n",
            "Episode: 97  Cumulative reward:  178.0\n",
            "Episode: 98  Cumulative reward:  150.0\n",
            "Episode: 99  Cumulative reward:  164.0\n",
            "Episode: 100  Cumulative reward:  167.0\n"
          ]
        }
      ],
      "source": [
        "num_episodes = 100\n",
        "episode_results = []\n",
        "dqn.load_weights('dqn_weights.h5f')\n",
        "for i in range(1,num_episodes+1):\n",
        "    # Reset environment at the beginning of each episode\n",
        "    observation = env.reset()\n",
        "    cumulative_reward = 0\n",
        "    done = False\n",
        "\n",
        "    while not done:\n",
        "        # Agent takes action based on observation\n",
        "        action = dqn.forward(observation)\n",
        "        \n",
        "        # Environment processes action and returns new observation, reward, and done flag\n",
        "        new_observation, reward, done, info = env.step(action)\n",
        "\n",
        "        # Update episode reward and observation for next step\n",
        "        observation = new_observation\n",
        "        cumulative_reward += reward\n",
        "        \n",
        "    print(\"Episode:\", i, \" Cumulative reward: \", cumulative_reward)\n",
        "    episode_results.append(cumulative_reward)"
      ]
    },
    {
      "cell_type": "code",
      "execution_count": 15,
      "id": "47225d21",
      "metadata": {
        "colab": {
          "base_uri": "https://localhost:8080/",
          "height": 295
        },
        "id": "47225d21",
        "outputId": "4c8dc73f-f091-407e-f8a6-3e15384385e9"
      },
      "outputs": [
        {
          "data": {
            "image/png": "[encoded data removed]",
            "text/plain": [
              "<Figure size 432x288 with 1 Axes>"
            ]
          },
          "metadata": {
            "needs_background": "light"
          },
          "output_type": "display_data"
        }
      ],
      "source": [
        "plt.plot(episode_results)\n",
        "plt.title('Cumulative reward for each episode')\n",
        "plt.ylabel('Cumulative reward')\n",
        "plt.xlabel('episode')\n",
        "plt.show()"
      ]
    },
    {
      "cell_type": "code",
      "execution_count": 16,
      "id": "cdfebdd5",
      "metadata": {
        "colab": {
          "base_uri": "https://localhost:8080/"
        },
        "id": "cdfebdd5",
        "outputId": "1dfcbd87-8af1-4cae-9bf4-014223884135"
      },
      "outputs": [
        {
          "name": "stdout",
          "output_type": "stream",
          "text": [
            "Average cumulative reward: 180.32\n",
            "Is my agent good enough? False\n"
          ]
        }
      ],
      "source": [
        "mean = sum(episode_results) / len(episode_results)\n",
        "print(\"Average cumulative reward:\", mean)\n",
        "print(\"Is my agent good enough?\", mean > 195)"
      ]
    },
    {
      "cell_type": "markdown",
      "id": "1a401987",
      "metadata": {
        "id": "1a401987"
      },
      "source": [
        "## Task 3\n",
        "Render an episode played by the developed RL agent"
      ]
    },
    {
      "cell_type": "code",
      "execution_count": 18,
      "id": "44bfaa04",
      "metadata": {
        "colab": {
          "base_uri": "https://localhost:8080/",
          "height": 375
        },
        "id": "44bfaa04",
        "outputId": "56934974-ffd3-4f3f-f429-3afc0cfea375"
      },
      "outputs": [
        {
          "ename": "NameError",
          "evalue": "ignored",
          "output_type": "error",
          "traceback": [
            "\u001b[0;31m---------------------------------------------------------------------------\u001b[0m",
            "\u001b[0;31mNameError\u001b[0m                                 Traceback (most recent call last)",
            "\u001b[0;32m<ipython-input-18-99fd0c3a06f9>\u001b[0m in \u001b[0;36m<module>\u001b[0;34m\u001b[0m\n\u001b[1;32m      1\u001b[0m \u001b[0menv1\u001b[0m \u001b[0;34m=\u001b[0m \u001b[0mRecordVideo\u001b[0m\u001b[0;34m(\u001b[0m\u001b[0mgym\u001b[0m\u001b[0;34m.\u001b[0m\u001b[0mmake\u001b[0m\u001b[0;34m(\u001b[0m\u001b[0;34m\"CartPole-v1\"\u001b[0m\u001b[0;34m)\u001b[0m\u001b[0;34m,\u001b[0m \u001b[0;34m\"./video\"\u001b[0m\u001b[0;34m)\u001b[0m\u001b[0;34m\u001b[0m\u001b[0;34m\u001b[0m\u001b[0m\n\u001b[0;32m----> 2\u001b[0;31m \u001b[0mobservation\u001b[0m \u001b[0;34m=\u001b[0m \u001b[0menv1\u001b[0m\u001b[0;34m.\u001b[0m\u001b[0mreset\u001b[0m\u001b[0;34m(\u001b[0m\u001b[0;34m)\u001b[0m\u001b[0;34m\u001b[0m\u001b[0;34m\u001b[0m\u001b[0m\n\u001b[0m\u001b[1;32m      3\u001b[0m \u001b[0;32mwhile\u001b[0m \u001b[0;32mTrue\u001b[0m\u001b[0;34m:\u001b[0m\u001b[0;34m\u001b[0m\u001b[0;34m\u001b[0m\u001b[0m\n\u001b[1;32m      4\u001b[0m     \u001b[0menv1\u001b[0m\u001b[0;34m.\u001b[0m\u001b[0mrender\u001b[0m\u001b[0;34m(\u001b[0m\u001b[0;34m)\u001b[0m\u001b[0;34m\u001b[0m\u001b[0;34m\u001b[0m\u001b[0m\n\u001b[1;32m      5\u001b[0m     \u001b[0;31m#your agent goes here\u001b[0m\u001b[0;34m\u001b[0m\u001b[0;34m\u001b[0m\u001b[0m\n",
            "\u001b[0;32m/usr/local/lib/python3.9/dist-packages/gym/wrappers/record_video.py\u001b[0m in \u001b[0;36mreset\u001b[0;34m(self, **kwargs)\u001b[0m\n",
            "\u001b[0;32m/usr/local/lib/python3.9/dist-packages/gym/wrappers/record_video.py\u001b[0m in \u001b[0;36mstart_video_recorder\u001b[0;34m(self)\u001b[0m\n",
            "\u001b[0;32m/usr/local/lib/python3.9/dist-packages/gym/wrappers/monitoring/video_recorder.py\u001b[0m in \u001b[0;36mcapture_frame\u001b[0;34m(self)\u001b[0m\n\u001b[1;32m    183\u001b[0m     \u001b[0;32mdef\u001b[0m \u001b[0mcapture_frame\u001b[0m\u001b[0;34m(\u001b[0m\u001b[0mself\u001b[0m\u001b[0;34m,\u001b[0m \u001b[0mframe\u001b[0m\u001b[0;34m)\u001b[0m\u001b[0;34m:\u001b[0m\u001b[0;34m\u001b[0m\u001b[0;34m\u001b[0m\u001b[0m\n\u001b[1;32m    184\u001b[0m         \u001b[0mstring\u001b[0m \u001b[0;34m=\u001b[0m \u001b[0;32mNone\u001b[0m\u001b[0;34m\u001b[0m\u001b[0;34m\u001b[0m\u001b[0m\n\u001b[0;32m--> 185\u001b[0;31m         \u001b[0;32mif\u001b[0m \u001b[0misinstance\u001b[0m\u001b[0;34m(\u001b[0m\u001b[0mframe\u001b[0m\u001b[0;34m,\u001b[0m \u001b[0mstr\u001b[0m\u001b[0;34m)\u001b[0m\u001b[0;34m:\u001b[0m\u001b[0;34m\u001b[0m\u001b[0;34m\u001b[0m\u001b[0m\n\u001b[0m\u001b[1;32m    186\u001b[0m             \u001b[0mstring\u001b[0m \u001b[0;34m=\u001b[0m \u001b[0mframe\u001b[0m\u001b[0;34m\u001b[0m\u001b[0;34m\u001b[0m\u001b[0m\n\u001b[1;32m    187\u001b[0m         \u001b[0;32melif\u001b[0m \u001b[0misinstance\u001b[0m\u001b[0;34m(\u001b[0m\u001b[0mframe\u001b[0m\u001b[0;34m,\u001b[0m \u001b[0mStringIO\u001b[0m\u001b[0;34m)\u001b[0m\u001b[0;34m:\u001b[0m\u001b[0;34m\u001b[0m\u001b[0;34m\u001b[0m\u001b[0m\n",
            "\u001b[0;32m/usr/local/lib/python3.9/dist-packages/gym/core.py\u001b[0m in \u001b[0;36mrender\u001b[0;34m(self, *args, **kwargs)\u001b[0m\n\u001b[1;32m     56\u001b[0m         \u001b[0;32mraise\u001b[0m \u001b[0mNotImplementedError\u001b[0m\u001b[0;34m\u001b[0m\u001b[0;34m\u001b[0m\u001b[0m\n\u001b[1;32m     57\u001b[0m \u001b[0;34m\u001b[0m\u001b[0m\n\u001b[0;32m---> 58\u001b[0;31m     \u001b[0;32mdef\u001b[0m \u001b[0mreset\u001b[0m\u001b[0;34m(\u001b[0m\u001b[0mself\u001b[0m\u001b[0;34m)\u001b[0m\u001b[0;34m:\u001b[0m\u001b[0;34m\u001b[0m\u001b[0;34m\u001b[0m\u001b[0m\n\u001b[0m\u001b[1;32m     59\u001b[0m         \"\"\"Resets the environment to an initial state and returns an initial\n\u001b[1;32m     60\u001b[0m         \u001b[0mobservation\u001b[0m\u001b[0;34m.\u001b[0m\u001b[0;34m\u001b[0m\u001b[0;34m\u001b[0m\u001b[0m\n",
            "\u001b[0;32m/usr/local/lib/python3.9/dist-packages/gym/core.py\u001b[0m in \u001b[0;36mrender\u001b[0;34m(self, *args, **kwargs)\u001b[0m\n",
            "\u001b[0;32m/usr/local/lib/python3.9/dist-packages/gym/core.py\u001b[0m in \u001b[0;36mrender\u001b[0;34m(self, *args, **kwargs)\u001b[0m\n\u001b[1;32m     56\u001b[0m         \u001b[0;32mraise\u001b[0m \u001b[0mNotImplementedError\u001b[0m\u001b[0;34m\u001b[0m\u001b[0;34m\u001b[0m\u001b[0m\n\u001b[1;32m     57\u001b[0m \u001b[0;34m\u001b[0m\u001b[0m\n\u001b[0;32m---> 58\u001b[0;31m     \u001b[0;32mdef\u001b[0m \u001b[0mreset\u001b[0m\u001b[0;34m(\u001b[0m\u001b[0mself\u001b[0m\u001b[0;34m)\u001b[0m\u001b[0;34m:\u001b[0m\u001b[0;34m\u001b[0m\u001b[0;34m\u001b[0m\u001b[0m\n\u001b[0m\u001b[1;32m     59\u001b[0m         \"\"\"Resets the environment to an initial state and returns an initial\n\u001b[1;32m     60\u001b[0m         \u001b[0mobservation\u001b[0m\u001b[0;34m.\u001b[0m\u001b[0;34m\u001b[0m\u001b[0;34m\u001b[0m\u001b[0m\n",
            "\u001b[0;32m/usr/local/lib/python3.9/dist-packages/gym/wrappers/order_enforcing.py\u001b[0m in \u001b[0;36mrender\u001b[0;34m(self, *args, **kwargs)\u001b[0m\n",
            "\u001b[0;32m/usr/local/lib/python3.9/dist-packages/gym/core.py\u001b[0m in \u001b[0;36mrender\u001b[0;34m(self, *args, **kwargs)\u001b[0m\n\u001b[1;32m     56\u001b[0m         \u001b[0;32mraise\u001b[0m \u001b[0mNotImplementedError\u001b[0m\u001b[0;34m\u001b[0m\u001b[0;34m\u001b[0m\u001b[0m\n\u001b[1;32m     57\u001b[0m \u001b[0;34m\u001b[0m\u001b[0m\n\u001b[0;32m---> 58\u001b[0;31m     \u001b[0;32mdef\u001b[0m \u001b[0mreset\u001b[0m\u001b[0;34m(\u001b[0m\u001b[0mself\u001b[0m\u001b[0;34m)\u001b[0m\u001b[0;34m:\u001b[0m\u001b[0;34m\u001b[0m\u001b[0;34m\u001b[0m\u001b[0m\n\u001b[0m\u001b[1;32m     59\u001b[0m         \"\"\"Resets the environment to an initial state and returns an initial\n\u001b[1;32m     60\u001b[0m         \u001b[0mobservation\u001b[0m\u001b[0;34m.\u001b[0m\u001b[0;34m\u001b[0m\u001b[0;34m\u001b[0m\u001b[0m\n",
            "\u001b[0;32m/usr/local/lib/python3.9/dist-packages/gym/core.py\u001b[0m in \u001b[0;36mrender\u001b[0;34m(self, *args, **kwargs)\u001b[0m\n",
            "\u001b[0;32m/usr/local/lib/python3.9/dist-packages/gym/core.py\u001b[0m in \u001b[0;36mrender\u001b[0;34m(self, *args, **kwargs)\u001b[0m\n\u001b[1;32m     56\u001b[0m         \u001b[0;32mraise\u001b[0m \u001b[0mNotImplementedError\u001b[0m\u001b[0;34m\u001b[0m\u001b[0;34m\u001b[0m\u001b[0m\n\u001b[1;32m     57\u001b[0m \u001b[0;34m\u001b[0m\u001b[0m\n\u001b[0;32m---> 58\u001b[0;31m     \u001b[0;32mdef\u001b[0m \u001b[0mreset\u001b[0m\u001b[0;34m(\u001b[0m\u001b[0mself\u001b[0m\u001b[0;34m)\u001b[0m\u001b[0;34m:\u001b[0m\u001b[0;34m\u001b[0m\u001b[0;34m\u001b[0m\u001b[0m\n\u001b[0m\u001b[1;32m     59\u001b[0m         \"\"\"Resets the environment to an initial state and returns an initial\n\u001b[1;32m     60\u001b[0m         \u001b[0mobservation\u001b[0m\u001b[0;34m.\u001b[0m\u001b[0;34m\u001b[0m\u001b[0;34m\u001b[0m\u001b[0m\n",
            "\u001b[0;32m/usr/local/lib/python3.9/dist-packages/gym/wrappers/env_checker.py\u001b[0m in \u001b[0;36mrender\u001b[0;34m(self, *args, **kwargs)\u001b[0m\n",
            "\u001b[0;32m/usr/local/lib/python3.9/dist-packages/gym/utils/passive_env_checker.py\u001b[0m in \u001b[0;36menv_render_passive_checker\u001b[0;34m(env, *args, **kwargs)\u001b[0m\n",
            "\u001b[0;32m/usr/local/lib/python3.9/dist-packages/gym/core.py\u001b[0m in \u001b[0;36mrender\u001b[0;34m(self, *args, **kwargs)\u001b[0m\n\u001b[1;32m     56\u001b[0m         \u001b[0;32mraise\u001b[0m \u001b[0mNotImplementedError\u001b[0m\u001b[0;34m\u001b[0m\u001b[0;34m\u001b[0m\u001b[0m\n\u001b[1;32m     57\u001b[0m \u001b[0;34m\u001b[0m\u001b[0m\n\u001b[0;32m---> 58\u001b[0;31m     \u001b[0;32mdef\u001b[0m \u001b[0mreset\u001b[0m\u001b[0;34m(\u001b[0m\u001b[0mself\u001b[0m\u001b[0;34m)\u001b[0m\u001b[0;34m:\u001b[0m\u001b[0;34m\u001b[0m\u001b[0;34m\u001b[0m\u001b[0m\n\u001b[0m\u001b[1;32m     59\u001b[0m         \"\"\"Resets the environment to an initial state and returns an initial\n\u001b[1;32m     60\u001b[0m         \u001b[0mobservation\u001b[0m\u001b[0;34m.\u001b[0m\u001b[0;34m\u001b[0m\u001b[0;34m\u001b[0m\u001b[0m\n",
            "\u001b[0;32m/usr/local/lib/python3.9/dist-packages/gym/envs/classic_control/cartpole.py\u001b[0m in \u001b[0;36mrender\u001b[0;34m(self, mode)\u001b[0m\n\u001b[1;32m    172\u001b[0m \u001b[0;34m\u001b[0m\u001b[0m\n\u001b[1;32m    173\u001b[0m         \u001b[0;32mif\u001b[0m \u001b[0mself\u001b[0m\u001b[0;34m.\u001b[0m\u001b[0mviewer\u001b[0m \u001b[0;32mis\u001b[0m \u001b[0;32mNone\u001b[0m\u001b[0;34m:\u001b[0m\u001b[0;34m\u001b[0m\u001b[0;34m\u001b[0m\u001b[0m\n\u001b[0;32m--> 174\u001b[0;31m             \u001b[0;32mfrom\u001b[0m \u001b[0mgym\u001b[0m\u001b[0;34m.\u001b[0m\u001b[0menvs\u001b[0m\u001b[0;34m.\u001b[0m\u001b[0mclassic_control\u001b[0m \u001b[0;32mimport\u001b[0m \u001b[0mrendering\u001b[0m\u001b[0;34m\u001b[0m\u001b[0;34m\u001b[0m\u001b[0m\n\u001b[0m\u001b[1;32m    175\u001b[0m             \u001b[0mself\u001b[0m\u001b[0;34m.\u001b[0m\u001b[0mviewer\u001b[0m \u001b[0;34m=\u001b[0m \u001b[0mrendering\u001b[0m\u001b[0;34m.\u001b[0m\u001b[0mViewer\u001b[0m\u001b[0;34m(\u001b[0m\u001b[0mscreen_width\u001b[0m\u001b[0;34m,\u001b[0m \u001b[0mscreen_height\u001b[0m\u001b[0;34m)\u001b[0m\u001b[0;34m\u001b[0m\u001b[0;34m\u001b[0m\u001b[0m\n\u001b[1;32m    176\u001b[0m             \u001b[0ml\u001b[0m\u001b[0;34m,\u001b[0m \u001b[0mr\u001b[0m\u001b[0;34m,\u001b[0m \u001b[0mt\u001b[0m\u001b[0;34m,\u001b[0m \u001b[0mb\u001b[0m \u001b[0;34m=\u001b[0m \u001b[0;34m-\u001b[0m\u001b[0mcartwidth\u001b[0m \u001b[0;34m/\u001b[0m \u001b[0;36m2\u001b[0m\u001b[0;34m,\u001b[0m \u001b[0mcartwidth\u001b[0m \u001b[0;34m/\u001b[0m \u001b[0;36m2\u001b[0m\u001b[0;34m,\u001b[0m \u001b[0mcartheight\u001b[0m \u001b[0;34m/\u001b[0m \u001b[0;36m2\u001b[0m\u001b[0;34m,\u001b[0m \u001b[0;34m-\u001b[0m\u001b[0mcartheight\u001b[0m \u001b[0;34m/\u001b[0m \u001b[0;36m2\u001b[0m\u001b[0;34m\u001b[0m\u001b[0;34m\u001b[0m\u001b[0m\n",
            "\u001b[0;32m/usr/local/lib/python3.9/dist-packages/gym/envs/classic_control/rendering.py\u001b[0m in \u001b[0;36m<module>\u001b[0;34m\u001b[0m\n\u001b[1;32m     23\u001b[0m \u001b[0;34m\u001b[0m\u001b[0m\n\u001b[1;32m     24\u001b[0m \u001b[0;32mtry\u001b[0m\u001b[0;34m:\u001b[0m\u001b[0;34m\u001b[0m\u001b[0;34m\u001b[0m\u001b[0m\n\u001b[0;32m---> 25\u001b[0;31m     \u001b[0;32mfrom\u001b[0m \u001b[0mpyglet\u001b[0m\u001b[0;34m.\u001b[0m\u001b[0mgl\u001b[0m \u001b[0;32mimport\u001b[0m \u001b[0;34m*\u001b[0m\u001b[0;34m\u001b[0m\u001b[0;34m\u001b[0m\u001b[0m\n\u001b[0m\u001b[1;32m     26\u001b[0m \u001b[0;32mexcept\u001b[0m \u001b[0mImportError\u001b[0m \u001b[0;32mas\u001b[0m \u001b[0me\u001b[0m\u001b[0;34m:\u001b[0m\u001b[0;34m\u001b[0m\u001b[0;34m\u001b[0m\u001b[0m\n\u001b[1;32m     27\u001b[0m     raise ImportError('''\n",
            "\u001b[0;32m/usr/local/lib/python3.9/dist-packages/pyglet/gl/__init__.py\u001b[0m in \u001b[0;36m<module>\u001b[0;34m\u001b[0m\n\u001b[1;32m    233\u001b[0m \u001b[0;32melif\u001b[0m \u001b[0mcompat_platform\u001b[0m \u001b[0;34m==\u001b[0m \u001b[0;34m'darwin'\u001b[0m\u001b[0;34m:\u001b[0m\u001b[0;34m\u001b[0m\u001b[0;34m\u001b[0m\u001b[0m\n\u001b[1;32m    234\u001b[0m     \u001b[0;32mfrom\u001b[0m \u001b[0;34m.\u001b[0m\u001b[0mcocoa\u001b[0m \u001b[0;32mimport\u001b[0m \u001b[0mCocoaConfig\u001b[0m \u001b[0;32mas\u001b[0m \u001b[0mConfig\u001b[0m\u001b[0;34m\u001b[0m\u001b[0;34m\u001b[0m\u001b[0m\n\u001b[0;32m--> 235\u001b[0;31m \u001b[0;32mdel\u001b[0m \u001b[0mbase\u001b[0m  \u001b[0;31m# noqa: F821\u001b[0m\u001b[0;34m\u001b[0m\u001b[0;34m\u001b[0m\u001b[0m\n\u001b[0m\u001b[1;32m    236\u001b[0m \u001b[0;34m\u001b[0m\u001b[0m\n\u001b[1;32m    237\u001b[0m \u001b[0;34m\u001b[0m\u001b[0m\n",
            "\u001b[0;31mNameError\u001b[0m: name 'base' is not defined"
          ]
        }
      ],
      "source": [
        "env1 = RecordVideo(gym.make(\"CartPole-v1\"), \"./video\")\n",
        "observation = env1.reset()\n",
        "while True:\n",
        "    env1.render()\n",
        "    #your agent goes here\n",
        "    action = dqn.forward(observation)\n",
        "    observation, reward, done, info = env.step(action) \n",
        "    if done: \n",
        "      break;    \n",
        "env1.close()\n",
        "show_video()"
      ]
    },
    {
      "cell_type": "code",
      "execution_count": null,
      "id": "14ffd533",
      "metadata": {
        "id": "14ffd533"
      },
      "outputs": [],
      "source": []
    },
    {
      "cell_type": "code",
      "execution_count": null,
      "id": "993f40e0",
      "metadata": {
        "id": "993f40e0"
      },
      "outputs": [],
      "source": []
    },
    {
      "cell_type": "code",
      "execution_count": null,
      "id": "23588315",
      "metadata": {
        "id": "23588315"
      },
      "outputs": [],
      "source": []
    },
    {
      "cell_type": "code",
      "execution_count": null,
      "id": "8b59a75b",
      "metadata": {
        "id": "8b59a75b"
      },
      "outputs": [],
      "source": []
    }
  ],
  "metadata": {
    "colab": {
      "provenance": []
    },
    "kernelspec": {
      "display_name": "Python 3 (ipykernel)",
      "language": "python",
      "name": "python3"
    },
    "language_info": {
      "codemirror_mode": {
        "name": "ipython",
        "version": 3
      },
      "file_extension": ".py",
      "mimetype": "text/x-python",
      "name": "python",
      "nbconvert_exporter": "python",
      "pygments_lexer": "ipython3",
      "version": "3.10.9"
    }
  },
  "nbformat": 4,
  "nbformat_minor": 5
}
