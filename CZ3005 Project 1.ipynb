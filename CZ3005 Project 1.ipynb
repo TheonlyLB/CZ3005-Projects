{
  "cells": [
    {
      "cell_type": "markdown",
      "metadata": {
        "id": "cbf929e8"
      },
      "source": [
        "# CZ3005 Project 1 - Balancing a Pole on a Cart"
      ]
    },
    {
      "cell_type": "markdown",
      "metadata": {
        "id": "34e6fb8e"
      },
      "source": [
        "### Done by: Zon Liew (U1921098F), Charlotte Teo (U2022021G), Paul Low (U2022421F)"
      ]
    },
    {
      "cell_type": "markdown",
      "metadata": {
        "id": "0fa7c32e"
      },
      "source": [
        "Objectives:\n",
        "Apply Linear annealed policy with the EpsGreedyQPolicy as the inner policy:\n",
        "Achieve a DQN model that trains in the least possible number of episodes.\n",
        "Balance pole on the cart for 500 steps for 100 consecutive episodes while testing.\n",
        "\n",
        "Epsilon-Greedy chooses the optimal action at each step, but sometimes randomly chooses an unlikely option.\n",
        "We specify an initially high exploration rate (epsilon) of 1 at the beginning of Q function training because we know nothing about the importance of the Q table. Epsilon value is decreased as the agent has more confidence in the Q values.\n",
        "\n",
        "A DQN agent can be used in any environment which has a discrete action space.\n",
        "It is based on the Q - Network, a neural network model that can learn to predict Q-Values (expected returns) for all actions, given an observation from the environment.\n",
        "\n",
        "The hyperparameters are:\n",
        "\n",
        "Size of 1st fully connected layer: 256\n",
        "Size of 2nd fully connected layer: 512\n",
        "Period of the update of the target network parameters: 1000 steps\n",
        "Discount factor: 0.99\n",
        "Decay factor for epsilon in epsilon-greedy policy: 0.99\n",
        "Minimum epsilon in epsilon-greeddy policy: 1E-4\n",
        "Learning rate: 3E-4\n",
        "Size of replay memory: 1000000\n",
        "Period of experience replay: 4 steps\n",
        "PER alpha: 0.2\n",
        "PER beta0: 0.4\n"
      ]
    },
    {
      "cell_type": "markdown",
      "metadata": {
        "id": "ZauhjPSfX7pI"
      },
      "source": [
        "# Tutorial and Sample Code for Balancing a Pole on a Cart"
      ]
    },
    {
      "cell_type": "markdown",
      "metadata": {
        "id": "UBiYOoesYMvr"
      },
      "source": [
        "## Installing dependencies:"
      ]
    },
    {
      "cell_type": "code",
      "execution_count": 14,
      "metadata": {
        "colab": {
          "base_uri": "https://localhost:8080/"
        },
        "id": "PbgnVwZmX5uW",
        "outputId": "15dba758-9f91-4ef1-999d-c0238442a126"
      },
      "outputs": [
        {
          "name": "stdout",
          "output_type": "stream",
          "text": [
            "Looking in indexes: https://pypi.org/simple, https://us-python.pkg.dev/colab-wheels/public/simple/\n",
            "Requirement already satisfied: gym[classic_control] in /usr/local/lib/python3.8/dist-packages (0.25.2)\n",
            "Requirement already satisfied: gym-notices>=0.0.4 in /usr/local/lib/python3.8/dist-packages (from gym[classic_control]) (0.0.8)\n",
            "Requirement already satisfied: numpy>=1.18.0 in /usr/local/lib/python3.8/dist-packages (from gym[classic_control]) (1.22.4)\n",
            "Requirement already satisfied: cloudpickle>=1.2.0 in /usr/local/lib/python3.8/dist-packages (from gym[classic_control]) (2.2.1)\n",
            "Requirement already satisfied: importlib-metadata>=4.8.0 in /usr/local/lib/python3.8/dist-packages (from gym[classic_control]) (6.0.0)\n",
            "Requirement already satisfied: pygame==2.1.0 in /usr/local/lib/python3.8/dist-packages (from gym[classic_control]) (2.1.0)\n",
            "Requirement already satisfied: zipp>=0.5 in /usr/local/lib/python3.8/dist-packages (from importlib-metadata>=4.8.0->gym[classic_control]) (3.15.0)\n",
            "Looking in indexes: https://pypi.org/simple, https://us-python.pkg.dev/colab-wheels/public/simple/\n",
            "Requirement already satisfied: setuptools in /usr/local/lib/python3.8/dist-packages (67.5.1)\n"
          ]
        }
      ],
      "source": [
        "!apt-get install -y xvfb python-opengl > /dev/null 2>&1\n",
        "!pip install gym pyvirtualdisplay > /dev/null 2>&1\n",
        "!pip install gym pyvirtualdisplay > /dev/null 2>&1\n",
        "!apt-get install -y xvfb python-opengl ffmpeg > /dev/null 2>&1\n",
        "!pip install gym[classic_control]\n",
        "!apt-get update > /dev/null 2>&1\n",
        "!apt-get install cmake > /dev/null 2>&1\n",
        "!pip install --upgrade setuptools 2>&1\n",
        "!pip install ez_setup > /dev/null 2>&1"
      ]
    },
    {
      "cell_type": "markdown",
      "metadata": {
        "id": "RwKbYeTgbaTA"
      },
      "source": [
        "## Importing dependencies and define helper functions"
      ]
    },
    {
      "cell_type": "code",
      "execution_count": 15,
      "metadata": {
        "id": "j6KpgCLGYWmj"
      },
      "outputs": [],
      "source": [
        "import gym\n",
        "from gym import logger as gymlogger\n",
        "from gym.wrappers import RecordVideo\n",
        "gymlogger.set_level(40) #error only\n",
        "import tensorflow as tf\n",
        "import numpy as np\n",
        "import random\n",
        "import matplotlib\n",
        "import matplotlib.pyplot as plt\n",
        "%matplotlib inline\n",
        "import math\n",
        "import glob\n",
        "import io\n",
        "import base64\n",
        "from IPython.display import HTML\n",
        "from IPython import display as ipythondisplay\n",
        "\n",
        "def show_video():\n",
        "  mp4list = glob.glob('video/*.mp4')\n",
        "  if len(mp4list) > 0:\n",
        "    mp4 = mp4list[0]\n",
        "    video = io.open(mp4, 'r+b').read()\n",
        "    encoded = base64.b64encode(video)\n",
        "    ipythondisplay.display(HTML(data='''<video alt=\"test\" autoplay \n",
        "                loop controls style=\"height: 400px;\">\n",
        "                <source src=\"data:video/mp4;base64,{0}\" type=\"video/mp4\" />\n",
        "             </video>'''.format(encoded.decode('ascii'))))\n",
        "  else: \n",
        "    print(\"Could not find video\")"
      ]
    },
    {
      "cell_type": "code",
      "execution_count": null,
      "metadata": {
        "id": "rXNwUqEpGIaH"
      },
      "outputs": [],
      "source": []
    },
    {
      "cell_type": "code",
      "execution_count": 16,
      "metadata": {
        "colab": {
          "base_uri": "https://localhost:8080/",
          "height": 1000
        },
        "id": "a4af0a72",
        "outputId": "b95b9d11-eb37-424d-a597-46d2aef87a03"
      },
      "outputs": [
        {
          "name": "stdout",
          "output_type": "stream",
          "text": [
            "Looking in indexes: https://pypi.org/simple, https://us-python.pkg.dev/colab-wheels/public/simple/\n",
            "Collecting keras-rl2\n",
            "  Downloading keras_rl2-1.0.5-py3-none-any.whl (52 kB)\n",
            "\u001b[2K     \u001b[90m━━━━━━━━━━━━━━━━━━━━━━━━━━━━━━━━━━━━━━━━\u001b[0m \u001b[32m52.1/52.1 KB\u001b[0m \u001b[31m2.6 MB/s\u001b[0m eta \u001b[36m0:00:00\u001b[0m\n",
            "\u001b[?25hRequirement already satisfied: tensorflow in /usr/local/lib/python3.8/dist-packages (from keras-rl2) (2.11.0)\n",
            "Requirement already satisfied: flatbuffers>=2.0 in /usr/local/lib/python3.8/dist-packages (from tensorflow->keras-rl2) (23.1.21)\n",
            "Requirement already satisfied: keras<2.12,>=2.11.0 in /usr/local/lib/python3.8/dist-packages (from tensorflow->keras-rl2) (2.11.0)\n",
            "Requirement already satisfied: tensorflow-io-gcs-filesystem>=0.23.1 in /usr/local/lib/python3.8/dist-packages (from tensorflow->keras-rl2) (0.31.0)\n",
            "Requirement already satisfied: numpy>=1.20 in /usr/local/lib/python3.8/dist-packages (from tensorflow->keras-rl2) (1.22.4)\n",
            "Requirement already satisfied: protobuf<3.20,>=3.9.2 in /usr/local/lib/python3.8/dist-packages (from tensorflow->keras-rl2) (3.19.6)\n",
            "Requirement already satisfied: packaging in /usr/local/lib/python3.8/dist-packages (from tensorflow->keras-rl2) (23.0)\n",
            "Requirement already satisfied: astunparse>=1.6.0 in /usr/local/lib/python3.8/dist-packages (from tensorflow->keras-rl2) (1.6.3)\n",
            "Requirement already satisfied: six>=1.12.0 in /usr/local/lib/python3.8/dist-packages (from tensorflow->keras-rl2) (1.15.0)\n",
            "Requirement already satisfied: absl-py>=1.0.0 in /usr/local/lib/python3.8/dist-packages (from tensorflow->keras-rl2) (1.4.0)\n",
            "Requirement already satisfied: typing-extensions>=3.6.6 in /usr/local/lib/python3.8/dist-packages (from tensorflow->keras-rl2) (4.5.0)\n",
            "Requirement already satisfied: wrapt>=1.11.0 in /usr/local/lib/python3.8/dist-packages (from tensorflow->keras-rl2) (1.15.0)\n",
            "Requirement already satisfied: h5py>=2.9.0 in /usr/local/lib/python3.8/dist-packages (from tensorflow->keras-rl2) (3.1.0)\n",
            "Requirement already satisfied: setuptools in /usr/local/lib/python3.8/dist-packages (from tensorflow->keras-rl2) (67.5.1)\n",
            "Requirement already satisfied: gast<=0.4.0,>=0.2.1 in /usr/local/lib/python3.8/dist-packages (from tensorflow->keras-rl2) (0.4.0)\n",
            "Requirement already satisfied: tensorflow-estimator<2.12,>=2.11.0 in /usr/local/lib/python3.8/dist-packages (from tensorflow->keras-rl2) (2.11.0)\n",
            "Requirement already satisfied: libclang>=13.0.0 in /usr/local/lib/python3.8/dist-packages (from tensorflow->keras-rl2) (15.0.6.1)\n",
            "Requirement already satisfied: termcolor>=1.1.0 in /usr/local/lib/python3.8/dist-packages (from tensorflow->keras-rl2) (2.2.0)\n",
            "Requirement already satisfied: grpcio<2.0,>=1.24.3 in /usr/local/lib/python3.8/dist-packages (from tensorflow->keras-rl2) (1.51.3)\n",
            "Requirement already satisfied: google-pasta>=0.1.1 in /usr/local/lib/python3.8/dist-packages (from tensorflow->keras-rl2) (0.2.0)\n",
            "Requirement already satisfied: opt-einsum>=2.3.2 in /usr/local/lib/python3.8/dist-packages (from tensorflow->keras-rl2) (3.3.0)\n",
            "Requirement already satisfied: tensorboard<2.12,>=2.11 in /usr/local/lib/python3.8/dist-packages (from tensorflow->keras-rl2) (2.11.2)\n",
            "Requirement already satisfied: wheel<1.0,>=0.23.0 in /usr/local/lib/python3.8/dist-packages (from astunparse>=1.6.0->tensorflow->keras-rl2) (0.38.4)\n",
            "Requirement already satisfied: werkzeug>=1.0.1 in /usr/local/lib/python3.8/dist-packages (from tensorboard<2.12,>=2.11->tensorflow->keras-rl2) (2.2.3)\n",
            "Requirement already satisfied: tensorboard-data-server<0.7.0,>=0.6.0 in /usr/local/lib/python3.8/dist-packages (from tensorboard<2.12,>=2.11->tensorflow->keras-rl2) (0.6.1)\n",
            "Requirement already satisfied: google-auth<3,>=1.6.3 in /usr/local/lib/python3.8/dist-packages (from tensorboard<2.12,>=2.11->tensorflow->keras-rl2) (2.16.1)\n",
            "Requirement already satisfied: tensorboard-plugin-wit>=1.6.0 in /usr/local/lib/python3.8/dist-packages (from tensorboard<2.12,>=2.11->tensorflow->keras-rl2) (1.8.1)\n",
            "Requirement already satisfied: requests<3,>=2.21.0 in /usr/local/lib/python3.8/dist-packages (from tensorboard<2.12,>=2.11->tensorflow->keras-rl2) (2.25.1)\n",
            "Requirement already satisfied: google-auth-oauthlib<0.5,>=0.4.1 in /usr/local/lib/python3.8/dist-packages (from tensorboard<2.12,>=2.11->tensorflow->keras-rl2) (0.4.6)\n",
            "Requirement already satisfied: markdown>=2.6.8 in /usr/local/lib/python3.8/dist-packages (from tensorboard<2.12,>=2.11->tensorflow->keras-rl2) (3.4.1)\n",
            "Requirement already satisfied: rsa<5,>=3.1.4 in /usr/local/lib/python3.8/dist-packages (from google-auth<3,>=1.6.3->tensorboard<2.12,>=2.11->tensorflow->keras-rl2) (4.9)\n",
            "Requirement already satisfied: cachetools<6.0,>=2.0.0 in /usr/local/lib/python3.8/dist-packages (from google-auth<3,>=1.6.3->tensorboard<2.12,>=2.11->tensorflow->keras-rl2) (5.3.0)\n",
            "Requirement already satisfied: pyasn1-modules>=0.2.1 in /usr/local/lib/python3.8/dist-packages (from google-auth<3,>=1.6.3->tensorboard<2.12,>=2.11->tensorflow->keras-rl2) (0.2.8)\n",
            "Requirement already satisfied: requests-oauthlib>=0.7.0 in /usr/local/lib/python3.8/dist-packages (from google-auth-oauthlib<0.5,>=0.4.1->tensorboard<2.12,>=2.11->tensorflow->keras-rl2) (1.3.1)\n",
            "Requirement already satisfied: importlib-metadata>=4.4 in /usr/local/lib/python3.8/dist-packages (from markdown>=2.6.8->tensorboard<2.12,>=2.11->tensorflow->keras-rl2) (6.0.0)\n",
            "Requirement already satisfied: certifi>=2017.4.17 in /usr/local/lib/python3.8/dist-packages (from requests<3,>=2.21.0->tensorboard<2.12,>=2.11->tensorflow->keras-rl2) (2022.12.7)\n",
            "Requirement already satisfied: idna<3,>=2.5 in /usr/local/lib/python3.8/dist-packages (from requests<3,>=2.21.0->tensorboard<2.12,>=2.11->tensorflow->keras-rl2) (2.10)\n",
            "Requirement already satisfied: urllib3<1.27,>=1.21.1 in /usr/local/lib/python3.8/dist-packages (from requests<3,>=2.21.0->tensorboard<2.12,>=2.11->tensorflow->keras-rl2) (1.26.14)\n",
            "Requirement already satisfied: chardet<5,>=3.0.2 in /usr/local/lib/python3.8/dist-packages (from requests<3,>=2.21.0->tensorboard<2.12,>=2.11->tensorflow->keras-rl2) (4.0.0)\n",
            "Requirement already satisfied: MarkupSafe>=2.1.1 in /usr/local/lib/python3.8/dist-packages (from werkzeug>=1.0.1->tensorboard<2.12,>=2.11->tensorflow->keras-rl2) (2.1.2)\n",
            "Requirement already satisfied: zipp>=0.5 in /usr/local/lib/python3.8/dist-packages (from importlib-metadata>=4.4->markdown>=2.6.8->tensorboard<2.12,>=2.11->tensorflow->keras-rl2) (3.15.0)\n",
            "Requirement already satisfied: pyasn1<0.5.0,>=0.4.6 in /usr/local/lib/python3.8/dist-packages (from pyasn1-modules>=0.2.1->google-auth<3,>=1.6.3->tensorboard<2.12,>=2.11->tensorflow->keras-rl2) (0.4.8)\n",
            "Requirement already satisfied: oauthlib>=3.0.0 in /usr/local/lib/python3.8/dist-packages (from requests-oauthlib>=0.7.0->google-auth-oauthlib<0.5,>=0.4.1->tensorboard<2.12,>=2.11->tensorflow->keras-rl2) (3.2.2)\n",
            "Installing collected packages: keras-rl2\n",
            "Successfully installed keras-rl2-1.0.5\n",
            "Looking in indexes: https://pypi.org/simple, https://us-python.pkg.dev/colab-wheels/public/simple/\n",
            "Requirement already satisfied: dopamine-rl in /usr/local/lib/python3.8/dist-packages (1.0.5)\n",
            "Requirement already satisfied: gym>=0.10.5 in /usr/local/lib/python3.8/dist-packages (from dopamine-rl) (0.25.2)\n",
            "Requirement already satisfied: absl-py>=0.2.2 in /usr/local/lib/python3.8/dist-packages (from dopamine-rl) (1.4.0)\n",
            "Requirement already satisfied: gin-config>=0.1.1 in /usr/local/lib/python3.8/dist-packages (from dopamine-rl) (0.5.0)\n",
            "Requirement already satisfied: opencv-python>=3.4.1.15 in /usr/local/lib/python3.8/dist-packages (from dopamine-rl) (4.6.0.66)\n",
            "Requirement already satisfied: gym-notices>=0.0.4 in /usr/local/lib/python3.8/dist-packages (from gym>=0.10.5->dopamine-rl) (0.0.8)\n",
            "Requirement already satisfied: importlib-metadata>=4.8.0 in /usr/local/lib/python3.8/dist-packages (from gym>=0.10.5->dopamine-rl) (6.0.0)\n",
            "Requirement already satisfied: numpy>=1.18.0 in /usr/local/lib/python3.8/dist-packages (from gym>=0.10.5->dopamine-rl) (1.22.4)\n",
            "Requirement already satisfied: cloudpickle>=1.2.0 in /usr/local/lib/python3.8/dist-packages (from gym>=0.10.5->dopamine-rl) (2.2.1)\n",
            "Requirement already satisfied: zipp>=0.5 in /usr/local/lib/python3.8/dist-packages (from importlib-metadata>=4.8.0->gym>=0.10.5->dopamine-rl) (3.15.0)\n",
            "Looking in indexes: https://pypi.org/simple, https://us-python.pkg.dev/colab-wheels/public/simple/\n",
            "Requirement already satisfied: tensorflow in /usr/local/lib/python3.8/dist-packages (2.11.0)\n",
            "Requirement already satisfied: numpy>=1.20 in /usr/local/lib/python3.8/dist-packages (from tensorflow) (1.22.4)\n",
            "Requirement already satisfied: libclang>=13.0.0 in /usr/local/lib/python3.8/dist-packages (from tensorflow) (15.0.6.1)\n",
            "Requirement already satisfied: google-pasta>=0.1.1 in /usr/local/lib/python3.8/dist-packages (from tensorflow) (0.2.0)\n",
            "Requirement already satisfied: tensorflow-io-gcs-filesystem>=0.23.1 in /usr/local/lib/python3.8/dist-packages (from tensorflow) (0.31.0)\n",
            "Requirement already satisfied: absl-py>=1.0.0 in /usr/local/lib/python3.8/dist-packages (from tensorflow) (1.4.0)\n",
            "Requirement already satisfied: termcolor>=1.1.0 in /usr/local/lib/python3.8/dist-packages (from tensorflow) (2.2.0)\n",
            "Requirement already satisfied: typing-extensions>=3.6.6 in /usr/local/lib/python3.8/dist-packages (from tensorflow) (4.5.0)\n",
            "Requirement already satisfied: opt-einsum>=2.3.2 in /usr/local/lib/python3.8/dist-packages (from tensorflow) (3.3.0)\n",
            "Requirement already satisfied: astunparse>=1.6.0 in /usr/local/lib/python3.8/dist-packages (from tensorflow) (1.6.3)\n",
            "Requirement already satisfied: setuptools in /usr/local/lib/python3.8/dist-packages (from tensorflow) (67.5.1)\n",
            "Requirement already satisfied: tensorboard<2.12,>=2.11 in /usr/local/lib/python3.8/dist-packages (from tensorflow) (2.11.2)\n",
            "Requirement already satisfied: wrapt>=1.11.0 in /usr/local/lib/python3.8/dist-packages (from tensorflow) (1.15.0)\n",
            "Requirement already satisfied: protobuf<3.20,>=3.9.2 in /usr/local/lib/python3.8/dist-packages (from tensorflow) (3.19.6)\n",
            "Requirement already satisfied: h5py>=2.9.0 in /usr/local/lib/python3.8/dist-packages (from tensorflow) (3.1.0)\n",
            "Requirement already satisfied: grpcio<2.0,>=1.24.3 in /usr/local/lib/python3.8/dist-packages (from tensorflow) (1.51.3)\n",
            "Requirement already satisfied: six>=1.12.0 in /usr/local/lib/python3.8/dist-packages (from tensorflow) (1.15.0)\n",
            "Requirement already satisfied: gast<=0.4.0,>=0.2.1 in /usr/local/lib/python3.8/dist-packages (from tensorflow) (0.4.0)\n",
            "Requirement already satisfied: keras<2.12,>=2.11.0 in /usr/local/lib/python3.8/dist-packages (from tensorflow) (2.11.0)\n",
            "Requirement already satisfied: tensorflow-estimator<2.12,>=2.11.0 in /usr/local/lib/python3.8/dist-packages (from tensorflow) (2.11.0)\n",
            "Requirement already satisfied: flatbuffers>=2.0 in /usr/local/lib/python3.8/dist-packages (from tensorflow) (23.1.21)\n",
            "Requirement already satisfied: packaging in /usr/local/lib/python3.8/dist-packages (from tensorflow) (23.0)\n",
            "Requirement already satisfied: wheel<1.0,>=0.23.0 in /usr/local/lib/python3.8/dist-packages (from astunparse>=1.6.0->tensorflow) (0.38.4)\n",
            "Requirement already satisfied: werkzeug>=1.0.1 in /usr/local/lib/python3.8/dist-packages (from tensorboard<2.12,>=2.11->tensorflow) (2.2.3)\n",
            "Requirement already satisfied: google-auth-oauthlib<0.5,>=0.4.1 in /usr/local/lib/python3.8/dist-packages (from tensorboard<2.12,>=2.11->tensorflow) (0.4.6)\n",
            "Requirement already satisfied: requests<3,>=2.21.0 in /usr/local/lib/python3.8/dist-packages (from tensorboard<2.12,>=2.11->tensorflow) (2.25.1)\n",
            "Requirement already satisfied: tensorboard-plugin-wit>=1.6.0 in /usr/local/lib/python3.8/dist-packages (from tensorboard<2.12,>=2.11->tensorflow) (1.8.1)\n",
            "Requirement already satisfied: google-auth<3,>=1.6.3 in /usr/local/lib/python3.8/dist-packages (from tensorboard<2.12,>=2.11->tensorflow) (2.16.1)\n",
            "Requirement already satisfied: tensorboard-data-server<0.7.0,>=0.6.0 in /usr/local/lib/python3.8/dist-packages (from tensorboard<2.12,>=2.11->tensorflow) (0.6.1)\n",
            "Requirement already satisfied: markdown>=2.6.8 in /usr/local/lib/python3.8/dist-packages (from tensorboard<2.12,>=2.11->tensorflow) (3.4.1)\n",
            "Requirement already satisfied: pyasn1-modules>=0.2.1 in /usr/local/lib/python3.8/dist-packages (from google-auth<3,>=1.6.3->tensorboard<2.12,>=2.11->tensorflow) (0.2.8)\n",
            "Requirement already satisfied: cachetools<6.0,>=2.0.0 in /usr/local/lib/python3.8/dist-packages (from google-auth<3,>=1.6.3->tensorboard<2.12,>=2.11->tensorflow) (5.3.0)\n",
            "Requirement already satisfied: rsa<5,>=3.1.4 in /usr/local/lib/python3.8/dist-packages (from google-auth<3,>=1.6.3->tensorboard<2.12,>=2.11->tensorflow) (4.9)\n",
            "Requirement already satisfied: requests-oauthlib>=0.7.0 in /usr/local/lib/python3.8/dist-packages (from google-auth-oauthlib<0.5,>=0.4.1->tensorboard<2.12,>=2.11->tensorflow) (1.3.1)\n",
            "Requirement already satisfied: importlib-metadata>=4.4 in /usr/local/lib/python3.8/dist-packages (from markdown>=2.6.8->tensorboard<2.12,>=2.11->tensorflow) (6.0.0)\n",
            "Requirement already satisfied: idna<3,>=2.5 in /usr/local/lib/python3.8/dist-packages (from requests<3,>=2.21.0->tensorboard<2.12,>=2.11->tensorflow) (2.10)\n",
            "Requirement already satisfied: urllib3<1.27,>=1.21.1 in /usr/local/lib/python3.8/dist-packages (from requests<3,>=2.21.0->tensorboard<2.12,>=2.11->tensorflow) (1.26.14)\n",
            "Requirement already satisfied: chardet<5,>=3.0.2 in /usr/local/lib/python3.8/dist-packages (from requests<3,>=2.21.0->tensorboard<2.12,>=2.11->tensorflow) (4.0.0)\n",
            "Requirement already satisfied: certifi>=2017.4.17 in /usr/local/lib/python3.8/dist-packages (from requests<3,>=2.21.0->tensorboard<2.12,>=2.11->tensorflow) (2022.12.7)\n",
            "Requirement already satisfied: MarkupSafe>=2.1.1 in /usr/local/lib/python3.8/dist-packages (from werkzeug>=1.0.1->tensorboard<2.12,>=2.11->tensorflow) (2.1.2)\n",
            "Requirement already satisfied: zipp>=0.5 in /usr/local/lib/python3.8/dist-packages (from importlib-metadata>=4.4->markdown>=2.6.8->tensorboard<2.12,>=2.11->tensorflow) (3.15.0)\n",
            "Requirement already satisfied: pyasn1<0.5.0,>=0.4.6 in /usr/local/lib/python3.8/dist-packages (from pyasn1-modules>=0.2.1->google-auth<3,>=1.6.3->tensorboard<2.12,>=2.11->tensorflow) (0.4.8)\n",
            "Requirement already satisfied: oauthlib>=3.0.0 in /usr/local/lib/python3.8/dist-packages (from requests-oauthlib>=0.7.0->google-auth-oauthlib<0.5,>=0.4.1->tensorboard<2.12,>=2.11->tensorflow) (3.2.2)\n",
            "Looking in indexes: https://pypi.org/simple, https://us-python.pkg.dev/colab-wheels/public/simple/\n",
            "Collecting rl-agents==0.1.1\n",
            "  Downloading rl_agents-0.1.1-py3-none-any.whl (17 kB)\n",
            "Collecting gym<0.18.0,>=0.17.2\n",
            "  Downloading gym-0.17.3.tar.gz (1.6 MB)\n",
            "\u001b[2K     \u001b[90m━━━━━━━━━━━━━━━━━━━━━━━━━━━━━━━━━━━━━━━━\u001b[0m \u001b[32m1.6/1.6 MB\u001b[0m \u001b[31m20.2 MB/s\u001b[0m eta \u001b[36m0:00:00\u001b[0m\n",
            "\u001b[?25h  Preparing metadata (setup.py) ... \u001b[?25l\u001b[?25hdone\n",
            "Requirement already satisfied: numpy<2.0.0,>=1.18.4 in /usr/local/lib/python3.8/dist-packages (from rl-agents==0.1.1) (1.22.4)\n",
            "Requirement already satisfied: tqdm<5.0.0,>=4.46.0 in /usr/local/lib/python3.8/dist-packages (from rl-agents==0.1.1) (4.64.1)\n",
            "Requirement already satisfied: scipy in /usr/local/lib/python3.8/dist-packages (from gym<0.18.0,>=0.17.2->rl-agents==0.1.1) (1.10.1)\n",
            "Collecting pyglet<=1.5.0,>=1.4.0\n",
            "  Downloading pyglet-1.5.0-py2.py3-none-any.whl (1.0 MB)\n",
            "\u001b[2K     \u001b[90m━━━━━━━━━━━━━━━━━━━━━━━━━━━━━━━━━━━━━━━━\u001b[0m \u001b[32m1.0/1.0 MB\u001b[0m \u001b[31m54.0 MB/s\u001b[0m eta \u001b[36m0:00:00\u001b[0m\n",
            "\u001b[?25hCollecting cloudpickle<1.7.0,>=1.2.0\n",
            "  Downloading cloudpickle-1.6.0-py3-none-any.whl (23 kB)\n",
            "Requirement already satisfied: future in /usr/local/lib/python3.8/dist-packages (from pyglet<=1.5.0,>=1.4.0->gym<0.18.0,>=0.17.2->rl-agents==0.1.1) (0.16.0)\n",
            "Building wheels for collected packages: gym\n",
            "  Building wheel for gym (setup.py) ... \u001b[?25l\u001b[?25hdone\n",
            "  Created wheel for gym: filename=gym-0.17.3-py3-none-any.whl size=1654623 sha256=71838b09b101d1e1ca2a9de615c0d628139db04ca21563e396224991d5161b93\n",
            "  Stored in directory: /root/.cache/pip/wheels/84/40/e7/14efb9870cfc92ac236d78cb721dce614ddec9666c8a5e0a35\n",
            "Successfully built gym\n",
            "Installing collected packages: pyglet, cloudpickle, gym, rl-agents\n",
            "  Attempting uninstall: cloudpickle\n",
            "    Found existing installation: cloudpickle 2.2.1\n",
            "    Uninstalling cloudpickle-2.2.1:\n",
            "      Successfully uninstalled cloudpickle-2.2.1\n",
            "  Attempting uninstall: gym\n",
            "    Found existing installation: gym 0.25.2\n",
            "    Uninstalling gym-0.25.2:\n",
            "      Successfully uninstalled gym-0.25.2\n",
            "Successfully installed cloudpickle-1.6.0 gym-0.17.3 pyglet-1.5.0 rl-agents-0.1.1\n"
          ]
        },
        {
          "data": {
            "application/vnd.colab-display-data+json": {
              "pip_warning": {
                "packages": [
                  "cloudpickle",
                  "gym"
                ]
              }
            }
          },
          "metadata": {},
          "output_type": "display_data"
        }
      ],
      "source": [
        "#Install keras rl2 which seamlessly integrates with the  OpenAI Gym  to evaluate and play around with DQN Algorithm\n",
        "!pip install keras-rl2\n",
        "!pip install dopamine-rl\n",
        "#Install Open AI Gym for the Cart Pole Environment\n",
        "\n",
        "\n",
        "!pip install tensorflow --upgrade\n",
        "!pip install rl-agents==0.1.1"
      ]
    },
    {
      "cell_type": "code",
      "execution_count": 17,
      "metadata": {
        "id": "ab9d7358"
      },
      "outputs": [],
      "source": [
        "\n",
        "import matplotlib.pyplot as plt\n",
        "import keras\n",
        "from keras import Sequential\n",
        "from keras.layers import Input, Flatten, Dense\n",
        "import numpy as np\n",
        "import rl\n",
        "from rl.memory import SequentialMemory\n",
        "from rl.agents.dqn import DQNAgent\n",
        "from rl.policy import LinearAnnealedPolicy, EpsGreedyQPolicy\n",
        "\n",
        "from tensorflow.keras.optimizers import Adam\n",
        "\n"
      ]
    },
    {
      "cell_type": "code",
      "execution_count": 18,
      "metadata": {
        "id": "a989c1ca"
      },
      "outputs": [],
      "source": [
        "#Load the CartPole environment from the OpenAI Gym suite\n",
        "env = gym.make(\"CartPole-v1\")"
      ]
    },
    {
      "cell_type": "code",
      "execution_count": 19,
      "metadata": {
        "colab": {
          "base_uri": "https://localhost:8080/"
        },
        "id": "595026ba",
        "outputId": "dc658d0e-00f8-4163-ae86-ad969680fcb8"
      },
      "outputs": [
        {
          "name": "stdout",
          "output_type": "stream",
          "text": [
            "Initial observation: [-0.0452066   0.00965024  0.02155805 -0.01688251]\n"
          ]
        }
      ],
      "source": [
        "initial_observation = env.reset()\n",
        "print(\"Initial observation:\", initial_observation)\n",
        "cumulative_reward = 0\n",
        "done = False"
      ]
    },
    {
      "cell_type": "code",
      "execution_count": 20,
      "metadata": {
        "colab": {
          "base_uri": "https://localhost:8080/"
        },
        "id": "1f6b018e",
        "outputId": "26496b22-af5a-499a-9493-3938d5e4bf27"
      },
      "outputs": [
        {
          "name": "stdout",
          "output_type": "stream",
          "text": [
            "Model: \"sequential\"\n",
            "_________________________________________________________________\n",
            " Layer (type)                Output Shape              Param #   \n",
            "=================================================================\n",
            " flatten (Flatten)           (None, 4)                 0         \n",
            "                                                                 \n",
            " dense (Dense)               (None, 256)               1280      \n",
            "                                                                 \n",
            " dense_1 (Dense)             (None, 128)               32896     \n",
            "                                                                 \n",
            " dense_2 (Dense)             (None, 2)                 258       \n",
            "                                                                 \n",
            "=================================================================\n",
            "Total params: 34,434\n",
            "Trainable params: 34,434\n",
            "Non-trainable params: 0\n",
            "_________________________________________________________________\n",
            "None\n"
          ]
        },
        {
          "name": "stderr",
          "output_type": "stream",
          "text": [
            "WARNING:tensorflow:From /usr/local/lib/python3.8/dist-packages/tensorflow/python/autograph/pyct/static_analysis/liveness.py:83: Analyzer.lamba_check (from tensorflow.python.autograph.pyct.static_analysis.liveness) is deprecated and will be removed after 2023-09-23.\n",
            "Instructions for updating:\n",
            "Lambda fuctions will be no more assumed to be used in the statement where they are used, or at least in the same block. https://github.com/tensorflow/tensorflow/issues/56089\n"
          ]
        }
      ],
      "source": [
        "#Building DQN Agent with Keras-RL\n",
        "# setup experience replay buffer\n",
        "memory = SequentialMemory(limit=50000, window_length=1)\n",
        "\n",
        "# setup the Linear annealed policy with the EpsGreedyQPolicy as the inner policy\n",
        "policy =  LinearAnnealedPolicy(inner_policy=  EpsGreedyQPolicy(),   # policy used to select actions\n",
        "                               attr='eps',                          # attribute in the inner policy to vary             \n",
        "                               value_max=1.0,                       # maximum value of attribute that is varying\n",
        "                               value_min=0.1,                       # minimum value of attribute that is varying\n",
        "                               value_test=0.05,                     # test if the value selected is < 0.05\n",
        "                               nb_steps=10000)                      # the number of steps between value_max and value_min\n",
        "\n",
        "#Feed-Forward Neural Network Model for Deep Q Learning (DQN)\n",
        "model = Sequential()\n",
        "#print(env.observation_space)\n",
        "#Input is 1 observation vector, and the number of observations in that vector \n",
        "model.add(Input(shape=(1,env.observation_space.shape[0])))\n",
        "model.add(Flatten())\n",
        "#Hidden layers with 24 nodes each\n",
        "model.add(Dense(256, activation='relu'))\n",
        "model.add(Dense(128, activation='relu'))\n",
        "#Output is the number of actions in the action space\n",
        "model.add(Dense(env.action_space.n, activation='linear')) \n",
        "\n",
        "\n",
        "#Feed-Forward Neural Network Architecture Summary\n",
        "print(model.summary())\n",
        "\n",
        "#Defining DQN Agent for DQN Model\n",
        "dqn = DQNAgent(model=model,                     # Q-Network model\n",
        "               nb_actions=env.action_space.n,   # number of actions\n",
        "               memory=memory,                   # experience replay memory\n",
        "               nb_steps_warmup=25,              # how many steps are waited before starting experience replay\n",
        "               target_model_update=1e-2,        # how often the target network is updated\n",
        "               policy=policy,                   # the action selection policy\n",
        "              enable_dueling_network=True)                   \n",
        "\n",
        "# Configure and compile agent. \n",
        "#Use built-in tensorflow.keras Adam optimizer and evaluation metrics            \n",
        "#Adam._name = 'Adam'\n",
        "dqn.compile(keras.optimizers.Adam(learning_rate=2.5e-4,epsilon = 0.01), metrics = [\"mse\",'accuracy'])\n",
        "\n",
        "\n",
        "\n",
        "     "
      ]
    },
    {
      "cell_type": "code",
      "execution_count": 21,
      "metadata": {
        "colab": {
          "base_uri": "https://localhost:8080/"
        },
        "id": "2a2ff3b9",
        "outputId": "f95e9a72-6a05-4716-f0c9-ad33f0583afd"
      },
      "outputs": [
        {
          "name": "stdout",
          "output_type": "stream",
          "text": [
            "Training for 5000 steps ...\n"
          ]
        },
        {
          "name": "stderr",
          "output_type": "stream",
          "text": [
            "/usr/local/lib/python3.8/dist-packages/keras/engine/training_v1.py:2357: UserWarning: `Model.state_updates` will be removed in a future version. This property should not be used in TensorFlow 2.0, as `updates` are applied automatically.\n",
            "  updates=self.state_updates,\n"
          ]
        },
        {
          "name": "stdout",
          "output_type": "stream",
          "text": [
            "   16/5000: episode: 1, duration: 0.366s, episode steps:  16, steps per second:  44, episode reward: 16.000, mean reward:  1.000 [ 1.000,  1.000], mean action: 0.312 [0.000, 1.000],  loss: --, mse: --, accuracy: --, mean_q: --, mean_eps: --\n"
          ]
        },
        {
          "name": "stderr",
          "output_type": "stream",
          "text": [
            "/usr/local/lib/python3.8/dist-packages/rl/memory.py:37: UserWarning: Not enough entries to sample without replacement. Consider increasing your warm-up phase to avoid oversampling!\n",
            "  warnings.warn('Not enough entries to sample without replacement. Consider increasing your warm-up phase to avoid oversampling!')\n",
            "/usr/local/lib/python3.8/dist-packages/rl/memory.py:38: DeprecationWarning: This function is deprecated. Please call randint(1, 26 + 1) instead\n",
            "  batch_idxs = np.random.random_integers(low, high - 1, size=size)\n",
            "/usr/local/lib/python3.8/dist-packages/keras/engine/training_v1.py:2357: UserWarning: `Model.state_updates` will be removed in a future version. This property should not be used in TensorFlow 2.0, as `updates` are applied automatically.\n",
            "  updates=self.state_updates,\n",
            "/usr/local/lib/python3.8/dist-packages/rl/memory.py:38: DeprecationWarning: This function is deprecated. Please call randint(1, 27 + 1) instead\n",
            "  batch_idxs = np.random.random_integers(low, high - 1, size=size)\n",
            "/usr/local/lib/python3.8/dist-packages/rl/memory.py:38: DeprecationWarning: This function is deprecated. Please call randint(1, 28 + 1) instead\n",
            "  batch_idxs = np.random.random_integers(low, high - 1, size=size)\n",
            "/usr/local/lib/python3.8/dist-packages/rl/memory.py:38: DeprecationWarning: This function is deprecated. Please call randint(1, 29 + 1) instead\n",
            "  batch_idxs = np.random.random_integers(low, high - 1, size=size)\n",
            "/usr/local/lib/python3.8/dist-packages/rl/memory.py:38: DeprecationWarning: This function is deprecated. Please call randint(1, 30 + 1) instead\n",
            "  batch_idxs = np.random.random_integers(low, high - 1, size=size)\n",
            "/usr/local/lib/python3.8/dist-packages/rl/memory.py:38: DeprecationWarning: This function is deprecated. Please call randint(1, 31 + 1) instead\n",
            "  batch_idxs = np.random.random_integers(low, high - 1, size=size)\n"
          ]
        },
        {
          "name": "stdout",
          "output_type": "stream",
          "text": [
            "   35/5000: episode: 2, duration: 4.552s, episode steps:  19, steps per second:   4, episode reward: 19.000, mean reward:  1.000 [ 1.000,  1.000], mean action: 0.579 [0.000, 1.000],  loss: 0.515905, mse: 0.516797, accuracy: 0.368056, mean_q: 0.037459, mean_eps: 0.997300\n",
            "   63/5000: episode: 3, duration: 0.582s, episode steps:  28, steps per second:  48, episode reward: 28.000, mean reward:  1.000 [ 1.000,  1.000], mean action: 0.429 [0.000, 1.000],  loss: 0.461850, mse: 0.466660, accuracy: 0.505580, mean_q: 0.093473, mean_eps: 0.995635\n",
            "   97/5000: episode: 4, duration: 0.850s, episode steps:  34, steps per second:  40, episode reward: 34.000, mean reward:  1.000 [ 1.000,  1.000], mean action: 0.353 [0.000, 1.000],  loss: 0.385761, mse: 0.409618, accuracy: 0.506434, mean_q: 0.204167, mean_eps: 0.992845\n",
            "  109/5000: episode: 5, duration: 0.286s, episode steps:  12, steps per second:  42, episode reward: 12.000, mean reward:  1.000 [ 1.000,  1.000], mean action: 0.333 [0.000, 1.000],  loss: 0.336426, mse: 0.396669, accuracy: 0.500000, mean_q: 0.318293, mean_eps: 0.990775\n",
            "  118/5000: episode: 6, duration: 0.325s, episode steps:   9, steps per second:  28, episode reward:  9.000, mean reward:  1.000 [ 1.000,  1.000], mean action: 0.889 [0.000, 1.000],  loss: 0.310048, mse: 0.394344, accuracy: 0.534722, mean_q: 0.377514, mean_eps: 0.989830\n",
            "  133/5000: episode: 7, duration: 0.442s, episode steps:  15, steps per second:  34, episode reward: 15.000, mean reward:  1.000 [ 1.000,  1.000], mean action: 0.333 [0.000, 1.000],  loss: 0.297723, mse: 0.405079, accuracy: 0.527083, mean_q: 0.429407, mean_eps: 0.988750\n",
            "  146/5000: episode: 8, duration: 0.666s, episode steps:  13, steps per second:  20, episode reward: 13.000, mean reward:  1.000 [ 1.000,  1.000], mean action: 0.308 [0.000, 1.000],  loss: 0.275215, mse: 0.420173, accuracy: 0.562500, mean_q: 0.502936, mean_eps: 0.987490\n",
            "  158/5000: episode: 9, duration: 0.451s, episode steps:  12, steps per second:  27, episode reward: 12.000, mean reward:  1.000 [ 1.000,  1.000], mean action: 0.250 [0.000, 1.000],  loss: 0.243007, mse: 0.449773, accuracy: 0.606771, mean_q: 0.606367, mean_eps: 0.986365\n",
            "  178/5000: episode: 10, duration: 0.873s, episode steps:  20, steps per second:  23, episode reward: 20.000, mean reward:  1.000 [ 1.000,  1.000], mean action: 0.600 [0.000, 1.000],  loss: 0.231118, mse: 0.497916, accuracy: 0.564063, mean_q: 0.704351, mean_eps: 0.984925\n",
            "  218/5000: episode: 11, duration: 2.082s, episode steps:  40, steps per second:  19, episode reward: 40.000, mean reward:  1.000 [ 1.000,  1.000], mean action: 0.525 [0.000, 1.000],  loss: 0.207763, mse: 0.592171, accuracy: 0.563281, mean_q: 0.863815, mean_eps: 0.982225\n",
            "  242/5000: episode: 12, duration: 1.410s, episode steps:  24, steps per second:  17, episode reward: 24.000, mean reward:  1.000 [ 1.000,  1.000], mean action: 0.625 [0.000, 1.000],  loss: 0.192673, mse: 0.767017, accuracy: 0.523438, mean_q: 1.068606, mean_eps: 0.979345\n",
            "  255/5000: episode: 13, duration: 0.635s, episode steps:  13, steps per second:  20, episode reward: 13.000, mean reward:  1.000 [ 1.000,  1.000], mean action: 0.385 [0.000, 1.000],  loss: 0.197859, mse: 0.932835, accuracy: 0.524038, mean_q: 1.196817, mean_eps: 0.977680\n",
            "  290/5000: episode: 14, duration: 1.845s, episode steps:  35, steps per second:  19, episode reward: 35.000, mean reward:  1.000 [ 1.000,  1.000], mean action: 0.429 [0.000, 1.000],  loss: 0.181366, mse: 1.102916, accuracy: 0.549107, mean_q: 1.368889, mean_eps: 0.975520\n",
            "  301/5000: episode: 15, duration: 0.444s, episode steps:  11, steps per second:  25, episode reward: 11.000, mean reward:  1.000 [ 1.000,  1.000], mean action: 0.909 [0.000, 1.000],  loss: 0.190076, mse: 1.351773, accuracy: 0.531250, mean_q: 1.540975, mean_eps: 0.973450\n",
            "  321/5000: episode: 16, duration: 0.436s, episode steps:  20, steps per second:  46, episode reward: 20.000, mean reward:  1.000 [ 1.000,  1.000], mean action: 0.400 [0.000, 1.000],  loss: 0.184121, mse: 1.461849, accuracy: 0.575000, mean_q: 1.625306, mean_eps: 0.972055\n",
            "  332/5000: episode: 17, duration: 0.423s, episode steps:  11, steps per second:  26, episode reward: 11.000, mean reward:  1.000 [ 1.000,  1.000], mean action: 0.273 [0.000, 1.000],  loss: 0.181144, mse: 1.637278, accuracy: 0.559659, mean_q: 1.751648, mean_eps: 0.970660\n",
            "  361/5000: episode: 18, duration: 0.964s, episode steps:  29, steps per second:  30, episode reward: 29.000, mean reward:  1.000 [ 1.000,  1.000], mean action: 0.448 [0.000, 1.000],  loss: 0.173666, mse: 2.024043, accuracy: 0.568966, mean_q: 1.969268, mean_eps: 0.968860\n",
            "  379/5000: episode: 19, duration: 0.558s, episode steps:  18, steps per second:  32, episode reward: 18.000, mean reward:  1.000 [ 1.000,  1.000], mean action: 0.389 [0.000, 1.000],  loss: 0.198311, mse: 2.399949, accuracy: 0.527778, mean_q: 2.175701, mean_eps: 0.966745\n",
            "  398/5000: episode: 20, duration: 0.464s, episode steps:  19, steps per second:  41, episode reward: 19.000, mean reward:  1.000 [ 1.000,  1.000], mean action: 0.737 [0.000, 1.000],  loss: 0.213853, mse: 2.630677, accuracy: 0.552632, mean_q: 2.300847, mean_eps: 0.965080\n",
            "  412/5000: episode: 21, duration: 0.478s, episode steps:  14, steps per second:  29, episode reward: 14.000, mean reward:  1.000 [ 1.000,  1.000], mean action: 0.714 [0.000, 1.000],  loss: 0.232025, mse: 3.022034, accuracy: 0.546875, mean_q: 2.460097, mean_eps: 0.963595\n",
            "  426/5000: episode: 22, duration: 0.288s, episode steps:  14, steps per second:  49, episode reward: 14.000, mean reward:  1.000 [ 1.000,  1.000], mean action: 0.214 [0.000, 1.000],  loss: 0.238881, mse: 3.250115, accuracy: 0.551339, mean_q: 2.537207, mean_eps: 0.962335\n",
            "  450/5000: episode: 23, duration: 0.303s, episode steps:  24, steps per second:  79, episode reward: 24.000, mean reward:  1.000 [ 1.000,  1.000], mean action: 0.667 [0.000, 1.000],  loss: 0.303292, mse: 3.825696, accuracy: 0.559896, mean_q: 2.738268, mean_eps: 0.960625\n",
            "  462/5000: episode: 24, duration: 0.152s, episode steps:  12, steps per second:  79, episode reward: 12.000, mean reward:  1.000 [ 1.000,  1.000], mean action: 0.417 [0.000, 1.000],  loss: 0.285127, mse: 4.007649, accuracy: 0.580729, mean_q: 2.837279, mean_eps: 0.959005\n",
            "  474/5000: episode: 25, duration: 0.185s, episode steps:  12, steps per second:  65, episode reward: 12.000, mean reward:  1.000 [ 1.000,  1.000], mean action: 0.750 [0.000, 1.000],  loss: 0.432835, mse: 4.484476, accuracy: 0.572917, mean_q: 2.969258, mean_eps: 0.957925\n",
            "  496/5000: episode: 26, duration: 0.290s, episode steps:  22, steps per second:  76, episode reward: 22.000, mean reward:  1.000 [ 1.000,  1.000], mean action: 0.591 [0.000, 1.000],  loss: 0.248125, mse: 4.614122, accuracy: 0.562500, mean_q: 3.077735, mean_eps: 0.956395\n",
            "  508/5000: episode: 27, duration: 0.156s, episode steps:  12, steps per second:  77, episode reward: 12.000, mean reward:  1.000 [ 1.000,  1.000], mean action: 0.250 [0.000, 1.000],  loss: 0.283884, mse: 5.324668, accuracy: 0.531250, mean_q: 3.298847, mean_eps: 0.954865\n",
            "  523/5000: episode: 28, duration: 0.199s, episode steps:  15, steps per second:  75, episode reward: 15.000, mean reward:  1.000 [ 1.000,  1.000], mean action: 0.667 [0.000, 1.000],  loss: 0.455504, mse: 5.837470, accuracy: 0.583333, mean_q: 3.438424, mean_eps: 0.953650\n",
            "  540/5000: episode: 29, duration: 0.217s, episode steps:  17, steps per second:  78, episode reward: 17.000, mean reward:  1.000 [ 1.000,  1.000], mean action: 0.353 [0.000, 1.000],  loss: 0.427625, mse: 5.829657, accuracy: 0.575368, mean_q: 3.447035, mean_eps: 0.952210\n",
            "  579/5000: episode: 30, duration: 0.538s, episode steps:  39, steps per second:  72, episode reward: 39.000, mean reward:  1.000 [ 1.000,  1.000], mean action: 0.513 [0.000, 1.000],  loss: 0.428198, mse: 6.572458, accuracy: 0.559295, mean_q: 3.658032, mean_eps: 0.949690\n",
            "  606/5000: episode: 31, duration: 0.394s, episode steps:  27, steps per second:  69, episode reward: 27.000, mean reward:  1.000 [ 1.000,  1.000], mean action: 0.519 [0.000, 1.000],  loss: 0.403326, mse: 7.346183, accuracy: 0.578704, mean_q: 3.900829, mean_eps: 0.946720\n",
            "  641/5000: episode: 32, duration: 0.463s, episode steps:  35, steps per second:  76, episode reward: 35.000, mean reward:  1.000 [ 1.000,  1.000], mean action: 0.543 [0.000, 1.000],  loss: 0.431838, mse: 8.309483, accuracy: 0.533929, mean_q: 4.145388, mean_eps: 0.943930\n",
            "  669/5000: episode: 33, duration: 0.388s, episode steps:  28, steps per second:  72, episode reward: 28.000, mean reward:  1.000 [ 1.000,  1.000], mean action: 0.357 [0.000, 1.000],  loss: 0.457035, mse: 9.453523, accuracy: 0.541295, mean_q: 4.411656, mean_eps: 0.941095\n",
            "  687/5000: episode: 34, duration: 0.245s, episode steps:  18, steps per second:  74, episode reward: 18.000, mean reward:  1.000 [ 1.000,  1.000], mean action: 0.444 [0.000, 1.000],  loss: 0.487023, mse: 10.320202, accuracy: 0.564236, mean_q: 4.619168, mean_eps: 0.939025\n",
            "  706/5000: episode: 35, duration: 0.256s, episode steps:  19, steps per second:  74, episode reward: 19.000, mean reward:  1.000 [ 1.000,  1.000], mean action: 0.421 [0.000, 1.000],  loss: 0.516173, mse: 10.663775, accuracy: 0.592105, mean_q: 4.666945, mean_eps: 0.937360\n",
            "  717/5000: episode: 36, duration: 0.156s, episode steps:  11, steps per second:  70, episode reward: 11.000, mean reward:  1.000 [ 1.000,  1.000], mean action: 0.273 [0.000, 1.000],  loss: 0.540859, mse: 11.360974, accuracy: 0.568182, mean_q: 4.794501, mean_eps: 0.936010\n",
            "  742/5000: episode: 37, duration: 0.367s, episode steps:  25, steps per second:  68, episode reward: 25.000, mean reward:  1.000 [ 1.000,  1.000], mean action: 0.480 [0.000, 1.000],  loss: 0.564706, mse: 12.240735, accuracy: 0.540000, mean_q: 4.980508, mean_eps: 0.934390\n",
            "  774/5000: episode: 38, duration: 0.413s, episode steps:  32, steps per second:  77, episode reward: 32.000, mean reward:  1.000 [ 1.000,  1.000], mean action: 0.500 [0.000, 1.000],  loss: 0.534861, mse: 13.081097, accuracy: 0.531250, mean_q: 5.152284, mean_eps: 0.931825\n",
            "  792/5000: episode: 39, duration: 0.235s, episode steps:  18, steps per second:  76, episode reward: 18.000, mean reward:  1.000 [ 1.000,  1.000], mean action: 0.611 [0.000, 1.000],  loss: 0.530471, mse: 14.102883, accuracy: 0.560764, mean_q: 5.303102, mean_eps: 0.929575\n",
            "  804/5000: episode: 40, duration: 0.164s, episode steps:  12, steps per second:  73, episode reward: 12.000, mean reward:  1.000 [ 1.000,  1.000], mean action: 0.250 [0.000, 1.000],  loss: 0.471627, mse: 14.876169, accuracy: 0.541667, mean_q: 5.452709, mean_eps: 0.928225\n",
            "  820/5000: episode: 41, duration: 0.216s, episode steps:  16, steps per second:  74, episode reward: 16.000, mean reward:  1.000 [ 1.000,  1.000], mean action: 0.250 [0.000, 1.000],  loss: 0.767300, mse: 15.429246, accuracy: 0.539062, mean_q: 5.500453, mean_eps: 0.926965\n",
            "  843/5000: episode: 42, duration: 0.301s, episode steps:  23, steps per second:  76, episode reward: 23.000, mean reward:  1.000 [ 1.000,  1.000], mean action: 0.565 [0.000, 1.000],  loss: 0.678746, mse: 15.641551, accuracy: 0.539402, mean_q: 5.606848, mean_eps: 0.925210\n",
            "  858/5000: episode: 43, duration: 0.201s, episode steps:  15, steps per second:  75, episode reward: 15.000, mean reward:  1.000 [ 1.000,  1.000], mean action: 0.400 [0.000, 1.000],  loss: 0.571212, mse: 16.513047, accuracy: 0.543750, mean_q: 5.799095, mean_eps: 0.923500\n",
            "  905/5000: episode: 44, duration: 0.637s, episode steps:  47, steps per second:  74, episode reward: 47.000, mean reward:  1.000 [ 1.000,  1.000], mean action: 0.447 [0.000, 1.000],  loss: 0.640456, mse: 17.862539, accuracy: 0.531915, mean_q: 5.967965, mean_eps: 0.920710\n",
            "  924/5000: episode: 45, duration: 0.252s, episode steps:  19, steps per second:  75, episode reward: 19.000, mean reward:  1.000 [ 1.000,  1.000], mean action: 0.526 [0.000, 1.000],  loss: 0.837630, mse: 18.887009, accuracy: 0.536184, mean_q: 6.055533, mean_eps: 0.917740\n",
            "  950/5000: episode: 46, duration: 0.507s, episode steps:  26, steps per second:  51, episode reward: 26.000, mean reward:  1.000 [ 1.000,  1.000], mean action: 0.500 [0.000, 1.000],  loss: 0.706415, mse: 19.462506, accuracy: 0.516827, mean_q: 6.153590, mean_eps: 0.915715\n",
            "  965/5000: episode: 47, duration: 0.303s, episode steps:  15, steps per second:  50, episode reward: 15.000, mean reward:  1.000 [ 1.000,  1.000], mean action: 0.733 [0.000, 1.000],  loss: 0.656099, mse: 21.218259, accuracy: 0.525000, mean_q: 6.474216, mean_eps: 0.913870\n",
            "  985/5000: episode: 48, duration: 0.407s, episode steps:  20, steps per second:  49, episode reward: 20.000, mean reward:  1.000 [ 1.000,  1.000], mean action: 0.350 [0.000, 1.000],  loss: 0.632491, mse: 21.439831, accuracy: 0.504687, mean_q: 6.557230, mean_eps: 0.912295\n",
            " 1004/5000: episode: 49, duration: 0.371s, episode steps:  19, steps per second:  51, episode reward: 19.000, mean reward:  1.000 [ 1.000,  1.000], mean action: 0.474 [0.000, 1.000],  loss: 0.743805, mse: 21.952652, accuracy: 0.547697, mean_q: 6.652931, mean_eps: 0.910540\n",
            " 1027/5000: episode: 50, duration: 0.458s, episode steps:  23, steps per second:  50, episode reward: 23.000, mean reward:  1.000 [ 1.000,  1.000], mean action: 0.435 [0.000, 1.000],  loss: 0.666227, mse: 23.111852, accuracy: 0.531250, mean_q: 6.798680, mean_eps: 0.908650\n",
            " 1038/5000: episode: 51, duration: 0.237s, episode steps:  11, steps per second:  46, episode reward: 11.000, mean reward:  1.000 [ 1.000,  1.000], mean action: 0.727 [0.000, 1.000],  loss: 0.772776, mse: 24.342360, accuracy: 0.505682, mean_q: 6.957609, mean_eps: 0.907120\n",
            " 1060/5000: episode: 52, duration: 0.458s, episode steps:  22, steps per second:  48, episode reward: 22.000, mean reward:  1.000 [ 1.000,  1.000], mean action: 0.455 [0.000, 1.000],  loss: 0.715333, mse: 24.559611, accuracy: 0.492898, mean_q: 6.987729, mean_eps: 0.905635\n",
            " 1086/5000: episode: 53, duration: 0.530s, episode steps:  26, steps per second:  49, episode reward: 26.000, mean reward:  1.000 [ 1.000,  1.000], mean action: 0.385 [0.000, 1.000],  loss: 0.602319, mse: 25.834000, accuracy: 0.475962, mean_q: 7.184459, mean_eps: 0.903475\n",
            " 1129/5000: episode: 54, duration: 0.817s, episode steps:  43, steps per second:  53, episode reward: 43.000, mean reward:  1.000 [ 1.000,  1.000], mean action: 0.442 [0.000, 1.000],  loss: 0.863717, mse: 27.582194, accuracy: 0.506541, mean_q: 7.403398, mean_eps: 0.900370\n",
            " 1173/5000: episode: 55, duration: 0.875s, episode steps:  44, steps per second:  50, episode reward: 44.000, mean reward:  1.000 [ 1.000,  1.000], mean action: 0.591 [0.000, 1.000],  loss: 0.862130, mse: 29.317551, accuracy: 0.483665, mean_q: 7.652254, mean_eps: 0.896455\n",
            " 1195/5000: episode: 56, duration: 0.486s, episode steps:  22, steps per second:  45, episode reward: 22.000, mean reward:  1.000 [ 1.000,  1.000], mean action: 0.455 [0.000, 1.000],  loss: 0.652604, mse: 31.084614, accuracy: 0.504261, mean_q: 7.934891, mean_eps: 0.893485\n",
            " 1225/5000: episode: 57, duration: 0.649s, episode steps:  30, steps per second:  46, episode reward: 30.000, mean reward:  1.000 [ 1.000,  1.000], mean action: 0.533 [0.000, 1.000],  loss: 0.708230, mse: 32.709931, accuracy: 0.503125, mean_q: 8.139964, mean_eps: 0.891145\n",
            " 1241/5000: episode: 58, duration: 0.335s, episode steps:  16, steps per second:  48, episode reward: 16.000, mean reward:  1.000 [ 1.000,  1.000], mean action: 0.438 [0.000, 1.000],  loss: 0.596581, mse: 34.973869, accuracy: 0.476562, mean_q: 8.441553, mean_eps: 0.889075\n",
            " 1253/5000: episode: 59, duration: 0.223s, episode steps:  12, steps per second:  54, episode reward: 12.000, mean reward:  1.000 [ 1.000,  1.000], mean action: 0.250 [0.000, 1.000],  loss: 0.878838, mse: 35.159722, accuracy: 0.494792, mean_q: 8.434943, mean_eps: 0.887815\n",
            " 1278/5000: episode: 60, duration: 0.318s, episode steps:  25, steps per second:  79, episode reward: 25.000, mean reward:  1.000 [ 1.000,  1.000], mean action: 0.360 [0.000, 1.000],  loss: 1.123286, mse: 35.647722, accuracy: 0.477500, mean_q: 8.467070, mean_eps: 0.886150\n",
            " 1295/5000: episode: 61, duration: 0.231s, episode steps:  17, steps per second:  74, episode reward: 17.000, mean reward:  1.000 [ 1.000,  1.000], mean action: 0.471 [0.000, 1.000],  loss: 0.756627, mse: 37.839092, accuracy: 0.487132, mean_q: 8.784282, mean_eps: 0.884260\n",
            " 1320/5000: episode: 62, duration: 0.321s, episode steps:  25, steps per second:  78, episode reward: 25.000, mean reward:  1.000 [ 1.000,  1.000], mean action: 0.520 [0.000, 1.000],  loss: 0.968768, mse: 38.753453, accuracy: 0.461250, mean_q: 8.845660, mean_eps: 0.882370\n",
            " 1333/5000: episode: 63, duration: 0.173s, episode steps:  13, steps per second:  75, episode reward: 13.000, mean reward:  1.000 [ 1.000,  1.000], mean action: 0.385 [0.000, 1.000],  loss: 0.902065, mse: 41.205426, accuracy: 0.519231, mean_q: 9.173557, mean_eps: 0.880660\n",
            " 1345/5000: episode: 64, duration: 0.206s, episode steps:  12, steps per second:  58, episode reward: 12.000, mean reward:  1.000 [ 1.000,  1.000], mean action: 0.417 [0.000, 1.000],  loss: 1.065553, mse: 40.496583, accuracy: 0.520833, mean_q: 9.087601, mean_eps: 0.879535\n",
            " 1387/5000: episode: 65, duration: 0.531s, episode steps:  42, steps per second:  79, episode reward: 42.000, mean reward:  1.000 [ 1.000,  1.000], mean action: 0.476 [0.000, 1.000],  loss: 0.824397, mse: 42.988017, accuracy: 0.494792, mean_q: 9.351138, mean_eps: 0.877105\n",
            " 1400/5000: episode: 66, duration: 0.162s, episode steps:  13, steps per second:  80, episode reward: 13.000, mean reward:  1.000 [ 1.000,  1.000], mean action: 0.385 [0.000, 1.000],  loss: 1.014887, mse: 45.578580, accuracy: 0.487981, mean_q: 9.620276, mean_eps: 0.874630\n",
            " 1427/5000: episode: 67, duration: 0.356s, episode steps:  27, steps per second:  76, episode reward: 27.000, mean reward:  1.000 [ 1.000,  1.000], mean action: 0.519 [0.000, 1.000],  loss: 1.116340, mse: 45.566556, accuracy: 0.449074, mean_q: 9.584606, mean_eps: 0.872830\n",
            " 1444/5000: episode: 68, duration: 0.221s, episode steps:  17, steps per second:  77, episode reward: 17.000, mean reward:  1.000 [ 1.000,  1.000], mean action: 0.588 [0.000, 1.000],  loss: 0.738829, mse: 49.431123, accuracy: 0.498162, mean_q: 10.041312, mean_eps: 0.870850\n",
            " 1459/5000: episode: 69, duration: 0.201s, episode steps:  15, steps per second:  75, episode reward: 15.000, mean reward:  1.000 [ 1.000,  1.000], mean action: 0.600 [0.000, 1.000],  loss: 1.042132, mse: 49.424235, accuracy: 0.472917, mean_q: 9.994218, mean_eps: 0.869410\n",
            " 1488/5000: episode: 70, duration: 0.381s, episode steps:  29, steps per second:  76, episode reward: 29.000, mean reward:  1.000 [ 1.000,  1.000], mean action: 0.379 [0.000, 1.000],  loss: 1.269131, mse: 50.205127, accuracy: 0.475216, mean_q: 10.078801, mean_eps: 0.867430\n",
            " 1538/5000: episode: 71, duration: 0.641s, episode steps:  50, steps per second:  78, episode reward: 50.000, mean reward:  1.000 [ 1.000,  1.000], mean action: 0.540 [0.000, 1.000],  loss: 1.309468, mse: 52.229688, accuracy: 0.486250, mean_q: 10.289777, mean_eps: 0.863875\n",
            " 1566/5000: episode: 72, duration: 0.372s, episode steps:  28, steps per second:  75, episode reward: 28.000, mean reward:  1.000 [ 1.000,  1.000], mean action: 0.571 [0.000, 1.000],  loss: 1.384803, mse: 55.474209, accuracy: 0.455357, mean_q: 10.607022, mean_eps: 0.860365\n",
            " 1644/5000: episode: 73, duration: 0.990s, episode steps:  78, steps per second:  79, episode reward: 78.000, mean reward:  1.000 [ 1.000,  1.000], mean action: 0.487 [0.000, 1.000],  loss: 1.310283, mse: 59.294620, accuracy: 0.488782, mean_q: 10.976451, mean_eps: 0.855595\n",
            " 1659/5000: episode: 74, duration: 0.191s, episode steps:  15, steps per second:  79, episode reward: 15.000, mean reward:  1.000 [ 1.000,  1.000], mean action: 0.733 [0.000, 1.000],  loss: 1.163836, mse: 63.897990, accuracy: 0.537500, mean_q: 11.429363, mean_eps: 0.851410\n",
            " 1683/5000: episode: 75, duration: 0.311s, episode steps:  24, steps per second:  77, episode reward: 24.000, mean reward:  1.000 [ 1.000,  1.000], mean action: 0.500 [0.000, 1.000],  loss: 1.466514, mse: 64.779074, accuracy: 0.506510, mean_q: 11.471788, mean_eps: 0.849655\n",
            " 1721/5000: episode: 76, duration: 0.496s, episode steps:  38, steps per second:  77, episode reward: 38.000, mean reward:  1.000 [ 1.000,  1.000], mean action: 0.500 [0.000, 1.000],  loss: 1.225772, mse: 68.611891, accuracy: 0.489309, mean_q: 11.820487, mean_eps: 0.846865\n",
            " 1742/5000: episode: 77, duration: 0.280s, episode steps:  21, steps per second:  75, episode reward: 21.000, mean reward:  1.000 [ 1.000,  1.000], mean action: 0.571 [0.000, 1.000],  loss: 1.590704, mse: 70.110386, accuracy: 0.511905, mean_q: 11.998623, mean_eps: 0.844210\n",
            " 1802/5000: episode: 78, duration: 0.746s, episode steps:  60, steps per second:  80, episode reward: 60.000, mean reward:  1.000 [ 1.000,  1.000], mean action: 0.433 [0.000, 1.000],  loss: 1.506146, mse: 73.034991, accuracy: 0.502604, mean_q: 12.244126, mean_eps: 0.840565\n",
            " 1853/5000: episode: 79, duration: 0.652s, episode steps:  51, steps per second:  78, episode reward: 51.000, mean reward:  1.000 [ 1.000,  1.000], mean action: 0.627 [0.000, 1.000],  loss: 1.535620, mse: 78.007744, accuracy: 0.517157, mean_q: 12.681372, mean_eps: 0.835570\n",
            " 1898/5000: episode: 80, duration: 0.578s, episode steps:  45, steps per second:  78, episode reward: 45.000, mean reward:  1.000 [ 1.000,  1.000], mean action: 0.511 [0.000, 1.000],  loss: 1.501735, mse: 83.072645, accuracy: 0.492361, mean_q: 13.045246, mean_eps: 0.831250\n",
            " 1940/5000: episode: 81, duration: 0.537s, episode steps:  42, steps per second:  78, episode reward: 42.000, mean reward:  1.000 [ 1.000,  1.000], mean action: 0.500 [0.000, 1.000],  loss: 1.531851, mse: 87.782906, accuracy: 0.484375, mean_q: 13.423420, mean_eps: 0.827335\n",
            " 2021/5000: episode: 82, duration: 1.023s, episode steps:  81, steps per second:  79, episode reward: 81.000, mean reward:  1.000 [ 1.000,  1.000], mean action: 0.531 [0.000, 1.000],  loss: 1.863698, mse: 94.106155, accuracy: 0.516204, mean_q: 13.917769, mean_eps: 0.821800\n",
            " 2073/5000: episode: 83, duration: 0.997s, episode steps:  52, steps per second:  52, episode reward: 52.000, mean reward:  1.000 [ 1.000,  1.000], mean action: 0.442 [0.000, 1.000],  loss: 1.779544, mse: 101.131438, accuracy: 0.531250, mean_q: 14.427848, mean_eps: 0.815815\n",
            " 2108/5000: episode: 84, duration: 0.695s, episode steps:  35, steps per second:  50, episode reward: 35.000, mean reward:  1.000 [ 1.000,  1.000], mean action: 0.486 [0.000, 1.000],  loss: 1.443090, mse: 107.396278, accuracy: 0.522321, mean_q: 14.869482, mean_eps: 0.811900\n",
            " 2170/5000: episode: 85, duration: 1.174s, episode steps:  62, steps per second:  53, episode reward: 62.000, mean reward:  1.000 [ 1.000,  1.000], mean action: 0.516 [0.000, 1.000],  loss: 2.078516, mse: 110.971808, accuracy: 0.523690, mean_q: 15.106862, mean_eps: 0.807535\n",
            " 2206/5000: episode: 86, duration: 0.728s, episode steps:  36, steps per second:  49, episode reward: 36.000, mean reward:  1.000 [ 1.000,  1.000], mean action: 0.528 [0.000, 1.000],  loss: 2.651312, mse: 115.067358, accuracy: 0.531250, mean_q: 15.371206, mean_eps: 0.803125\n",
            " 2250/5000: episode: 87, duration: 0.875s, episode steps:  44, steps per second:  50, episode reward: 44.000, mean reward:  1.000 [ 1.000,  1.000], mean action: 0.523 [0.000, 1.000],  loss: 1.620031, mse: 122.080163, accuracy: 0.530540, mean_q: 15.928561, mean_eps: 0.799525\n",
            " 2325/5000: episode: 88, duration: 1.456s, episode steps:  75, steps per second:  52, episode reward: 75.000, mean reward:  1.000 [ 1.000,  1.000], mean action: 0.467 [0.000, 1.000],  loss: 1.878260, mse: 127.935681, accuracy: 0.529167, mean_q: 16.318416, mean_eps: 0.794170\n",
            " 2335/5000: episode: 89, duration: 0.207s, episode steps:  10, steps per second:  48, episode reward: 10.000, mean reward:  1.000 [ 1.000,  1.000], mean action: 0.900 [0.000, 1.000],  loss: 3.005104, mse: 132.966719, accuracy: 0.503125, mean_q: 16.561501, mean_eps: 0.790345\n",
            " 2357/5000: episode: 90, duration: 0.357s, episode steps:  22, steps per second:  62, episode reward: 22.000, mean reward:  1.000 [ 1.000,  1.000], mean action: 0.545 [0.000, 1.000],  loss: 2.243330, mse: 132.476659, accuracy: 0.549716, mean_q: 16.508134, mean_eps: 0.788905\n",
            " 2414/5000: episode: 91, duration: 0.722s, episode steps:  57, steps per second:  79, episode reward: 57.000, mean reward:  1.000 [ 1.000,  1.000], mean action: 0.491 [0.000, 1.000],  loss: 2.332034, mse: 139.986299, accuracy: 0.541667, mean_q: 16.990824, mean_eps: 0.785350\n",
            " 2438/5000: episode: 92, duration: 0.307s, episode steps:  24, steps per second:  78, episode reward: 24.000, mean reward:  1.000 [ 1.000,  1.000], mean action: 0.542 [0.000, 1.000],  loss: 1.782592, mse: 146.214313, accuracy: 0.522135, mean_q: 17.371857, mean_eps: 0.781705\n",
            " 2488/5000: episode: 93, duration: 0.639s, episode steps:  50, steps per second:  78, episode reward: 50.000, mean reward:  1.000 [ 1.000,  1.000], mean action: 0.500 [0.000, 1.000],  loss: 2.024480, mse: 151.960384, accuracy: 0.510625, mean_q: 17.705922, mean_eps: 0.778375\n",
            " 2594/5000: episode: 94, duration: 1.401s, episode steps: 106, steps per second:  76, episode reward: 106.000, mean reward:  1.000 [ 1.000,  1.000], mean action: 0.491 [0.000, 1.000],  loss: 2.062635, mse: 161.600064, accuracy: 0.538031, mean_q: 18.326931, mean_eps: 0.771355\n",
            " 2620/5000: episode: 95, duration: 0.351s, episode steps:  26, steps per second:  74, episode reward: 26.000, mean reward:  1.000 [ 1.000,  1.000], mean action: 0.577 [0.000, 1.000],  loss: 2.498490, mse: 170.944323, accuracy: 0.542067, mean_q: 18.824241, mean_eps: 0.765415\n",
            " 2679/5000: episode: 96, duration: 0.755s, episode steps:  59, steps per second:  78, episode reward: 59.000, mean reward:  1.000 [ 1.000,  1.000], mean action: 0.542 [0.000, 1.000],  loss: 2.460017, mse: 176.721520, accuracy: 0.535487, mean_q: 19.149312, mean_eps: 0.761590\n",
            " 2733/5000: episode: 97, duration: 0.664s, episode steps:  54, steps per second:  81, episode reward: 54.000, mean reward:  1.000 [ 1.000,  1.000], mean action: 0.519 [0.000, 1.000],  loss: 2.742591, mse: 183.732112, accuracy: 0.553241, mean_q: 19.559515, mean_eps: 0.756505\n",
            " 2763/5000: episode: 98, duration: 0.404s, episode steps:  30, steps per second:  74, episode reward: 30.000, mean reward:  1.000 [ 1.000,  1.000], mean action: 0.500 [0.000, 1.000],  loss: 3.013007, mse: 189.048086, accuracy: 0.550000, mean_q: 19.838062, mean_eps: 0.752725\n",
            " 2814/5000: episode: 99, duration: 0.667s, episode steps:  51, steps per second:  76, episode reward: 51.000, mean reward:  1.000 [ 1.000,  1.000], mean action: 0.412 [0.000, 1.000],  loss: 3.056021, mse: 193.639341, accuracy: 0.548407, mean_q: 20.055614, mean_eps: 0.749080\n",
            " 2836/5000: episode: 100, duration: 0.279s, episode steps:  22, steps per second:  79, episode reward: 22.000, mean reward:  1.000 [ 1.000,  1.000], mean action: 0.500 [0.000, 1.000],  loss: 2.587389, mse: 204.606647, accuracy: 0.541193, mean_q: 20.579705, mean_eps: 0.745795\n",
            " 2902/5000: episode: 101, duration: 0.842s, episode steps:  66, steps per second:  78, episode reward: 66.000, mean reward:  1.000 [ 1.000,  1.000], mean action: 0.500 [0.000, 1.000],  loss: 3.016630, mse: 203.905196, accuracy: 0.551610, mean_q: 20.568928, mean_eps: 0.741835\n",
            " 2915/5000: episode: 102, duration: 0.162s, episode steps:  13, steps per second:  80, episode reward: 13.000, mean reward:  1.000 [ 1.000,  1.000], mean action: 0.615 [0.000, 1.000],  loss: 2.206436, mse: 210.978892, accuracy: 0.593750, mean_q: 21.052791, mean_eps: 0.738280\n",
            " 2932/5000: episode: 103, duration: 0.235s, episode steps:  17, steps per second:  72, episode reward: 17.000, mean reward:  1.000 [ 1.000,  1.000], mean action: 0.588 [0.000, 1.000],  loss: 2.691529, mse: 215.805926, accuracy: 0.525735, mean_q: 21.185505, mean_eps: 0.736930\n",
            " 2993/5000: episode: 104, duration: 0.739s, episode steps:  61, steps per second:  83, episode reward: 61.000, mean reward:  1.000 [ 1.000,  1.000], mean action: 0.508 [0.000, 1.000],  loss: 2.528386, mse: 221.246932, accuracy: 0.565574, mean_q: 21.502974, mean_eps: 0.733420\n",
            " 3091/5000: episode: 105, duration: 1.197s, episode steps:  98, steps per second:  82, episode reward: 98.000, mean reward:  1.000 [ 1.000,  1.000], mean action: 0.480 [0.000, 1.000],  loss: 2.458888, mse: 236.347377, accuracy: 0.554847, mean_q: 22.159837, mean_eps: 0.726265\n",
            " 3120/5000: episode: 106, duration: 0.349s, episode steps:  29, steps per second:  83, episode reward: 29.000, mean reward:  1.000 [ 1.000,  1.000], mean action: 0.517 [0.000, 1.000],  loss: 2.728991, mse: 250.067989, accuracy: 0.548491, mean_q: 22.835586, mean_eps: 0.720550\n",
            " 3153/5000: episode: 107, duration: 0.578s, episode steps:  33, steps per second:  57, episode reward: 33.000, mean reward:  1.000 [ 1.000,  1.000], mean action: 0.485 [0.000, 1.000],  loss: 3.315890, mse: 245.581388, accuracy: 0.535038, mean_q: 22.532721, mean_eps: 0.717760\n",
            " 3173/5000: episode: 108, duration: 0.398s, episode steps:  20, steps per second:  50, episode reward: 20.000, mean reward:  1.000 [ 1.000,  1.000], mean action: 0.500 [0.000, 1.000],  loss: 2.391300, mse: 247.871655, accuracy: 0.545312, mean_q: 22.728684, mean_eps: 0.715375\n",
            " 3203/5000: episode: 109, duration: 0.578s, episode steps:  30, steps per second:  52, episode reward: 30.000, mean reward:  1.000 [ 1.000,  1.000], mean action: 0.400 [0.000, 1.000],  loss: 2.249779, mse: 261.476791, accuracy: 0.551042, mean_q: 23.357942, mean_eps: 0.713125\n",
            " 3263/5000: episode: 110, duration: 1.137s, episode steps:  60, steps per second:  53, episode reward: 60.000, mean reward:  1.000 [ 1.000,  1.000], mean action: 0.600 [0.000, 1.000],  loss: 2.930762, mse: 267.791775, accuracy: 0.547917, mean_q: 23.616670, mean_eps: 0.709075\n",
            " 3315/5000: episode: 111, duration: 0.999s, episode steps:  52, steps per second:  52, episode reward: 52.000, mean reward:  1.000 [ 1.000,  1.000], mean action: 0.519 [0.000, 1.000],  loss: 3.273605, mse: 271.488868, accuracy: 0.563101, mean_q: 23.782706, mean_eps: 0.704035\n",
            " 3390/5000: episode: 112, duration: 1.444s, episode steps:  75, steps per second:  52, episode reward: 75.000, mean reward:  1.000 [ 1.000,  1.000], mean action: 0.533 [0.000, 1.000],  loss: 2.887916, mse: 285.971145, accuracy: 0.548750, mean_q: 24.429229, mean_eps: 0.698320\n",
            " 3441/5000: episode: 113, duration: 1.005s, episode steps:  51, steps per second:  51, episode reward: 51.000, mean reward:  1.000 [ 1.000,  1.000], mean action: 0.412 [0.000, 1.000],  loss: 2.515373, mse: 300.454865, accuracy: 0.556373, mean_q: 25.059757, mean_eps: 0.692650\n",
            " 3526/5000: episode: 114, duration: 1.271s, episode steps:  85, steps per second:  67, episode reward: 85.000, mean reward:  1.000 [ 1.000,  1.000], mean action: 0.494 [0.000, 1.000],  loss: 3.385338, mse: 310.571483, accuracy: 0.561765, mean_q: 25.414785, mean_eps: 0.686530\n",
            " 3536/5000: episode: 115, duration: 0.136s, episode steps:  10, steps per second:  73, episode reward: 10.000, mean reward:  1.000 [ 1.000,  1.000], mean action: 0.600 [0.000, 1.000],  loss: 3.071375, mse: 315.745572, accuracy: 0.603125, mean_q: 25.719743, mean_eps: 0.682255\n",
            " 3571/5000: episode: 116, duration: 0.443s, episode steps:  35, steps per second:  79, episode reward: 35.000, mean reward:  1.000 [ 1.000,  1.000], mean action: 0.514 [0.000, 1.000],  loss: 3.263073, mse: 324.844797, accuracy: 0.550893, mean_q: 25.964831, mean_eps: 0.680230\n",
            " 3587/5000: episode: 117, duration: 0.223s, episode steps:  16, steps per second:  72, episode reward: 16.000, mean reward:  1.000 [ 1.000,  1.000], mean action: 0.562 [0.000, 1.000],  loss: 2.374383, mse: 319.770931, accuracy: 0.539062, mean_q: 25.742193, mean_eps: 0.677935\n",
            " 3683/5000: episode: 118, duration: 1.190s, episode steps:  96, steps per second:  81, episode reward: 96.000, mean reward:  1.000 [ 1.000,  1.000], mean action: 0.479 [0.000, 1.000],  loss: 3.552319, mse: 334.548895, accuracy: 0.570964, mean_q: 26.327997, mean_eps: 0.672895\n",
            " 3734/5000: episode: 119, duration: 0.645s, episode steps:  51, steps per second:  79, episode reward: 51.000, mean reward:  1.000 [ 1.000,  1.000], mean action: 0.569 [0.000, 1.000],  loss: 3.053179, mse: 347.959766, accuracy: 0.584559, mean_q: 26.919705, mean_eps: 0.666280\n",
            " 3865/5000: episode: 120, duration: 1.581s, episode steps: 131, steps per second:  83, episode reward: 131.000, mean reward:  1.000 [ 1.000,  1.000], mean action: 0.496 [0.000, 1.000],  loss: 3.055275, mse: 370.050014, accuracy: 0.554628, mean_q: 27.740223, mean_eps: 0.658090\n",
            " 4041/5000: episode: 121, duration: 2.096s, episode steps: 176, steps per second:  84, episode reward: 176.000, mean reward:  1.000 [ 1.000,  1.000], mean action: 0.494 [0.000, 1.000],  loss: 3.083021, mse: 400.597527, accuracy: 0.575639, mean_q: 28.878423, mean_eps: 0.644275\n",
            " 4089/5000: episode: 122, duration: 0.591s, episode steps:  48, steps per second:  81, episode reward: 48.000, mean reward:  1.000 [ 1.000,  1.000], mean action: 0.479 [0.000, 1.000],  loss: 2.893645, mse: 429.690067, accuracy: 0.571615, mean_q: 30.035099, mean_eps: 0.634195\n",
            " 4149/5000: episode: 123, duration: 0.715s, episode steps:  60, steps per second:  84, episode reward: 60.000, mean reward:  1.000 [ 1.000,  1.000], mean action: 0.500 [0.000, 1.000],  loss: 3.418540, mse: 441.364545, accuracy: 0.568229, mean_q: 30.335985, mean_eps: 0.629335\n",
            " 4274/5000: episode: 124, duration: 1.479s, episode steps: 125, steps per second:  85, episode reward: 125.000, mean reward:  1.000 [ 1.000,  1.000], mean action: 0.496 [0.000, 1.000],  loss: 2.727192, mse: 466.143267, accuracy: 0.571000, mean_q: 31.288941, mean_eps: 0.621010\n",
            " 4338/5000: episode: 125, duration: 1.108s, episode steps:  64, steps per second:  58, episode reward: 64.000, mean reward:  1.000 [ 1.000,  1.000], mean action: 0.516 [0.000, 1.000],  loss: 3.327834, mse: 486.437596, accuracy: 0.567383, mean_q: 31.961246, mean_eps: 0.612505\n",
            " 4384/5000: episode: 126, duration: 0.890s, episode steps:  46, steps per second:  52, episode reward: 46.000, mean reward:  1.000 [ 1.000,  1.000], mean action: 0.500 [0.000, 1.000],  loss: 3.453556, mse: 505.322116, accuracy: 0.569973, mean_q: 32.472634, mean_eps: 0.607555\n",
            " 4427/5000: episode: 127, duration: 0.848s, episode steps:  43, steps per second:  51, episode reward: 43.000, mean reward:  1.000 [ 1.000,  1.000], mean action: 0.442 [0.000, 1.000],  loss: 3.605419, mse: 521.260189, accuracy: 0.590843, mean_q: 33.119103, mean_eps: 0.603550\n",
            " 4451/5000: episode: 128, duration: 0.485s, episode steps:  24, steps per second:  50, episode reward: 24.000, mean reward:  1.000 [ 1.000,  1.000], mean action: 0.542 [0.000, 1.000],  loss: 2.862902, mse: 519.329328, accuracy: 0.536458, mean_q: 33.070456, mean_eps: 0.600535\n",
            " 4720/5000: episode: 129, duration: 4.430s, episode steps: 269, steps per second:  61, episode reward: 269.000, mean reward:  1.000 [ 1.000,  1.000], mean action: 0.502 [0.000, 1.000],  loss: 3.689709, mse: 573.255986, accuracy: 0.574117, mean_q: 34.699454, mean_eps: 0.587350\n",
            " 4866/5000: episode: 130, duration: 1.802s, episode steps: 146, steps per second:  81, episode reward: 146.000, mean reward:  1.000 [ 1.000,  1.000], mean action: 0.500 [0.000, 1.000],  loss: 3.673182, mse: 639.684462, accuracy: 0.579195, mean_q: 36.694260, mean_eps: 0.568675\n",
            "done, took 86.859 seconds\n"
          ]
        }
      ],
      "source": [
        "#Finally fit and train the agent\n",
        "history = dqn.fit(env, nb_steps=5000, visualize=False, verbose=10)\n",
        "#dqn.save_weights('dqn_weights.h5f', overwrite=True)\n",
        "#dqn.load_weights('dqn_weights.h5f')"
      ]
    },
    {
      "cell_type": "code",
      "execution_count": null,
      "metadata": {
        "id": "4b4da49a"
      },
      "outputs": [],
      "source": [
        "\"\"\"\n",
        "action = 0\n",
        "observation, reward, done, info = env.step(action)\n",
        "print(\"Observations after action: \", observation)\n",
        "print(\"Reward for this step: \", reward)\n",
        "print(\"Episode Completion: \", done)\n",
        "\n",
        "\n",
        "\"\"\"\n"
      ]
    },
    {
      "cell_type": "code",
      "execution_count": 22,
      "metadata": {
        "colab": {
          "base_uri": "https://localhost:8080/",
          "height": 583
        },
        "id": "306acdfd",
        "outputId": "266a86df-c6e4-49ea-810d-600dec63b302"
      },
      "outputs": [
        {
          "data": {
            "image/png": "[encoded data removed]",
            "text/plain": [
              "<Figure size 1296x720 with 1 Axes>"
            ]
          },
          "metadata": {
            "needs_background": "light"
          },
          "output_type": "display_data"
        }
      ],
      "source": [
        "# Visualize the history for number of Training episode steps of the Cart Pole Game\n",
        "plt.figure(figsize = (18,10))\n",
        "plt.plot(history.history['nb_episode_steps'])\n",
        "plt.ylabel('nb_episode_steps')\n",
        "plt.xlabel('episodes')\n",
        "plt.show()\n"
      ]
    },
    {
      "cell_type": "code",
      "execution_count": 23,
      "metadata": {
        "colab": {
          "base_uri": "https://localhost:8080/"
        },
        "id": "22856561",
        "outputId": "190d8e73-0a2c-4ac8-f7ef-f366fbc94fbd"
      },
      "outputs": [
        {
          "name": "stdout",
          "output_type": "stream",
          "text": [
            "Testing for 100 episodes ...\n",
            "Episode 1: reward: 223.000, steps: 223\n",
            "Episode 2: reward: 350.000, steps: 350\n",
            "Episode 3: reward: 217.000, steps: 217\n",
            "Episode 4: reward: 264.000, steps: 264\n",
            "Episode 5: reward: 209.000, steps: 209\n",
            "Episode 6: reward: 222.000, steps: 222\n",
            "Episode 7: reward: 186.000, steps: 186\n",
            "Episode 8: reward: 498.000, steps: 498\n",
            "Episode 9: reward: 223.000, steps: 223\n",
            "Episode 10: reward: 243.000, steps: 243\n",
            "Episode 11: reward: 500.000, steps: 500\n",
            "Episode 12: reward: 250.000, steps: 250\n",
            "Episode 13: reward: 365.000, steps: 365\n",
            "Episode 14: reward: 415.000, steps: 415\n",
            "Episode 15: reward: 211.000, steps: 211\n",
            "Episode 16: reward: 223.000, steps: 223\n",
            "Episode 17: reward: 500.000, steps: 500\n",
            "Episode 18: reward: 182.000, steps: 182\n",
            "Episode 19: reward: 193.000, steps: 193\n",
            "Episode 20: reward: 416.000, steps: 416\n",
            "Episode 21: reward: 337.000, steps: 337\n",
            "Episode 22: reward: 327.000, steps: 327\n",
            "Episode 23: reward: 319.000, steps: 319\n",
            "Episode 24: reward: 202.000, steps: 202\n",
            "Episode 25: reward: 366.000, steps: 366\n",
            "Episode 26: reward: 206.000, steps: 206\n",
            "Episode 27: reward: 500.000, steps: 500\n",
            "Episode 28: reward: 439.000, steps: 439\n",
            "Episode 29: reward: 299.000, steps: 299\n",
            "Episode 30: reward: 217.000, steps: 217\n",
            "Episode 31: reward: 191.000, steps: 191\n",
            "Episode 32: reward: 221.000, steps: 221\n",
            "Episode 33: reward: 276.000, steps: 276\n",
            "Episode 34: reward: 242.000, steps: 242\n",
            "Episode 35: reward: 277.000, steps: 277\n",
            "Episode 36: reward: 500.000, steps: 500\n",
            "Episode 37: reward: 237.000, steps: 237\n",
            "Episode 38: reward: 396.000, steps: 396\n",
            "Episode 39: reward: 205.000, steps: 205\n",
            "Episode 40: reward: 500.000, steps: 500\n",
            "Episode 41: reward: 270.000, steps: 270\n",
            "Episode 42: reward: 500.000, steps: 500\n",
            "Episode 43: reward: 406.000, steps: 406\n",
            "Episode 44: reward: 287.000, steps: 287\n",
            "Episode 45: reward: 422.000, steps: 422\n",
            "Episode 46: reward: 286.000, steps: 286\n",
            "Episode 47: reward: 481.000, steps: 481\n",
            "Episode 48: reward: 284.000, steps: 284\n",
            "Episode 49: reward: 319.000, steps: 319\n",
            "Episode 50: reward: 266.000, steps: 266\n",
            "Episode 51: reward: 378.000, steps: 378\n",
            "Episode 52: reward: 369.000, steps: 369\n",
            "Episode 53: reward: 352.000, steps: 352\n",
            "Episode 54: reward: 500.000, steps: 500\n",
            "Episode 55: reward: 489.000, steps: 489\n",
            "Episode 56: reward: 212.000, steps: 212\n",
            "Episode 57: reward: 469.000, steps: 469\n",
            "Episode 58: reward: 194.000, steps: 194\n",
            "Episode 59: reward: 315.000, steps: 315\n",
            "Episode 60: reward: 445.000, steps: 445\n",
            "Episode 61: reward: 393.000, steps: 393\n",
            "Episode 62: reward: 500.000, steps: 500\n",
            "Episode 63: reward: 269.000, steps: 269\n",
            "Episode 64: reward: 345.000, steps: 345\n",
            "Episode 65: reward: 273.000, steps: 273\n",
            "Episode 66: reward: 243.000, steps: 243\n",
            "Episode 67: reward: 409.000, steps: 409\n",
            "Episode 68: reward: 244.000, steps: 244\n",
            "Episode 69: reward: 432.000, steps: 432\n",
            "Episode 70: reward: 329.000, steps: 329\n",
            "Episode 71: reward: 385.000, steps: 385\n",
            "Episode 72: reward: 500.000, steps: 500\n",
            "Episode 73: reward: 500.000, steps: 500\n",
            "Episode 74: reward: 500.000, steps: 500\n",
            "Episode 75: reward: 375.000, steps: 375\n",
            "Episode 76: reward: 220.000, steps: 220\n",
            "Episode 77: reward: 376.000, steps: 376\n",
            "Episode 78: reward: 213.000, steps: 213\n",
            "Episode 79: reward: 393.000, steps: 393\n",
            "Episode 80: reward: 308.000, steps: 308\n",
            "Episode 81: reward: 362.000, steps: 362\n",
            "Episode 82: reward: 409.000, steps: 409\n",
            "Episode 83: reward: 485.000, steps: 485\n",
            "Episode 84: reward: 259.000, steps: 259\n",
            "Episode 85: reward: 253.000, steps: 253\n",
            "Episode 86: reward: 350.000, steps: 350\n",
            "Episode 87: reward: 380.000, steps: 380\n",
            "Episode 88: reward: 414.000, steps: 414\n",
            "Episode 89: reward: 175.000, steps: 175\n",
            "Episode 90: reward: 242.000, steps: 242\n",
            "Episode 91: reward: 274.000, steps: 274\n",
            "Episode 92: reward: 386.000, steps: 386\n",
            "Episode 93: reward: 301.000, steps: 301\n",
            "Episode 94: reward: 312.000, steps: 312\n",
            "Episode 95: reward: 314.000, steps: 314\n",
            "Episode 96: reward: 268.000, steps: 268\n",
            "Episode 97: reward: 500.000, steps: 500\n",
            "Episode 98: reward: 491.000, steps: 491\n",
            "Episode 99: reward: 290.000, steps: 290\n",
            "Episode 100: reward: 242.000, steps: 242\n"
          ]
        },
        {
          "data": {
            "text/plain": [
              "<keras.callbacks.History at 0x7f25a8f69a00>"
            ]
          },
          "execution_count": 23,
          "metadata": {},
          "output_type": "execute_result"
        }
      ],
      "source": [
        "# Finally, evaluate and test our algorithm for 100 episodes.\n",
        "dqn.test(env, nb_episodes=100, visualize=False)"
      ]
    },
    {
      "cell_type": "code",
      "execution_count": 24,
      "metadata": {
        "id": "ca311154"
      },
      "outputs": [],
      "source": [
        "# After training is done, we save the final weights.\n",
        "dqn.save_weights('dqn_weights.h5f', overwrite=False)"
      ]
    },
    {
      "cell_type": "code",
      "execution_count": 25,
      "metadata": {
        "colab": {
          "base_uri": "https://localhost:8080/"
        },
        "id": "c05f5658",
        "outputId": "8a11485b-0a6b-4603-a891-67ed08cad526"
      },
      "outputs": [
        {
          "name": "stdout",
          "output_type": "stream",
          "text": [
            "Observation:  [-0.03392113 -0.01289593  0.03837207  0.00320809]\n",
            "Chosen action:  1\n",
            "Observations after action:  [-0.03417905  0.1816553   0.03843623 -0.27712533]\n",
            "Reward for this step:  1.0\n",
            "Episode Completion:  False\n"
          ]
        }
      ],
      "source": [
        "observation = env.reset()\n",
        "dqn.load_weights('dqn_weights.h5f')\n",
        "action = dqn.forward(observation)\n",
        "\n",
        "print(\"Observation: \", observation)\n",
        "print(\"Chosen action: \", action)\n",
        "\n",
        "new_observation, reward, done, info = env.step(action)\n",
        "print(\"Observations after action: \", new_observation)\n",
        "print(\"Reward for this step: \", reward)\n",
        "print(\"Episode Completion: \", done)"
      ]
    },
    {
      "cell_type": "markdown",
      "metadata": {
        "id": "b8a1c678"
      },
      "source": [
        "## Task 2"
      ]
    },
    {
      "cell_type": "markdown",
      "metadata": {
        "id": "eae724e8"
      },
      "source": [
        "Each Episode comprises of multiple steps. The environment is reset at the start of each episode as required. Next, the Agent makes the forward step based on the observation, before updating the new episode reward and observation for the next step. This continues until the termination criteria or truncation value of 500. Each cumulative reward is stored in a list and mapped out in the graph."
      ]
    },
    {
      "cell_type": "code",
      "execution_count": 26,
      "metadata": {
        "colab": {
          "base_uri": "https://localhost:8080/"
        },
        "id": "e8277289",
        "outputId": "10140222-cfaa-4af7-d665-0055c57e0fa6"
      },
      "outputs": [
        {
          "name": "stdout",
          "output_type": "stream",
          "text": [
            "Episode: 1  Cumulative reward:  272.0\n",
            "Episode: 2  Cumulative reward:  500.0\n",
            "Episode: 3  Cumulative reward:  207.0\n",
            "Episode: 4  Cumulative reward:  361.0\n",
            "Episode: 5  Cumulative reward:  227.0\n",
            "Episode: 6  Cumulative reward:  243.0\n",
            "Episode: 7  Cumulative reward:  255.0\n",
            "Episode: 8  Cumulative reward:  408.0\n",
            "Episode: 9  Cumulative reward:  449.0\n",
            "Episode: 10  Cumulative reward:  375.0\n",
            "Episode: 11  Cumulative reward:  246.0\n",
            "Episode: 12  Cumulative reward:  358.0\n",
            "Episode: 13  Cumulative reward:  264.0\n",
            "Episode: 14  Cumulative reward:  326.0\n",
            "Episode: 15  Cumulative reward:  500.0\n",
            "Episode: 16  Cumulative reward:  193.0\n",
            "Episode: 17  Cumulative reward:  443.0\n",
            "Episode: 18  Cumulative reward:  391.0\n",
            "Episode: 19  Cumulative reward:  307.0\n",
            "Episode: 20  Cumulative reward:  471.0\n",
            "Episode: 21  Cumulative reward:  415.0\n",
            "Episode: 22  Cumulative reward:  364.0\n",
            "Episode: 23  Cumulative reward:  339.0\n",
            "Episode: 24  Cumulative reward:  363.0\n",
            "Episode: 25  Cumulative reward:  341.0\n",
            "Episode: 26  Cumulative reward:  310.0\n",
            "Episode: 27  Cumulative reward:  318.0\n",
            "Episode: 28  Cumulative reward:  221.0\n",
            "Episode: 29  Cumulative reward:  196.0\n",
            "Episode: 30  Cumulative reward:  213.0\n",
            "Episode: 31  Cumulative reward:  291.0\n",
            "Episode: 32  Cumulative reward:  347.0\n",
            "Episode: 33  Cumulative reward:  409.0\n",
            "Episode: 34  Cumulative reward:  301.0\n",
            "Episode: 35  Cumulative reward:  462.0\n",
            "Episode: 36  Cumulative reward:  230.0\n",
            "Episode: 37  Cumulative reward:  500.0\n",
            "Episode: 38  Cumulative reward:  256.0\n",
            "Episode: 39  Cumulative reward:  233.0\n",
            "Episode: 40  Cumulative reward:  319.0\n",
            "Episode: 41  Cumulative reward:  181.0\n",
            "Episode: 42  Cumulative reward:  340.0\n",
            "Episode: 43  Cumulative reward:  353.0\n",
            "Episode: 44  Cumulative reward:  269.0\n",
            "Episode: 45  Cumulative reward:  439.0\n",
            "Episode: 46  Cumulative reward:  479.0\n",
            "Episode: 47  Cumulative reward:  380.0\n",
            "Episode: 48  Cumulative reward:  180.0\n",
            "Episode: 49  Cumulative reward:  254.0\n",
            "Episode: 50  Cumulative reward:  247.0\n",
            "Episode: 51  Cumulative reward:  234.0\n",
            "Episode: 52  Cumulative reward:  368.0\n",
            "Episode: 53  Cumulative reward:  203.0\n",
            "Episode: 54  Cumulative reward:  217.0\n",
            "Episode: 55  Cumulative reward:  287.0\n",
            "Episode: 56  Cumulative reward:  354.0\n",
            "Episode: 57  Cumulative reward:  251.0\n",
            "Episode: 58  Cumulative reward:  259.0\n",
            "Episode: 59  Cumulative reward:  205.0\n",
            "Episode: 60  Cumulative reward:  468.0\n",
            "Episode: 61  Cumulative reward:  414.0\n",
            "Episode: 62  Cumulative reward:  289.0\n",
            "Episode: 63  Cumulative reward:  220.0\n",
            "Episode: 64  Cumulative reward:  185.0\n",
            "Episode: 65  Cumulative reward:  318.0\n",
            "Episode: 66  Cumulative reward:  227.0\n",
            "Episode: 67  Cumulative reward:  407.0\n",
            "Episode: 68  Cumulative reward:  287.0\n",
            "Episode: 69  Cumulative reward:  227.0\n",
            "Episode: 70  Cumulative reward:  194.0\n",
            "Episode: 71  Cumulative reward:  332.0\n",
            "Episode: 72  Cumulative reward:  487.0\n",
            "Episode: 73  Cumulative reward:  278.0\n",
            "Episode: 74  Cumulative reward:  500.0\n",
            "Episode: 75  Cumulative reward:  182.0\n",
            "Episode: 76  Cumulative reward:  259.0\n",
            "Episode: 77  Cumulative reward:  194.0\n",
            "Episode: 78  Cumulative reward:  355.0\n",
            "Episode: 79  Cumulative reward:  424.0\n",
            "Episode: 80  Cumulative reward:  331.0\n",
            "Episode: 81  Cumulative reward:  287.0\n",
            "Episode: 82  Cumulative reward:  397.0\n",
            "Episode: 83  Cumulative reward:  391.0\n",
            "Episode: 84  Cumulative reward:  308.0\n",
            "Episode: 85  Cumulative reward:  400.0\n",
            "Episode: 86  Cumulative reward:  322.0\n",
            "Episode: 87  Cumulative reward:  226.0\n",
            "Episode: 88  Cumulative reward:  248.0\n",
            "Episode: 89  Cumulative reward:  307.0\n",
            "Episode: 90  Cumulative reward:  200.0\n",
            "Episode: 91  Cumulative reward:  201.0\n",
            "Episode: 92  Cumulative reward:  285.0\n",
            "Episode: 93  Cumulative reward:  470.0\n",
            "Episode: 94  Cumulative reward:  319.0\n",
            "Episode: 95  Cumulative reward:  376.0\n",
            "Episode: 96  Cumulative reward:  187.0\n",
            "Episode: 97  Cumulative reward:  305.0\n",
            "Episode: 98  Cumulative reward:  262.0\n",
            "Episode: 99  Cumulative reward:  299.0\n",
            "Episode: 100  Cumulative reward:  299.0\n"
          ]
        }
      ],
      "source": [
        "num_episodes = 100\n",
        "episode_results = []\n",
        "dqn.load_weights('dqn_weights.h5f')\n",
        "for i in range(1,num_episodes+1):\n",
        "    # Reset environment at the beginning of each episode\n",
        "    observation = env.reset()\n",
        "    cumulative_reward = 0\n",
        "    done = False\n",
        "\n",
        "    while not done:\n",
        "        # Agent takes action based on observation\n",
        "        action = dqn.forward(observation)\n",
        "        \n",
        "        # Environment processes action and returns new observation, reward, and done flag\n",
        "        new_observation, reward, done, info = env.step(action)\n",
        "\n",
        "        # Update episode reward and observation for next step\n",
        "        observation = new_observation\n",
        "        cumulative_reward += reward\n",
        "        \n",
        "    print(\"Episode:\", i, \" Cumulative reward: \", cumulative_reward)\n",
        "    episode_results.append(cumulative_reward)"
      ]
    },
    {
      "cell_type": "code",
      "execution_count": 27,
      "metadata": {
        "colab": {
          "base_uri": "https://localhost:8080/",
          "height": 295
        },
        "id": "47225d21",
        "outputId": "4d051777-20b2-4e1b-a602-ccad14ecaf0f"
      },
      "outputs": [
        {
          "data": {
            "image/png": "[encoded data removed]",
            "text/plain": [
              "<Figure size 432x288 with 1 Axes>"
            ]
          },
          "metadata": {
            "needs_background": "light"
          },
          "output_type": "display_data"
        }
      ],
      "source": [
        "plt.plot(episode_results)\n",
        "plt.title('Cumulative reward for each episode')\n",
        "plt.ylabel('Cumulative reward')\n",
        "plt.xlabel('episode')\n",
        "plt.show()"
      ]
    },
    {
      "cell_type": "code",
      "execution_count": 28,
      "metadata": {
        "colab": {
          "base_uri": "https://localhost:8080/"
        },
        "id": "cdfebdd5",
        "outputId": "eb09a63d-0ca3-4ce7-a3ce-e69619f254bc"
      },
      "outputs": [
        {
          "name": "stdout",
          "output_type": "stream",
          "text": [
            "Average cumulative reward: 313.91\n",
            "Is my agent good enough? True\n"
          ]
        }
      ],
      "source": [
        "mean = sum(episode_results) / len(episode_results)\n",
        "print(\"Average cumulative reward:\", mean)\n",
        "print(\"Is my agent good enough?\", mean > 195)"
      ]
    },
    {
      "cell_type": "markdown",
      "metadata": {
        "id": "1a401987"
      },
      "source": [
        "## Task 3"
      ]
    },
    {
      "cell_type": "code",
      "execution_count": 29,
      "metadata": {
        "colab": {
          "base_uri": "https://localhost:8080/",
          "height": 421
        },
        "id": "44bfaa04",
        "outputId": "e891ff57-c705-4625-88b2-af78bea90a73"
      },
      "outputs": [
        {
          "data": {
            "text/html": [
              "<video alt=\"test\" autoplay \n",
              "                loop controls style=\"height: 400px;\">\n",
              "                <source src=\"data:video/mp4;base64,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\" type=\"video/mp4\" />\n",
              "             </video>"
            ],
            "text/plain": [
              "<IPython.core.display.HTML object>"
            ]
          },
          "metadata": {},
          "output_type": "display_data"
        }
      ],
      "source": [
        "env = RecordVideo(gym.make(\"CartPole-v1\"), \"./video\")\n",
        "observation = env.reset()\n",
        "while True:\n",
        "    env.render()\n",
        "    #your agent goes here\n",
        "    action = dqn.forward(observation)\n",
        "    observation, reward, done, info = env.step(action) \n",
        "    if done: \n",
        "      break;    \n",
        "env.close()\n",
        "show_video()"
      ]
    },
    {
      "cell_type": "code",
      "execution_count": null,
      "metadata": {
        "id": "cdc81c27"
      },
      "outputs": [],
      "source": []
    },
    {
      "cell_type": "code",
      "execution_count": null,
      "metadata": {
        "id": "14ffd533"
      },
      "outputs": [],
      "source": []
    },
    {
      "cell_type": "code",
      "execution_count": null,
      "metadata": {
        "id": "993f40e0"
      },
      "outputs": [],
      "source": []
    },
    {
      "cell_type": "code",
      "execution_count": null,
      "metadata": {
        "id": "23588315"
      },
      "outputs": [],
      "source": []
    }
  ],
  "metadata": {
    "colab": {
      "provenance": []
    },
    "kernelspec": {
      "display_name": "Python 3",
      "name": "python3"
    },
    "language_info": {
      "name": "python"
    }
  },
  "nbformat": 4,
  "nbformat_minor": 0
}
